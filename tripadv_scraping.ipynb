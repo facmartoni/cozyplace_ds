{
 "cells": [
  {
   "cell_type": "code",
   "execution_count": 117,
   "metadata": {
    "scrolled": false
   },
   "outputs": [
    {
     "data": {
      "text/plain": [
       "['http://www.tripadvisor.com/Hotels',\n",
       " 'http://www.tripadvisor.com/Rentals',\n",
       " 'http://www.tripadvisor.com/Attractions',\n",
       " 'http://www.tripadvisor.com/Restaurants',\n",
       " 'http://www.tripadvisor.com/UserReview',\n",
       " 'http://www.tripadvisor.com/ForumHome']"
      ]
     },
     "execution_count": 117,
     "metadata": {},
     "output_type": "execute_result"
    }
   ],
   "source": [
    "import requests\n",
    "from bs4 import BeautifulSoup\n",
    "\n",
    "url_basic = 'http://www.tripadvisor.com'\n",
    "tripadv = requests.get(url_basic)\n",
    "s_trip = BeautifulSoup(tripadv.text, 'lxml')\n",
    "sections = s_trip.find_all('div', attrs={'class':'_2R--RBNa _39kFrNls _2PEEtTWK _3_rLKjCx _3wprI9Ge _1_nbwDp3'})\n",
    "\n",
    "links_sections = []\n",
    "for section in sections:\n",
    "    if section.find('a'):\n",
    "        links_sections.append('http://www.tripadvisor.com'+section.find('a').get('href'))\n",
    "\n",
    "#sections[0].find('a').get('href')\n",
    "#links_sections = [section.find('a').get('href') for section in sections]\n",
    "links_sections\n",
    "\n",
    "#¿more is a button what should i do?"
   ]
  },
  {
   "cell_type": "code",
   "execution_count": 18,
   "metadata": {},
   "outputs": [
    {
     "name": "stdout",
     "output_type": "stream",
     "text": [
      "None\n"
     ]
    }
   ],
   "source": [
    "sections_adv = s_trip.find('div', attrs={'class':'_27pk-lCQ'})\n",
    "print(sections_adv)"
   ]
  },
  {
   "cell_type": "markdown",
   "metadata": {},
   "source": [
    "## SCRAPING TOP DESTINATIONS"
   ]
  },
  {
   "cell_type": "code",
   "execution_count": 19,
   "metadata": {
    "scrolled": false
   },
   "outputs": [
    {
     "data": {
      "text/plain": [
       "['http://www.tripadvisor.com/Attractions-g31350-Activities-Scottsdale_Arizona.html',\n",
       " 'http://www.tripadvisor.com/Attractions-g32655-Activities-Los_Angeles_California.html',\n",
       " 'http://www.tripadvisor.com/Attractions-g45963-Activities-Las_Vegas_Nevada.html',\n",
       " 'http://www.tripadvisor.com/Attractions-g60745-Activities-Boston_Massachusetts.html']"
      ]
     },
     "execution_count": 19,
     "metadata": {},
     "output_type": "execute_result"
    }
   ],
   "source": [
    "url_attractions = 'https://www.tripadvisor.com/Attractions'\n",
    "attractions = requests.get(url_attractions)\n",
    "s_attract = BeautifulSoup(attractions.text, 'lxml')\n",
    "top_destinations = s_attract.find('div', attrs={'data-track-label':'popular_destinations'}).find_all('div', attrs={'class':'poi ui_shelf_item_container ui_geo_shelf_item'})\n",
    "links_top_attractions = []\n",
    "for destination in top_destinations:\n",
    "    if destination.find('a'):\n",
    "        links_top_attractions.append('http://www.tripadvisor.com'+destination.find('a').get('href'))\n",
    "        \n",
    "#links_top_attractions\n",
    "\n",
    "links_top_attractions\n",
    "\n"
   ]
  },
  {
   "cell_type": "code",
   "execution_count": 44,
   "metadata": {},
   "outputs": [],
   "source": [
    "def content_info(soup, activities_list_urls):\n",
    "    #for link in links_top_attractions:\n",
    "    dir_results = {}\n",
    "    try:\n",
    "        \n",
    "        #Extracting title\n",
    "        title = soup.find('div', attrs = {'class':'_1l9azAvU'})\n",
    "        if title is not None:\n",
    "            dir_results['title'] = title.h1.text\n",
    "            \n",
    "        else:\n",
    "            title = soup.find('div', attrs={'class':'display_center ui_container'})\n",
    "            if title is not None:\n",
    "                dir_results['title'] = title.h1.text\n",
    "            else:\n",
    "                dir_results['title'] = None\n",
    "        \n",
    "        #Extracting Activities\n",
    "        #fixed for Boston\n",
    "        activities = soup.find_all('span', attrs = {'class':'_2e_OvRJN'})\n",
    "                \n",
    "        #if activities is not None:\n",
    "        if len(activities) != 0:\n",
    "            activities_list = [activitie.h3.text for activitie in activities]\n",
    "            dir_results['activities'] = activities_list\n",
    "        else:  \n",
    "          \n",
    "            activities = soup.find_all('div', attrs = {'class':'_1lY2qyk3'})\n",
    "            \n",
    "            if activities is not None:\n",
    "                activities_list = [activitie.h3.text for activitie in activities]\n",
    "                dir_results['activities'] = activities_list\n",
    "            else:\n",
    "                dir_results['activities'] = None\n",
    "                \n",
    "        #Extracting Images\n",
    "        \n",
    "        images_media = soup.find_all('a', attrs={'class':'_1zqXepI-'})\n",
    "        \n",
    "        if len(images_media) != 0:\n",
    "            images = [img.find('img').get('data-url') for img in images_media]\n",
    "            dir_results['images'] = [img_fin.replace('https','http') for img_fin in images]\n",
    "        else:\n",
    "            images_media = soup.find_all('a', attrs={'class':'_1o7ZDa9J'})\n",
    "            if images_media:\n",
    "                images = [img.img.get('data-url') for img in images_media]\n",
    "                dir_results['images'] = [img_fin.replace('https','http') for img_fin in images]\n",
    "            \n",
    "            else:\n",
    "                dir_results['images'] = None\n",
    "        \n",
    "        #Extracting Content\n",
    "        \n",
    "        \n",
    "        content_overview = get_content(activities_list_urls)\n",
    "        if content_overview:\n",
    "            dir_results['overviews'] = content_overview\n",
    "        else:\n",
    "            dir_results['overviews'] = None\n",
    "        \n",
    "            \n",
    "        \n",
    "        #print(dir_results)\n",
    "      \n",
    "        return dir_results\n",
    "                                         \n",
    "          \n",
    "    except Exception as e:\n",
    "        print('Error')\n",
    "        print(e)\n",
    "        print('\\n')\n",
    "        \n",
    "\n",
    " "
   ]
  },
  {
   "cell_type": "markdown",
   "metadata": {},
   "source": [
    "## GET CONTENT"
   ]
  },
  {
   "cell_type": "code",
   "execution_count": 114,
   "metadata": {},
   "outputs": [],
   "source": [
    "\n",
    "\n",
    "def get_links_activities(url_city):\n",
    "    r_url_city = requests.get(url_city)\n",
    "    if r_url_city.status_code == 200:\n",
    "        s_city =  BeautifulSoup(r_url_city.text, 'lxml')\n",
    "        activities_class = s_city.find_all('div', attrs={'class':'_1sXmOkVY'})\n",
    "        links_activities = [(url_basic+activity.find('a').get('href')) for activity in activities_class]\n",
    "                            #.replace('https','http') for activity in activities_class]\n",
    "    \n",
    "    return links_activities\n",
    "    \n",
    "\n",
    "def get_content(activities_list):\n",
    "    activities_overview = []\n",
    "    for activity in activities_list:\n",
    "        r_activity = requests.get(activity)\n",
    "        if r_activity.status_code == 200:\n",
    "            r_activity_soup = BeautifulSoup(r_activity.text,'lxml')\n",
    "            activity_content =  r_activity_soup.find('div', attrs={'class':'AvpaRatK'})\n",
    "            if activity_content:\n",
    "                activities_overview.append(activity_content.find('span').text)\n",
    "            else:\n",
    "                activities_overview.append('Activity N/A')\n",
    "            \n",
    "    \n",
    "    return activities_overview\n",
    "        \n",
    "        #links_Activities =  s_content_activities.find\n",
    "        "
   ]
  },
  {
   "cell_type": "code",
   "execution_count": 60,
   "metadata": {
    "collapsed": true
   },
   "outputs": [
    {
     "name": "stdout",
     "output_type": "stream",
     "text": [
      "['https://www.tripadvisor.com/AttractionProductReview-g45963-d12152754-The_High_Roller_at_The_LINQ_Ticket-Las_Vegas_Nevada.html', 'https://www.tripadvisor.com/AttractionProductReview-g45963-d11451833-Las_Vegas_Helicopter_Night_Flight_with_Optional_VIP_Transportation-Las_Vegas_Nevada.html', 'https://www.tripadvisor.com/AttractionProductReview-g45963-d11449287-Las_Vegas_Super_Saver_Madame_Tussauds_with_Gondola_Boat_Ride-Las_Vegas_Nevada.html', 'https://www.tripadvisor.com/AttractionProductReview-g45963-d15358897-Fly_LINQ_Zipline_at_The_LINQ-Las_Vegas_Nevada.html', 'https://www.tripadvisor.com/AttractionProductReview-g45963-d11461471-Grand_Canyon_West_Rim_with_Optional_Skywalk_Ticket_and_Hoover_Dam_Photo_Stop-Las_Ve.html', 'https://www.tripadvisor.com/AttractionProductReview-g45963-d15658319-Emerald_Cave_Kayak_Tour_on_The_Colorado_River_from_Las_Vegas-Las_Vegas_Nevada.html', 'https://www.tripadvisor.com/AttractionProductReview-g45963-d21208919-Masters_of_Magic_Show_Tickets_at_Las_Vegas_Magic_Theater-Las_Vegas_Nevada.html', 'https://www.tripadvisor.com/AttractionProductReview-g45963-d11450628-Big_Bus_Las_Vegas_Hop_On_Hop_Off_Tour-Las_Vegas_Nevada.html', 'https://www.tripadvisor.com/AttractionProductReview-g45963-d21324357-Historic_Downtown_Walking_Tour_in_Las_Vegas-Las_Vegas_Nevada.html', 'https://www.tripadvisor.com/AttractionProductReview-g45963-d21348249-Christmas_Magic_Show_Ticket_at_Las_Vegas_Magic_Theater-Las_Vegas_Nevada.html', 'https://www.tripadvisor.com/AttractionProductReview-g45963-d21314762-Private_Tour_7_Day_Highlight_Tour_of_Southwest_Mighty_Five-Las_Vegas_Nevada.html', 'https://www.tripadvisor.com/AttractionProductReview-g45963-d21348286-Skip_The_Line_Ticket_to_Experience_Magic_Up_Close_Show-Las_Vegas_Nevada.html', 'https://www.tripadvisor.com/AttractionProductReview-g45963-d11449101-Extreme_RZR_Tour_of_Hidden_Valley_and_Primm_from_Las_Vegas-Las_Vegas_Nevada.html', 'https://www.tripadvisor.com/AttractionProductReview-g45963-d11450264-Grand_Canyon_West_Rim_Bus_Tour_from_Las_Vegas_with_Optional_Upgrades-Las_Vegas_Neva.html', 'https://www.tripadvisor.com/AttractionProductReview-g45963-d11450638-Las_Vegas_Hot_Air_Balloon_Ride-Las_Vegas_Nevada.html', 'https://www.tripadvisor.com/AttractionProductReview-g45963-d11992111-Grand_Canyon_South_Rim_Bus_Tour-Las_Vegas_Nevada.html', 'https://www.tripadvisor.com/AttractionProductReview-g45963-d11449286-Madame_Tussauds_Las_Vegas_Admission_Ticket-Las_Vegas_Nevada.html', 'https://www.tripadvisor.com/AttractionProductReview-g45963-d12152753-Eiffel_Tower_Viewing_Deck_at_Paris_Las_Vegas-Las_Vegas_Nevada.html', 'https://www.tripadvisor.com/AttractionProductReview-g45963-d11453154-Las_Vegas_Mob_Museum_Admission_Ticket-Las_Vegas_Nevada.html', 'https://www.tripadvisor.com/AttractionProductReview-g45963-d12726126-Stratosphere_Tower_Observation_Deck_Ticket-Las_Vegas_Nevada.html', 'https://www.tripadvisor.com/AttractionProductReview-g45963-d15209788-Mystere_by_Cirque_du_Soleil_at_Treasure_Island_Hotel_Casino-Las_Vegas_Nevada.html', 'https://www.tripadvisor.com/AttractionProductReview-g45963-d12165010-KA_by_Cirque_du_SoleilR_at_the_MGM_Grand_Hotel_and_Casino-Las_Vegas_Nevada.html', 'https://www.tripadvisor.com/AttractionProductReview-g45963-d12165011-The_Beatles_LOVE_by_Cirque_du_SoleilR_at_the_Mirage_Hotel_and_Casino-Las_Vegas_Neva.html', 'https://www.tripadvisor.com/AttractionProductReview-g45963-d12165098-O_by_Cirque_du_SoleilR_at_the_Bellagio_Hotel_and_Casino-Las_Vegas_Nevada.html', 'https://www.tripadvisor.com/AttractionProductReview-g45963-d12165017-Shark_Reef_at_Mandalay_Bay_Hotel_and_Casino-Las_Vegas_Nevada.html', 'https://www.tripadvisor.com/AttractionProductReview-g45963-d11449286-Madame_Tussauds_Las_Vegas_Admission_Ticket-Las_Vegas_Nevada.html', 'https://www.tripadvisor.com/AttractionProductReview-g45963-d15041175-Bryce_Canyon_Zion_National_Parks_Day_Tour_from_Las_Vegas-Las_Vegas_Nevada.html']\n"
     ]
    },
    {
     "ename": "AttributeError",
     "evalue": "'NoneType' object has no attribute 'find'",
     "output_type": "error",
     "traceback": [
      "\u001b[0;31m---------------------------------------------------------------------------\u001b[0m",
      "\u001b[0;31mAttributeError\u001b[0m                            Traceback (most recent call last)",
      "\u001b[0;32m<ipython-input-60-69e5add0427e>\u001b[0m in \u001b[0;36m<module>\u001b[0;34m\u001b[0m\n\u001b[1;32m      2\u001b[0m \u001b[0mtest\u001b[0m \u001b[0;34m=\u001b[0m \u001b[0mget_links_activities\u001b[0m\u001b[0;34m(\u001b[0m\u001b[0murl_city\u001b[0m\u001b[0;34m)\u001b[0m\u001b[0;34m\u001b[0m\u001b[0;34m\u001b[0m\u001b[0m\n\u001b[1;32m      3\u001b[0m \u001b[0mprint\u001b[0m\u001b[0;34m(\u001b[0m\u001b[0mtest\u001b[0m\u001b[0;34m)\u001b[0m\u001b[0;34m\u001b[0m\u001b[0;34m\u001b[0m\u001b[0m\n\u001b[0;32m----> 4\u001b[0;31m \u001b[0mprint\u001b[0m\u001b[0;34m(\u001b[0m\u001b[0mget_content\u001b[0m\u001b[0;34m(\u001b[0m\u001b[0mtest\u001b[0m\u001b[0;34m)\u001b[0m\u001b[0;34m.\u001b[0m\u001b[0mfind\u001b[0m\u001b[0;34m(\u001b[0m\u001b[0;34m'span'\u001b[0m\u001b[0;34m)\u001b[0m\u001b[0;34m.\u001b[0m\u001b[0mtext\u001b[0m\u001b[0;34m)\u001b[0m\u001b[0;34m\u001b[0m\u001b[0;34m\u001b[0m\u001b[0m\n\u001b[0m",
      "\u001b[0;31mAttributeError\u001b[0m: 'NoneType' object has no attribute 'find'"
     ]
    }
   ],
   "source": [
    "url_city = links_top_attractions[2]\n",
    "test = get_links_activities(url_city)\n",
    "print(test)\n",
    "print(get_content(test).find('span').text)"
   ]
  },
  {
   "cell_type": "code",
   "execution_count": 29,
   "metadata": {
    "collapsed": true
   },
   "outputs": [
    {
     "name": "stdout",
     "output_type": "stream",
     "text": [
      "<div data-tab=\"TABS_OVERVIEW\"><div class=\"_31J0KY8Y\" data-automation=\"overviewHeader\"><span class=\"_16nAF3ka\">Overview<!-- --> </span></div><div class=\"_2z6V2LzK pLYpaKkl\" data-automation=\"overviewContent\"><div class=\"_2zqaS_NY\"><div class=\"_39-Vl9rc\"><div class=\"nqu_DTdQ A_7_yDE7\" data-skeleton=\"@ta/styleguide.skeleton\" style=\"height:32px;width:100%\"></div><div class=\"nqu_DTdQ A_7_yDE7\" data-skeleton=\"@ta/styleguide.skeleton\" style=\"height:32px;width:100%\"></div><div class=\"nqu_DTdQ A_7_yDE7\" data-skeleton=\"@ta/styleguide.skeleton\" style=\"height:32px;width:100%\"></div></div></div></div></div>\n"
     ]
    }
   ],
   "source": [
    "url_city\n",
    "helicopter = test[1]\n",
    "r_helicopter =  requests.get(helicopter)\n",
    "s_helicopter = BeautifulSoup(r_helicopter.text,'html.parser')\n",
    "content = s_helicopter.find('div', attrs={'data-tab':'TABS_OVERVIEW'})\n",
    "print(content)"
   ]
  },
  {
   "cell_type": "markdown",
   "metadata": {},
   "source": [
    "### TESTS MEDIA"
   ]
  },
  {
   "cell_type": "code",
   "execution_count": null,
   "metadata": {},
   "outputs": [],
   "source": [
    "string_test = ['https://test.com','http://test2.com']\n",
    "for string in string_test:\n",
    "    print(string.replace('https','http'))"
   ]
  },
  {
   "cell_type": "code",
   "execution_count": null,
   "metadata": {},
   "outputs": [],
   "source": [
    "from IPython.display import Image\n",
    "\n",
    "url_test_boston = 'http://www.tripadvisor.com/Attractions-g60745-Activities-Boston_Massachusetts.html'\n",
    "request_boston = requests.get(url_test_boston)\n",
    "s_boston = BeautifulSoup(request_boston.text, 'lxml')    \n",
    "\n",
    "media_boston = s_boston.find('a', attrs={'class':'_1o7ZDa9J'}).img\n",
    "media_boston.get('data-url')\n",
    "\n",
    "#image_req = requests.get(media_boston)\n",
    "\n",
    "#image_req.status_code\n",
    "#Image(image_req.content)\n",
    "#media_content = s_content.find_all('a', attrs={'class':'_1zqXepI-'})\n"
   ]
  },
  {
   "cell_type": "code",
   "execution_count": null,
   "metadata": {},
   "outputs": [],
   "source": [
    "content_test = requests.get('https://www.tripadvisor.com/Attractions-g60745-Activities-Boston_Massachusetts.html')\n",
    "if content.status_code == 200:\n",
    "    s_content_test = BeautifulSoup(content_test.text,'lxml')\n",
    "    activities_test = s_content_test.find_all('div', attrs = {'class':'_1lY2qyk3'})\n",
    "    activities_list = [activitie.h3.text for activitie in activities_test]\n",
    "    print(activities_list)\n",
    "\n"
   ]
  },
  {
   "cell_type": "markdown",
   "metadata": {},
   "source": [
    "### CALL CONTENT_INFO"
   ]
  },
  {
   "cell_type": "code",
   "execution_count": 115,
   "metadata": {},
   "outputs": [
    {
     "name": "stdout",
     "output_type": "stream",
     "text": [
      "{'title': 'Things to Do in Scottsdale', 'activities': ['Sonoran Desert Jeep Tour at Sunset', 'Medieval Times Dinner & Tournament Admission Ticket in Scottsdale', '2-Hour Scottsdale Segway Tours - 10am Departure', 'Half Day Sonoran Desert Mountain Biking Tour', 'Phoenix Indoor Skydiving Experience with 2 Flights & Personalized Certificate', '1-Hour Private Chemical Lab Escape Room Experience', 'Grand Canyon and Sedona Day Adventure from Scottsdale or Phoenix', '1.5 Hour Scottsdale Segway Tour', '2-Hour Arizona Desert Guided E-Bike Tour', 'Sonoran Desert 2 Hour Guided ATV Adventure', 'Sonoran Desert Jeep Tour - Morning or Afternoon', 'Rappelling Adventure in Scottsdale ', 'Party Bike Pub Crawl of Old Town Scottsdale', 'Horse Country Estate and Vineyard Wine Tasting Tour', 'Arizona Food Tours- A Taste of Old Town Scottsdale ', 'H2 Hummer VIP Sunset Wine and Cheese Tour for Couples ', '2-Hour Scottsdale Segway Tours - 4pm Departure', 'Scottsdale Segway Tour - Evening', 'Scottsdale City Tour', 'Small-Group or Private Deluxe Phoenix and Scottsdale Day Trip'], 'images': ['http://media-cdn.tripadvisor.com/media/attractions-splice-spp-360x240/0a/8c/e9/7e.jpg', 'http://media-cdn.tripadvisor.com/media/attractions-splice-spp-360x240/07/a2/f7/88.jpg', 'http://media-cdn.tripadvisor.com/media/attractions-splice-spp-360x240/06/96/63/d2.jpg', 'http://media-cdn.tripadvisor.com/media/attractions-splice-spp-360x240/09/48/7a/d5.jpg', 'http://media-cdn.tripadvisor.com/media/attractions-splice-spp-360x240/0b/1a/0f/15.jpg', 'http://media-cdn.tripadvisor.com/media/attractions-splice-spp-360x240/06/71/cf/cf.jpg', 'http://media-cdn.tripadvisor.com/media/attractions-splice-spp-360x240/06/8e/19/3a.jpg', 'http://media-cdn.tripadvisor.com/media/attractions-splice-spp-360x240/08/81/d7/1b.jpg', 'http://media-cdn.tripadvisor.com/media/attractions-splice-spp-360x240/06/f1/6b/4e.jpg', 'http://media-cdn.tripadvisor.com/media/attractions-splice-spp-360x240/06/e6/2e/8d.jpg', 'http://media-cdn.tripadvisor.com/media/attractions-splice-spp-360x240/09/b8/c9/3f.jpg', 'http://media-cdn.tripadvisor.com/media/attractions-splice-spp-360x240/0b/26/d3/8f.jpg', 'http://media-cdn.tripadvisor.com/media/attractions-splice-spp-360x240/06/71/ab/48.jpg', 'http://media-cdn.tripadvisor.com/media/attractions-splice-spp-360x240/07/6f/4f/62.jpg', 'http://media-cdn.tripadvisor.com/media/attractions-splice-spp-360x240/06/eb/1c/6e.jpg', 'http://media-cdn.tripadvisor.com/media/attractions-splice-spp-360x240/0a/81/fb/de.jpg', 'http://media-cdn.tripadvisor.com/media/attractions-splice-spp-360x240/09/35/a2/61.jpg', 'http://media-cdn.tripadvisor.com/media/attractions-splice-spp-360x240/09/9f/81/09.jpg', 'http://media-cdn.tripadvisor.com/media/attractions-splice-spp-360x240/0b/2d/28/e1.jpg', 'http://media-cdn.tripadvisor.com/media/attractions-splice-spp-360x240/06/d7/83/eb.jpg'], 'overviews': ['Activity N/A', 'Activity N/A', 'Begin your Scottsdale adventure with a comprehensive overview of the city’s main sights on a small-group Segway tour. The easy-to-use mode of transport enables you to cover a huge area of Scottsdale and be back in time for lunch. Stop at scenic locations and learn interesting facts about your surroundings. The excursion is a great opportunity to get insider tips on things to do during the rest of your visit.', \"Seeing the Sonoran desert on two wheels can be memorable. We have lots of options for any level of rider. If you have not been on a bike for a while don't worry we can help you rediscover that talent. If you are a road cyclist and or an intermediate and experienced mountain biker we have you covered too. We have a fleet of hard tail and full suspension mountain bikes for an enjoyable ride.\\n\\nOur guides have many years and levels of experience on the mountain bike to show you a safe, fun and fantastic time. All bike tours include use of a Marin Performance Hardtail Mountain Bike, helmet, gloves, snacks, bottles of water, sunscreen and a professional, medically trained guide. \\n\\nPedal preference? No worries. And we love riders of all ages, so if the kids have joined you on your getaway to the Valley of the Sun, bring them along! As long as they can ride a bike, of course!\\n\\nMeet your guide at Brown's Ranch Trailhead, 30301 N. Alma School Parkway, McDowell Sonoran Preserve, Scottsdale. \", 'Activity N/A', 'Activity N/A', 'Activity N/A', 'Activity N/A', 'Activity N/A', 'Activity N/A', 'Activity N/A', 'Activity N/A', 'Scottsdale is known for its lively bar scene, so instead of choosing just one watering hole, take the party on the road with a fun and boozy super bike tour. Grab a seat at the mobile bar with up to 14 friends and use pedal power to get to hand-picked drinking destinations in Old Town. Bring your own beer and wine onboard to raise a glass to passersby as you cruise through the streets.', \"Ride in a lovely Mercedes van for an adventure tour. You will get to see private, gated, luxury equestrian estates and go on a lovely vineyard tour with a wine tasting and hors d'oeuvres/snacks provided. Lunch at restaurant is bought separately.. If you enjoy beautiful scenery and fresh air out in the country in other parts of Arizona, this is the tour for you. It may be possible to pick you up at your hotel if you call to make arrangements Mercedes Van Tours by Laura Hanson in Arizona\", 'The first ever food tour in Arizona! We offer multiple versions, with stops at 5 local restaurants, eateries, and specialty food shops.', 'The H2 Hummer was built with comfort in mind, and to me is the perfect vehicle to whisk you away to an unforgettable sunset desert tour. With its smooth ride, leather-appointed interior, heated seats, frosty cold air conditioning, power everything, and its incredible off-road capabilities, you’ll sit in total comfort while viewing and learning about the incredible plants and animals that makes up the Sonoran desert. Visit beautiful Lake Saguaro, climb desert hills, hike to incredible views of enormous cactus, then round out your tour with a personally selected wine & cheese service while watching our famous and awe-inspiring Arizona sunset from a mesa-top vantage point. Not soon to be forgotten, and the perfect way to end our incredible Arizona days. Minimum of 2 people is required.\\n', 'Discover the historic charm of Old Town Scottsdale by Segway on this 2-hour tour, the easiest and most fun way to see this vibrant part of town. Though its name harks back to the town’s early days, this is not a sleepy neighborhood. Old Town pulses with loads of creative energy, art installations, performances and alfresco dining options. Let an informative guide lead you through the best parts of town and then continue to explore at your leisure after the tour. This small-group tour is limited to 6 people per tour guide, ensuring you’ll receive personal attention from your guide.', 'Experience our longest ride through Scottsdale on your own personal Segway transporter, taking in the the beautiful scenery and several art installations, while learning about the historical background of Old Town and the culture which still remains. After a brief training session in a controlled parking lot, our guide will whisk you through Downtown Scottsdale, including Old Town, the Arts District, and the Waterfront. With more than 30 points of interests on this 7-mile route, you will walk away from the tour with several suggestions (and our exclusive Passport to Savings!) for local food, activities, and places to visit to help occupy the rest of your trip.', 'Activity N/A', 'Activity N/A']}\n",
      "{'title': 'Things to Do in Los Angeles', 'activities': ['Hollywood Sightseeing and Celebrity Homes Tour by Open-Top Bus', 'Private Helicopter Tour over Long Beach and Los Angeles', 'Swan Boat Rental in Echo Park', 'Griffith Park Experience: Hollywood Hills Hike', 'Museum of Illusions OR Upside Down House Ticket', 'DTLA Murder Mystery Ghost Tour', '1 Hour 30 Minutes Venice Beach Surf Lesson', 'West Hollywood Food Tour', 'Perfect 5 ½ Hour LA & Hollywood Tour from Santa Monica', 'Full-Day Iconic Sights of LA, Hollywood, Beverly Hills, the Beaches and More', 'Horseback Riding near the Hollywood Sign with Transportation from Anaheim', 'The Best of LA Tour from Anaheim or LA: Hollywood, Beverly Hills and Beaches', '3 Hours Los Angeles VIP Tour', \"Hollywood Tours & Celebrity Homes - 'The Original Hollywood Tour' - Open Air Bus\", 'Los Angeles Hop-On Hop-Off Double-Decker Bus Tour', 'Small Group Electric Bicycle Tour of Santa Monica and Venice Beach', 'Self-Guided Outdoor Tour Experience', 'Madame Tussauds Hollywood Admission Ticket', 'Hollywood Wax Museum & Guinness World Records Museum Combo Admission', 'Best Ferrari California Tour to Hollywood Sign', 'Skip the Line: Express Ticket at Universal Studios Hollywood', 'The VIP Experience at Universal Studios Hollywood', 'Universal Studios Hollywood General Admission Ticket'], 'images': ['http://media-cdn.tripadvisor.com/media/attractions-splice-spp-360x240/0a/04/94/4b.jpg', 'http://media-cdn.tripadvisor.com/media/attractions-splice-spp-360x240/06/6b/6a/97.jpg', 'http://media-cdn.tripadvisor.com/media/attractions-splice-spp-360x240/09/19/0c/76.jpg', 'http://media-cdn.tripadvisor.com/media/attractions-splice-spp-360x240/06/f1/30/3f.jpg', 'http://media-cdn.tripadvisor.com/media/attractions-splice-spp-360x240/09/29/50/b8.jpg', 'http://media-cdn.tripadvisor.com/media/attractions-splice-spp-360x240/07/8e/9e/95.jpg', 'http://media-cdn.tripadvisor.com/media/attractions-splice-spp-360x240/07/97/8a/8f.jpg', 'http://media-cdn.tripadvisor.com/media/attractions-splice-spp-360x240/0a/31/d1/aa.jpg', 'http://media-cdn.tripadvisor.com/media/attractions-splice-spp-360x240/06/72/ff/b2.jpg', 'http://media-cdn.tripadvisor.com/media/attractions-splice-spp-360x240/07/7a/4f/bd.jpg', 'http://media-cdn.tripadvisor.com/media/attractions-splice-spp-360x240/06/e4/c0/42.jpg', 'http://media-cdn.tripadvisor.com/media/attractions-splice-spp-360x240/07/2b/d7/e8.jpg', 'http://media-cdn.tripadvisor.com/media/attractions-splice-spp-360x240/09/54/7c/ba.jpg', 'http://media-cdn.tripadvisor.com/media/attractions-splice-spp-360x240/06/73/47/4a.jpg', 'http://media-cdn.tripadvisor.com/media/attractions-splice-spp-360x240/09/f6/0a/f8.jpg', 'http://media-cdn.tripadvisor.com/media/attractions-splice-spp-360x240/07/8a/80/05.jpg', 'http://media-cdn.tripadvisor.com/media/attractions-splice-spp-360x240/0a/e0/97/1a.jpg', 'http://media-cdn.tripadvisor.com/media/attractions-splice-spp-360x240/06/e4/a6/ae.jpg', 'http://media-cdn.tripadvisor.com/media/attractions-splice-spp-360x240/06/7b/18/07.jpg', 'http://media-cdn.tripadvisor.com/media/attractions-splice-spp-360x240/0b/19/89/2c.jpg', 'http://media-cdn.tripadvisor.com/media/attractions-splice-spp-360x240/09/15/d3/ba.jpg', 'http://media-cdn.tripadvisor.com/media/attractions-splice-spp-360x240/09/15/d0/0c.jpg', 'http://media-cdn.tripadvisor.com/media/attractions-splice-spp-360x240/09/15/ce/eb.jpg'], 'overviews': ['Activity N/A', 'Activity N/A', 'The Swan Boats at Echo Park Lake are one of Los Angeles’ hidden gems. Don’t miss this unique way to explore Echo Lake signature lotus beds and fountain. Rated one of the best LA activities, Echo Park pedal boats are a great way to enjoy the outdoors! We are the official boat concessionaire for all Los Angeles City Parks.\\n\\nAll of our boats come equipped with shaded canopies for maximum comfort. Our large swan boats feature a roomy back seat for those that would like to forego pedaling and would prefer to just enjoy the view. \\n\\nYou are welcome to bring food and drinks on board the swan boats (no alcohol is permitted). There is also Beacon Cafe on-site which boasts an awesome food menu and desserts, and has seating that overlooks the lake. ', 'Activity N/A', 'The Museum of Illusions comes Instagram ready with completely new 3D Illusions and Upside Down House exhibit that will take your breath away, transporting you to a world of fantasy and imagination! Our 30+ 3D illusions produce eye popping pics, inspired by cartoon, art, current events, movies and more! Not just that, our Upside down house features 7 unique rooms all flipping the world as you know it, upside down!', 'Activity N/A', 'Activity N/A', 'Activity N/A', 'Activity N/A', 'Tick off Los Angeles’ top attractions in just one day on this city tour and save time finding your vehicle with pickup and drop-off available from central hotels. Zip seamlessly between dispersed attractions such as Santa Monica Pier and the Sunset Strip via air-conditioned coach, benefiting from the navigational expertise and insider knowledge of your driver/guide as you go, and enjoy plenty of time for a closer look at each of the iconic stops.', 'Activity N/A', \"To make the most of your time in Los Angeles, you likely need to rent a car and drive to the city's top sights. Avoid the hassle of driving yourself with this packed LA highlights tour, where you're whisked to the must-see attractions, from the Hollywood Sign to Griffith Park Observatory. With easy hotel pickup included, all you need to do is sit back, and take in the views.\", 'Activity N/A', 'First-time Hollywood visitors can hit all the top sights without worrying about navigating the city’s hectic traffic and parking by hopping on an open-air bus tour. In addition to stops at top attractions such as the Hollywood Sign and the Walk of Fame, a guide points out celebrity homes you might miss if traveling on your own.', \"Cover all of the spread-out, must-see sights of Los Angeles on this flexible hop-on hop-off bus tour. Skip the hassle of navigating the city's legendary traffic while riding in an open-top, double-decker bus, which stops at over 50 locations throughout the city, including downtown LA, Hollywood, Santa Monica, and Beverly Hills. Choose between 24-, 48-, or 72-hour tickets to suit your schedule and budget.\", 'Activity N/A', 'Activity N/A', 'Madame Tussauds Hollywood lets you pose right next to your favorite A-listers. Featuring the wax figures of more than 125 celebrities—including Hollywood stars—the interactive museum invites you into a world of fame for a day, without velvet ropes or barriers. Admission includes entry to The Marvel Superheroes 4-D Experience.', 'Activity N/A', 'Activity N/A', 'In connection with your purchase of Universal Hollywood products and your visit to Universal Hollywood including Universal Studios Hollywood and Universal CityWalk Hollywood, please be advised that you must follow Universal Hollywood’s policies, CDC guidelines and the recommendations of health officials. Please note that any public location where people are present provides an inherent risk of exposure to COVID-19 and Universal Hollywood cannot guarantee that you will not be exposed during your visit. By visiting Universal Hollywood, you acknowledge and agree that you assume these inherent risks associated with attendance. When you enter Universal Hollywood, you understand that you are subject to the Universal Hollywood terms of service(including arbitration, class action waiver, assumption of risk, and infectious disease release of liability)', 'In connection with your purchase of Universal Hollywood products and your visit to Universal Hollywood including Universal Studios Hollywood and Universal CityWalk Hollywood, please be advised that you must follow Universal Hollywood’s policies, CDC guidelines and the recommendations of health officials. Please note that any public location where people are present provides an inherent risk of exposure to COVID-19 and Universal Hollywood cannot guarantee that you will not be exposed during your visit. By visiting Universal Hollywood, you acknowledge and agree that you assume these inherent risks associated with attendance. When you enter Universal Hollywood, you understand that you are subject to the Universal Hollywood terms of service(including arbitration, class action waiver, assumption of risk, and infectious disease release of liability)', 'In connection with your purchase of Universal Hollywood products and your visit to Universal Hollywood including Universal Studios Hollywood and Universal CityWalk Hollywood, please be advised that you must follow Universal Hollywood’s policies, CDC guidelines and the recommendations of health officials. Please note that any public location where people are present provides an inherent risk of exposure to COVID-19 and Universal Hollywood cannot guarantee that you will not be exposed during your visit. By visiting Universal Hollywood, you acknowledge and agree that you assume these inherent risks associated with attendance. When you enter Universal Hollywood, you understand that you are subject to the Universal Hollywood terms of service(including arbitration, class action waiver, assumption of risk, and infectious disease release of liability)']}\n"
     ]
    },
    {
     "name": "stdout",
     "output_type": "stream",
     "text": [
      "{'title': 'Things to Do in Las Vegas', 'activities': ['The High Roller at The LINQ Ticket', 'Las Vegas Helicopter Night Flight with Optional VIP Transportation', 'Las Vegas Super Saver: Madame Tussauds with Gondola Boat Ride', 'Fly LINQ Zipline at The LINQ', 'Grand Canyon West Rim with Optional Skywalk Ticket and Hoover Dam Photo Stop', 'Emerald Cave Kayak Tour on The Colorado River from Las Vegas', 'Masters of Magic Show Tickets at Las Vegas Magic Theater', 'Big Bus Las Vegas Hop-On Hop-Off Tour', 'Historic Downtown Walking Tour in Las Vegas', 'Christmas Magic Show Ticket at Las Vegas Magic Theater', 'Private Tour: 7-Day Highlight Tour of Southwest Mighty Five', 'Skip-The-Line Ticket to Experience Magic Up Close Show', 'Extreme RZR Tour of Hidden Valley and Primm from Las Vegas', 'Grand Canyon West Rim Bus Tour from Las Vegas with Optional Upgrades', 'Las Vegas Hot Air Balloon Ride', 'Grand Canyon South Rim Bus Tour', 'Madame Tussauds Las Vegas Admission Ticket', 'Eiffel Tower Viewing Deck at Paris Las Vegas', 'Las Vegas Mob Museum Admission Ticket', 'Stratosphere Tower Observation Deck Ticket', 'Mystère by Cirque du Soleil at Treasure Island Hotel & Casino', 'KÀ™ by Cirque du Soleil® at the MGM Grand Hotel and Casino', 'The Beatles™ LOVE™ by Cirque du Soleil® at the Mirage Hotel and Casino', '\"O™\" by Cirque du Soleil® at the Bellagio Hotel and Casino', 'Shark Reef at Mandalay Bay Hotel and Casino', 'Madame Tussauds Las Vegas Admission Ticket', 'Bryce Canyon & Zion National Parks Day Tour from Las Vegas'], 'images': ['http://media-cdn.tripadvisor.com/media/attractions-splice-spp-360x240/07/6f/f1/ee.jpg', 'http://media-cdn.tripadvisor.com/media/attractions-splice-spp-360x240/0a/f0/89/9b.jpg', 'http://media-cdn.tripadvisor.com/media/attractions-splice-spp-360x240/07/69/94/0d.jpg', 'http://media-cdn.tripadvisor.com/media/attractions-splice-spp-360x240/07/90/75/11.jpg', 'http://media-cdn.tripadvisor.com/media/attractions-splice-spp-360x240/0a/9a/4c/e1.jpg', 'http://media-cdn.tripadvisor.com/media/attractions-splice-spp-360x240/0a/29/a4/a7.jpg', 'http://media-cdn.tripadvisor.com/media/attractions-splice-spp-360x240/0b/22/f8/bb.jpg', 'http://media-cdn.tripadvisor.com/media/attractions-splice-spp-360x240/0a/ed/c9/e4.jpg', 'http://media-cdn.tripadvisor.com/media/attractions-splice-spp-360x240/0b/30/62/5b.jpg', 'http://media-cdn.tripadvisor.com/media/attractions-splice-spp-360x240/0b/34/23/ec.jpg', 'http://media-cdn.tripadvisor.com/media/attractions-splice-spp-360x240/0b/30/16/fb.jpg', 'http://media-cdn.tripadvisor.com/media/attractions-splice-spp-360x240/0b/34/75/b3.jpg', 'http://media-cdn.tripadvisor.com/media/attractions-splice-spp-360x240/09/99/c3/bc.jpg', 'http://media-cdn.tripadvisor.com/media/attractions-splice-spp-360x240/06/71/4e/01.jpg', 'http://media-cdn.tripadvisor.com/media/attractions-splice-spp-360x240/07/49/3f/12.jpg', 'http://media-cdn.tripadvisor.com/media/attractions-splice-spp-360x240/0b/30/7e/e9.jpg', 'http://media-cdn.tripadvisor.com/media/attractions-splice-spp-360x240/07/38/d2/d4.jpg', 'http://media-cdn.tripadvisor.com/media/attractions-splice-spp-360x240/0b/04/ae/67.jpg', 'http://media-cdn.tripadvisor.com/media/attractions-splice-spp-360x240/07/05/c4/1d.jpg', 'http://media-cdn.tripadvisor.com/media/attractions-splice-spp-360x240/09/20/6b/f3.jpg', 'http://media-cdn.tripadvisor.com/media/attractions-splice-spp-360x240/07/71/7d/88.jpg', 'http://media-cdn.tripadvisor.com/media/attractions-splice-spp-360x240/06/6e/cf/c2.jpg', 'http://media-cdn.tripadvisor.com/media/attractions-splice-spp-360x240/06/6e/cf/d0.jpg', 'http://media-cdn.tripadvisor.com/media/attractions-splice-spp-360x240/06/6e/cf/d7.jpg', 'http://media-cdn.tripadvisor.com/media/attractions-splice-spp-360x240/07/01/34/63.jpg', 'http://media-cdn.tripadvisor.com/media/attractions-splice-spp-360x240/07/38/d2/d4.jpg', 'http://media-cdn.tripadvisor.com/media/attractions-splice-spp-360x240/0a/af/93/2e.jpg'], 'overviews': ['Activity N/A', 'Activity N/A', \"Save money during your Vegas vacation with this tour package that includes admission to Madame Tussauds Las Vegas, including the Marvel 4D Experience, as well as an outdoor gondola ride on the Grand Canal. Since both attractions are located at the Venetian on the Strip, you can experience them in one day or spread them out during your stay. You\\xa0can also upgrade to include a romantic meal at Buddy V's Ristorante with the Trio Package.\", 'Activity N/A', 'Activity N/A', 'Activity N/A', 'Activity N/A', 'Since there’s so much to do in Las Vegas, a hop-on hop-off bus tour saves you big bucks on transportation. Choose from two routes—one that runs through the Strip and another that runs through Downtown Vegas—with 20 stops in all. In just a short amount of time, at your own pace, you can see Sin City highlights, including\\xa0Fremont Street Experience and the lions at MGM Grand.', 'Activity N/A', 'See the Grand Canyon’s West Rim on a full-day trip from Las Vegas, which can be customized by adding the Grand Canyon Skywalk and/or a helicopter trip into the canyon with a Colorado River pontoon boat tour. Traveling by climate-controlled bus means you see even more of the beautiful Nevada and Arizona deserts, passing through a beautiful Joshua Tree forest.', \"Get aerial views of Nevada's desert on a hot air balloon flight over the Pahrump Valley, situated about an hour west of the Las Vegas Strip. Waft through the sky and soak in 360-degree views of the region's desert valleys and mountains. Finally, touch down for a Champagne toast, making this tour ideal for couples or people celebrating a special occasion.\", 'Activity N/A', 'Activity N/A', 'Experience the French fantasy without leaving Las Vegas with a trip up the Paris Hotel’s Eiffel Tower replica. Arrive at a time that works for you and ascend high above the bustling Strip for panoramic views of Vegas and beyond, looking out for iconic landmarks such as the High Roller, Fountains of Bellagio, and the distant Mojave Desert.', 'Activity N/A', 'The Stratosphere Tower is the tallest freestanding observation tower in the United States and affords spectacular panoramic views over Las Vegas. With this admission ticket, enjoy access to both the indoor and open-air observation decks, where you can look out over the city from a height of 1,149 feet (350 meters). Upgrade to include a daring Skyjump or entrance to rides such as the X Scream and Big Shot.', 'Come take a walk of downtown Las Vegas like never before with our small tour format. From the original sites of El Cortez and Union Street Station, we will walk you through 115 years of history from 1905 to what Las Vegas is today. Walk the streets once taken over by the mob and the former courthouse that led to their demise. Take your photo with the famous Las Vegas icon “Vegas Vic,\" see the famous Shark tank pool and rediscover Fremont East with its hipster vibe and unique restaurants, bars and shops. The redesigned Fremont Street Experience will have your head spinning with its 2M lights and sound system while adventurous thrill seekers zipline above you. Get your selfie with a 40ft praying mantis, if you’re lucky it may even breathe fire for your photo! \\n', 'We are a classy Intimate Venue, everyone feels Included, your not just lost in the crowd. You will witness magic in a unique way! The magicians perform heart warming cheerful magic with a uplifting holiday message. We are a 5 star Venue. ', 'Activity N/A', 'We are the only Magic Show, where everyone is included. All people get V.I.P treatment. We go out of our way to give you the ultimate experience. ', \"Though Las Vegas may be known for its magic shows and musical revues, for a singular theatrical experience packed with stunning acrobatics, don't miss a performance of Cirque du Soleil's Mystère. Choose the showtime and seats that are best for you, and sit back to enjoy the fantastic, world-class entertainment. Highlights include singers, dancers, and acrobatic performances—all in just one, critically-acclaimed show, that's distinctly Cirque du Soleil.\", 'Activity N/A', 'The world’s most famous rock band and most famous circus company are combined to create the live stage production of The Beatles: LOVE in Las Vegas. With something to please every type of theater goer, over 60 Cirque du Soleil performers bring the band’s iconic music to life through choreography, acrobatics, and extreme sports. So sit back, relax, and take a magical mystery tour with your friends.', 'Get whisked away by mesmerizing choreography, gravity defying acrobatics, and hypnotic music during a live production of ‘O’ at the Bellagio Hotel and Casino. Presented by performers of the world-famous Cirque du Soleil, the thrilling show has something to keep everyone spell-bound. The performance is perfect for families, couples, and anyone craving a break from the blackjack table.', \"Visit Shark Reef at Mandalay Bay to view some of the world's fascinating marine life up close. More than 100 sharks and 2,000 animals total live at this aquarium in Las Vegas, which is North America's only predator-based aquarium exhibit. You can view giant rays, piranha, jellyfish, endangered green sea turtles, rare golden crocodiles and more. Special exhibits and two underwater tunnels provide a face-to-face experience.\", 'Activity N/A', 'Activity N/A']}\n"
     ]
    },
    {
     "name": "stdout",
     "output_type": "stream",
     "text": [
      "{'title': 'Things to Do in Boston', 'activities': ['Boston Whale Watching Cruise by High-Speed Catamaran', 'Boston Old Town Hop On Hop Off Trolley Tour', 'Boston Tea Party Ships & Museum Admission', 'Boston Classic: Duck Boat Sightseeing Tour', 'Boston Ghosts & Gravestones Night-Time Trolley Tour', \"Martha's Vineyard Day Trip from Boston with Optional Island Tour (Small Group)\", 'Walking Tour of Freedom Trail History (Small Group)', 'New England Aquarium Admission in Boston', 'Boston Odyssey Brunch Cruise', 'Sightseeing Day Sail around Boston Harbor', 'Sunset Cruise', 'Boston Odyssey Dinner Cruise', 'Boston Odyssey Dinner Cruise', \"Boston's North End Small-Group Walking Food Tour\", 'Go Boston All-Inclusive Pass', \"Fresh Pasta Making Lesson in Boston's North End (Homemade Pasta in Little Italy)\", 'Boston to New Hampshire Fall Foliage White Mountains Tour', 'Boston Walk Through History Private Tour All-Inclusive', 'Historic Discovery Guided Boston Mini-Bus Tour', \"Martha's Vineyard Day Trip from Boston with Optional Island Tour (Small Group)\", 'Boston Odyssey Dinner Cruise', 'Spirit of Boston Lunch Cruise', 'Boston Odyssey Brunch Cruise', 'Boston Odyssey Lunch Cruise', 'Boston to Plymouth Small Group Day-Trip with Plimoth Plantation & Mayflower II', \"Boston's Freedom Trail GPS Self-Guided Audio Walk on Your Phone.\", \"Boston's Freedom Trail, 3 tours in 1, Smart Phone Guided Tour (GPS) - go anytime\", \"Boston's Freedom Trail - Smart Phone guided (GPS) walking tour - go anytime\", 'Private 3-Hour Boston Freedom Trail Tour', \"The Ghosts of Boston's Past Haunted Self-guided Tour\", 'Historic Boston Crime Tours - North End Tour', 'Private Excursion to Historic Concord inc Transport'], 'images': ['http://media-cdn.tripadvisor.com/media/photo-s/1b/5c/31/d2/caption.jpg', 'http://media-cdn.tripadvisor.com/media/photo-s/1b/73/ac/09/caption.jpg', 'http://media-cdn.tripadvisor.com/media/photo-s/1b/9a/61/10/caption.jpg', 'http://media-cdn.tripadvisor.com/media/photo-s/1b/67/6a/ab/caption.jpg', 'http://media-cdn.tripadvisor.com/media/photo-s/1b/73/ab/b9/caption.jpg', 'http://media-cdn.tripadvisor.com/media/photo-s/1a/58/d5/77/caption.jpg', 'http://media-cdn.tripadvisor.com/media/photo-s/1a/7d/59/bd/caption.jpg', 'http://media-cdn.tripadvisor.com/media/photo-s/1a/5b/a3/a5/caption.jpg', 'http://media-cdn.tripadvisor.com/media/photo-s/1a/f1/74/59/caption.jpg', 'http://media-cdn.tripadvisor.com/media/photo-s/1b/9a/77/08/caption.jpg', 'http://media-cdn.tripadvisor.com/media/photo-s/1a/f6/7b/09/caption.jpg', 'http://media-cdn.tripadvisor.com/media/photo-s/1a/f1/74/52/caption.jpg', 'http://media-cdn.tripadvisor.com/media/photo-s/1a/f1/74/52/caption.jpg', 'http://media-cdn.tripadvisor.com/media/photo-s/1b/73/ac/3a/caption.jpg', 'http://media-cdn.tripadvisor.com/media/photo-s/1a/5f/d2/15/caption.jpg', 'http://media-cdn.tripadvisor.com/media/photo-s/1b/16/13/d6/caption.jpg', 'http://media-cdn.tripadvisor.com/media/photo-s/1b/9a/60/f4/caption.jpg', 'http://media-cdn.tripadvisor.com/media/photo-s/1b/b0/55/46/caption.jpg', 'http://media-cdn.tripadvisor.com/media/photo-s/1a/65/19/91/caption.jpg', 'http://media-cdn.tripadvisor.com/media/photo-s/1a/58/d5/77/caption.jpg', 'http://media-cdn.tripadvisor.com/media/photo-s/1a/f1/74/52/caption.jpg', 'http://media-cdn.tripadvisor.com/media/photo-s/1a/c4/49/b8/caption.jpg', 'http://media-cdn.tripadvisor.com/media/photo-s/1a/f1/74/59/caption.jpg', 'http://media-cdn.tripadvisor.com/media/photo-s/1a/f1/92/0b/caption.jpg', 'http://media-cdn.tripadvisor.com/media/photo-s/1a/58/9b/87/caption.jpg', 'http://media-cdn.tripadvisor.com/media/photo-s/1c/00/f1/bb/caption.jpg', 'http://media-cdn.tripadvisor.com/media/photo-s/1b/59/0d/56/caption.jpg', 'http://media-cdn.tripadvisor.com/media/photo-s/1b/b0/6b/fc/caption.jpg', 'http://media-cdn.tripadvisor.com/media/photo-s/1b/9a/8c/a4/caption.jpg', 'http://media-cdn.tripadvisor.com/media/photo-s/1b/eb/96/e6/caption.jpg', 'http://media-cdn.tripadvisor.com/media/photo-s/1a/85/b3/ea/caption.jpg', 'http://media-cdn.tripadvisor.com/media/photo-s/1b/e5/b5/9b/caption.jpg'], 'overviews': None}\n"
     ]
    }
   ],
   "source": [
    "from IPython.display import Image\n",
    "for link in links_top_attractions: #Top attractions refers to the place: Scottsdale, LA, etc\n",
    "    content = requests.get(link)\n",
    "    if content.status_code == 200:\n",
    "        s_content = BeautifulSoup(content.text,'lxml')\n",
    "        activities_content_links = get_links_activities(link)\n",
    "        #print(activities_content_links)\n",
    "        \n",
    "        #print(get_content(activities_content_links))\n",
    "        results = content_info(s_content, activities_content_links)\n",
    "        print(results)\n",
    "        \n",
    "        #sites_images = results['images']\n",
    "        #for img in sites_images:\n",
    "         #   image_req = requests.get(img)\n",
    "            #print(image_req.status_code)\n",
    "            #Image(image_req.content)\n",
    "                        \n",
    "\n",
    "            \n",
    "\n",
    "\n",
    "        #images_list = results['images']\n",
    "        #images_list\n",
    "        #for image in images_list:\n",
    "         #   image_req = requests.get(image)\n",
    "       \n",
    "\n",
    "\n",
    "\n"
   ]
  },
  {
   "cell_type": "code",
   "execution_count": 110,
   "metadata": {
    "collapsed": true
   },
   "outputs": [
    {
     "data": {
      "text/plain": [
       "['No overview for https://www.tripadvisor.com/AttractionProductReview-g31350-d19011851-Sonoran_Desert_Jeep_Tour_at_Sunset-Scottsdale_Arizona.html',\n",
       " 'No overview for https://www.tripadvisor.com/AttractionProductReview-g31350-d19147851-Medieval_Times_Dinner_Tournament_Admission_Ticket_in_Scottsdale-Scottsdale_Arizona.html',\n",
       " 'Begin your Scottsdale adventure with a comprehensive overview of the city’s main sights on a small-group Segway tour. The easy-to-use mode of transport enables you to cover a huge area of Scottsdale and be back in time for lunch. Stop at scenic locations and learn interesting facts about your surroundings. The excursion is a great opportunity to get insider tips on things to do during the rest of your visit.',\n",
       " \"Seeing the Sonoran desert on two wheels can be memorable. We have lots of options for any level of rider. If you have not been on a bike for a while don't worry we can help you rediscover that talent. If you are a road cyclist and or an intermediate and experienced mountain biker we have you covered too. We have a fleet of hard tail and full suspension mountain bikes for an enjoyable ride.\\n\\nOur guides have many years and levels of experience on the mountain bike to show you a safe, fun and fantastic time. All bike tours include use of a Marin Performance Hardtail Mountain Bike, helmet, gloves, snacks, bottles of water, sunscreen and a professional, medically trained guide. \\n\\nPedal preference? No worries. And we love riders of all ages, so if the kids have joined you on your getaway to the Valley of the Sun, bring them along! As long as they can ride a bike, of course!\\n\\nMeet your guide at Brown's Ranch Trailhead, 30301 N. Alma School Parkway, McDowell Sonoran Preserve, Scottsdale. \",\n",
       " 'No overview for https://www.tripadvisor.com/AttractionProductReview-g31350-d14166993-Phoenix_Indoor_Skydiving_Experience_with_2_Flights_Personalized_Certificate-Scottsd.html',\n",
       " 'No overview for https://www.tripadvisor.com/AttractionProductReview-g31350-d13086480-1_Hour_Private_Chemical_Lab_Escape_Room_Experience-Scottsdale_Arizona.html',\n",
       " 'No overview for https://www.tripadvisor.com/AttractionProductReview-g31350-d15339690-Grand_Canyon_and_Sedona_Day_Adventure_from_Scottsdale_or_Phoenix-Scottsdale_Arizona.html',\n",
       " 'No overview for https://www.tripadvisor.com/AttractionProductReview-g31350-d18474904-1_5_Hour_Scottsdale_Segway_Tour-Scottsdale_Arizona.html',\n",
       " 'No overview for https://www.tripadvisor.com/AttractionProductReview-g31350-d15767084-2_Hour_Arizona_Desert_Guided_E_Bike_Tour-Scottsdale_Arizona.html',\n",
       " 'No overview for https://www.tripadvisor.com/AttractionProductReview-g31350-d11990130-Sonoran_Desert_2_Hour_Guided_ATV_Adventure-Scottsdale_Arizona.html',\n",
       " 'No overview for https://www.tripadvisor.com/AttractionProductReview-g31350-d19693290-Sonoran_Desert_Jeep_Tour_Morning_or_Afternoon-Scottsdale_Arizona.html',\n",
       " 'No overview for https://www.tripadvisor.com/AttractionProductReview-g31350-d11480387-Rappelling_Adventure_in_Scottsdale-Scottsdale_Arizona.html',\n",
       " 'Scottsdale is known for its lively bar scene, so instead of choosing just one watering hole, take the party on the road with a fun and boozy super bike tour. Grab a seat at the mobile bar with up to 14 friends and use pedal power to get to hand-picked drinking destinations in Old Town. Bring your own beer and wine onboard to raise a glass to passersby as you cruise through the streets.',\n",
       " \"Ride in a lovely Mercedes van for an adventure tour. You will get to see private, gated, luxury equestrian estates and go on a lovely vineyard tour with a wine tasting and hors d'oeuvres/snacks provided. Lunch at restaurant is bought separately.. If you enjoy beautiful scenery and fresh air out in the country in other parts of Arizona, this is the tour for you. It may be possible to pick you up at your hotel if you call to make arrangements Mercedes Van Tours by Laura Hanson in Arizona\",\n",
       " 'The first ever food tour in Arizona! We offer multiple versions, with stops at 5 local restaurants, eateries, and specialty food shops.',\n",
       " 'The H2 Hummer was built with comfort in mind, and to me is the perfect vehicle to whisk you away to an unforgettable sunset desert tour. With its smooth ride, leather-appointed interior, heated seats, frosty cold air conditioning, power everything, and its incredible off-road capabilities, you’ll sit in total comfort while viewing and learning about the incredible plants and animals that makes up the Sonoran desert. Visit beautiful Lake Saguaro, climb desert hills, hike to incredible views of enormous cactus, then round out your tour with a personally selected wine & cheese service while watching our famous and awe-inspiring Arizona sunset from a mesa-top vantage point. Not soon to be forgotten, and the perfect way to end our incredible Arizona days. Minimum of 2 people is required.\\n',\n",
       " 'Discover the historic charm of Old Town Scottsdale by Segway on this 2-hour tour, the easiest and most fun way to see this vibrant part of town. Though its name harks back to the town’s early days, this is not a sleepy neighborhood. Old Town pulses with loads of creative energy, art installations, performances and alfresco dining options. Let an informative guide lead you through the best parts of town and then continue to explore at your leisure after the tour. This small-group tour is limited to 6 people per tour guide, ensuring you’ll receive personal attention from your guide.',\n",
       " 'Experience our longest ride through Scottsdale on your own personal Segway transporter, taking in the the beautiful scenery and several art installations, while learning about the historical background of Old Town and the culture which still remains. After a brief training session in a controlled parking lot, our guide will whisk you through Downtown Scottsdale, including Old Town, the Arts District, and the Waterfront. With more than 30 points of interests on this 7-mile route, you will walk away from the tour with several suggestions (and our exclusive Passport to Savings!) for local food, activities, and places to visit to help occupy the rest of your trip.',\n",
       " 'No overview for https://www.tripadvisor.com/AttractionProductReview-g31350-d19080102-Scottsdale_City_Tour-Scottsdale_Arizona.html',\n",
       " 'No overview for https://www.tripadvisor.com/AttractionProductReview-g31310-d11448247-Small_Group_or_Private_Deluxe_Phoenix_and_Scottsdale_Day_Trip-Phoenix_Arizona.html']"
      ]
     },
     "execution_count": 110,
     "metadata": {},
     "output_type": "execute_result"
    }
   ],
   "source": [
    "links_final_test = get_links_activities(links_top_attractions[0])\n",
    "\n",
    "over_list = []\n",
    "for link in links_final_test:\n",
    "    r_activity_test = requests.get(link)\n",
    "    #.replace('https','http')\n",
    "    s_r_activity_test = BeautifulSoup(r_activity_test.text,'lxml')\n",
    "    #print(links_final_test[0].replace('https','http'))\n",
    "    activity_content_test =  s_r_activity_test.find('div', attrs={'class':'AvpaRatK'})\n",
    "    if activity_content_test:\n",
    "        over_list.append(activity_content_test.find('span').text)\n",
    "       \n",
    "    else:\n",
    "        over_list.append(f'No overview for {link}')\n",
    "        \n",
    "over_list\n"
   ]
  },
  {
   "cell_type": "markdown",
   "metadata": {},
   "source": [
    "# SCRAPY"
   ]
  },
  {
   "cell_type": "code",
   "execution_count": null,
   "metadata": {},
   "outputs": [],
   "source": [
    "try:\n",
    "    import scrapy\n",
    "except:\n",
    "    !pip3 install scrapy\n",
    "    import scrapy"
   ]
  },
  {
   "cell_type": "code",
   "execution_count": null,
   "metadata": {},
   "outputs": [],
   "source": [
    "class Spidertrip(scrapy.Spider):\n",
    "    name = 'spidertrip'\n",
    "    allowed_domains = ['tripadvisor.com']\n",
    "    custom_settings = {'FEED_FORMAT': 'json', \n",
    "                      'FEED_URI':'results.json'}\n",
    "    #start_urls = "
   ]
  },
  {
   "cell_type": "code",
   "execution_count": null,
   "metadata": {},
   "outputs": [],
   "source": []
  }
 ],
 "metadata": {
  "kernelspec": {
   "display_name": "Python 3",
   "language": "python",
   "name": "python3"
  },
  "language_info": {
   "codemirror_mode": {
    "name": "ipython",
    "version": 3
   },
   "file_extension": ".py",
   "mimetype": "text/x-python",
   "name": "python",
   "nbconvert_exporter": "python",
   "pygments_lexer": "ipython3",
   "version": "3.6.9"
  }
 },
 "nbformat": 4,
 "nbformat_minor": 2
}
