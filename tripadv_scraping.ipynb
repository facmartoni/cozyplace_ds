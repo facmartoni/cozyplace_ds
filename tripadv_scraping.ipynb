{
 "cells": [
  {
   "cell_type": "code",
   "execution_count": 65,
   "metadata": {
    "scrolled": false
   },
   "outputs": [
    {
     "data": {
      "text/plain": [
       "['http://www.tripadvisor.com/Hotels',\n",
       " 'http://www.tripadvisor.com/Rentals',\n",
       " 'http://www.tripadvisor.com/Attractions',\n",
       " 'http://www.tripadvisor.com/Restaurants',\n",
       " 'http://www.tripadvisor.com/UserReview',\n",
       " 'http://www.tripadvisor.com/ForumHome']"
      ]
     },
     "execution_count": 65,
     "metadata": {},
     "output_type": "execute_result"
    }
   ],
   "source": [
    "import requests\n",
    "from bs4 import BeautifulSoup\n",
    "\n",
    "url_basic = 'https://www.tripadvisor.com/'\n",
    "tripadv = requests.get(url_basic)\n",
    "s_trip = BeautifulSoup(tripadv.text, 'lxml')\n",
    "sections = s_trip.find_all('div', attrs={'class':'_2R--RBNa _39kFrNls _2PEEtTWK _3_rLKjCx _3wprI9Ge _1_nbwDp3'})\n",
    "\n",
    "links_sections = []\n",
    "for section in sections:\n",
    "    if section.find('a'):\n",
    "        links_sections.append('http://www.tripadvisor.com'+section.find('a').get('href'))\n",
    "\n",
    "#sections[0].find('a').get('href')\n",
    "#links_sections = [section.find('a').get('href') for section in sections]\n",
    "links_sections\n",
    "\n",
    "#¿more is a button what should i do?"
   ]
  },
  {
   "cell_type": "code",
   "execution_count": 74,
   "metadata": {},
   "outputs": [
    {
     "name": "stdout",
     "output_type": "stream",
     "text": [
      "None\n"
     ]
    }
   ],
   "source": [
    "sections_adv = s_trip.find('div', attrs={'class':'_27pk-lCQ'})\n",
    "print(sections_adv)"
   ]
  },
  {
   "cell_type": "markdown",
   "metadata": {},
   "source": [
    "## SCRAPING TOP DESTINATIONS"
   ]
  },
  {
   "cell_type": "code",
   "execution_count": 97,
   "metadata": {
    "scrolled": false
   },
   "outputs": [
    {
     "data": {
      "text/plain": [
       "['http://www.tripadvisor.com/Attractions-g31350-Activities-Scottsdale_Arizona.html',\n",
       " 'http://www.tripadvisor.com/Attractions-g32655-Activities-Los_Angeles_California.html',\n",
       " 'http://www.tripadvisor.com/Attractions-g45963-Activities-Las_Vegas_Nevada.html',\n",
       " 'http://www.tripadvisor.com/Attractions-g60745-Activities-Boston_Massachusetts.html']"
      ]
     },
     "execution_count": 97,
     "metadata": {},
     "output_type": "execute_result"
    }
   ],
   "source": [
    "url_attractions = 'https://www.tripadvisor.com/Attractions'\n",
    "attractions = requests.get(url_attractions)\n",
    "s_attract = BeautifulSoup(attractions.text, 'lxml')\n",
    "top_destinations = s_attract.find('div', attrs={'data-track-label':'popular_destinations'}).find_all('div', attrs={'class':'poi ui_shelf_item_container ui_geo_shelf_item'})\n",
    "links_top_attractions = []\n",
    "for destination in top_destinations:\n",
    "    if destination.find('a'):\n",
    "        links_top_attractions.append('http://www.tripadvisor.com'+destination.find('a').get('href'))\n",
    "        \n",
    "#links_top_attractions\n",
    "\n",
    "links_top_attractions\n",
    "\n"
   ]
  },
  {
   "cell_type": "code",
   "execution_count": 247,
   "metadata": {},
   "outputs": [],
   "source": [
    "def content_info(soup):\n",
    "    #for link in links_top_attractions:\n",
    "    dir_results = {}\n",
    "    try:\n",
    "        \n",
    "        #Extracting title\n",
    "        title = soup.find('div', attrs = {'class':'_1l9azAvU'})\n",
    "        if title is not None:\n",
    "            dir_results['title'] = title.h1.text\n",
    "            \n",
    "        else:\n",
    "            title = soup.find('div', attrs={'class':'display_center ui_container'})\n",
    "            if title is not None:\n",
    "                dir_results['title'] = title.h1.text\n",
    "            else:\n",
    "                dir_results['title'] = None\n",
    "        \n",
    "        #Extracting Activities\n",
    "        #fixed for Boston\n",
    "        activities = soup.find_all('span', attrs = {'class':'_2e_OvRJN'})\n",
    "                \n",
    "        #if activities is not None:\n",
    "        if len(activities) != 0:\n",
    "            activities_list = [activitie.h3.text for activitie in activities]\n",
    "            dir_results['activities'] = activities_list\n",
    "        else:  \n",
    "          \n",
    "            activities = soup.find_all('div', attrs = {'class':'_1lY2qyk3'})\n",
    "            \n",
    "            if activities is not None:\n",
    "                activities_list = [activitie.h3.text for activitie in activities]\n",
    "                dir_results['activities'] = activities_list\n",
    "            else:\n",
    "                dir_results['activities'] = None\n",
    "                \n",
    "        #Extracting Images\n",
    "        \n",
    "        images_media = soup.find_all('a', attrs={'class':'_1zqXepI-'})\n",
    "        \n",
    "        if len(images_media) != 0:\n",
    "            images = [img.find('img').get('data-url') for img in images_media]\n",
    "            dir_results['images'] = images\n",
    "        else:\n",
    "            images_media = soup.find_all('a', attrs={'class':'_1o7ZDa9J'})\n",
    "            if images_media:\n",
    "                images = [img.img.get('data-url') for img in images_media]\n",
    "                dir_results['images'] = images\n",
    "            \n",
    "            else:\n",
    "                dir_results['images'] = None\n",
    "            \n",
    "        \n",
    "        #print(dir_results)\n",
    "      \n",
    "        return dir_results\n",
    "                                         \n",
    "          \n",
    "    except Exception as e:\n",
    "        print('Error')\n",
    "        print(e)\n",
    "        print('\\n')\n",
    "        \n",
    "\n",
    " "
   ]
  },
  {
   "cell_type": "markdown",
   "metadata": {},
   "source": [
    "### TESTS MEDIA"
   ]
  },
  {
   "cell_type": "code",
   "execution_count": null,
   "metadata": {},
   "outputs": [],
   "source": [
    "#media_test = find('')"
   ]
  },
  {
   "cell_type": "code",
   "execution_count": 246,
   "metadata": {},
   "outputs": [
    {
     "data": {
      "text/plain": [
       "'https://media-cdn.tripadvisor.com/media/photo-s/1b/73/ac/09/caption.jpg'"
      ]
     },
     "execution_count": 246,
     "metadata": {},
     "output_type": "execute_result"
    }
   ],
   "source": [
    "from IPython.display import Image\n",
    "\n",
    "url_test_boston = 'http://www.tripadvisor.com/Attractions-g60745-Activities-Boston_Massachusetts.html'\n",
    "request_boston = requests.get(url_test_boston)\n",
    "s_boston = BeautifulSoup(request_boston.text, 'lxml')    \n",
    "\n",
    "media_boston = s_boston.find('a', attrs={'class':'_1o7ZDa9J'}).img\n",
    "media_boston.get('data-url')\n",
    "\n",
    "#image_req = requests.get(media_boston)\n",
    "\n",
    "#image_req.status_code\n",
    "#Image(image_req.content)\n",
    "#media_content = s_content.find_all('a', attrs={'class':'_1zqXepI-'})\n"
   ]
  },
  {
   "cell_type": "code",
   "execution_count": 173,
   "metadata": {
    "collapsed": true
   },
   "outputs": [
    {
     "name": "stdout",
     "output_type": "stream",
     "text": [
      "['Boston Old Town Hop On Hop Off Trolley Tour', 'Boston Tea Party Ships & Museum Admission', 'Boston Classic: Duck Boat Sightseeing Tour', 'Boston Ghosts & Gravestones Night-Time Trolley Tour', \"Martha's Vineyard Day Trip from Boston with Optional Island Tour (Small Group)\", 'Walking Tour of Freedom Trail History (Small Group)', 'New England Aquarium Admission in Boston', 'Go Boston All-Inclusive Pass', 'Boston Odyssey Dinner Cruise', 'Sightseeing Day Sail around Boston Harbor', 'Sunset Cruise', 'Boston Odyssey Dinner Cruise', 'Secret Boston Vip Tour', \"Boston's North End Small-Group Walking Food Tour\", \"Fresh Pasta Making Lesson in Boston's North End (Homemade Pasta in Little Italy)\", 'Classic Bites of Boston Food Tour', 'Day Trip to Boston & Woodbury Common Premium Outlets.', 'Boston Instagram Tour: Most Famous Spots (Private & All-Inclusive)', 'Boston Walk Through History Private Tour All-Inclusive', 'Boston to Plymouth Small Group Day-Trip with Plimoth Plantation & Mayflower II', 'Historic Discovery Guided Boston Mini-Bus Tour', \"Boston's Freedom Trail GPS Self-Guided Audio Walk on Your Phone.\", \"Boston's Freedom Trail, 3 tours in 1, Smart Phone Guided Tour (GPS) - go anytime\", \"Boston's Freedom Trail - Smart Phone guided (GPS) walking tour - go anytime\", 'Private Historical Day Tour from Boston with Private Driver', \"The Ghosts of Boston's Past Haunted Self-guided Tour\", 'Historic Boston Crime Tours - North End Tour', 'Boston Freedom Trail Self-Guided Walking Tour', 'Day Trip to Boston & Woodbury Common Premium Outlets.', 'Day Trip to Boston & Woodbury Common Premium Outlets.', 'The Art of Paul Pedulla', 'Hire Photographer, Professional Photo shoot - Boston']\n"
     ]
    }
   ],
   "source": [
    "content_test = requests.get('https://www.tripadvisor.com/Attractions-g60745-Activities-Boston_Massachusetts.html')\n",
    "if content.status_code == 200:\n",
    "    s_content_test = BeautifulSoup(content_test.text,'lxml')\n",
    "    activities_test = s_content_test.find_all('div', attrs = {'class':'_1lY2qyk3'})\n",
    "    activities_list = [activitie.h3.text for activitie in activities_test]\n",
    "    print(activities_list)\n",
    "\n"
   ]
  },
  {
   "cell_type": "markdown",
   "metadata": {},
   "source": [
    "### CALL CONTENT_INFO"
   ]
  },
  {
   "cell_type": "code",
   "execution_count": 248,
   "metadata": {},
   "outputs": [
    {
     "name": "stdout",
     "output_type": "stream",
     "text": [
      "{'title': 'Things to Do in Scottsdale', 'activities': ['Sonoran Desert Jeep Tour at Sunset', 'Medieval Times Dinner & Tournament Admission Ticket in Scottsdale', '2-Hour Scottsdale Segway Tours - 10am Departure', 'Half Day Sonoran Desert Mountain Biking Tour', 'Phoenix Indoor Skydiving Experience with 2 Flights & Personalized Certificate', '1-Hour Private Chemical Lab Escape Room Experience', 'Grand Canyon and Sedona Day Adventure from Scottsdale or Phoenix', '1.5 Hour Scottsdale Segway Tour', '2-Hour Arizona Desert Guided E-Bike Tour', '2-Person Guided U-Drive ATV Sand Buggy Tour', 'Sonoran Desert 2 Hour Guided ATV Adventure', 'Sonoran Desert Jeep Tour - Morning or Afternoon', 'Party Bike Pub Crawl of Old Town Scottsdale', 'Horse Country Estate and Vineyard Wine Tasting Tour', 'Arizona Food Tours- A Taste of Old Town Scottsdale ', 'H2 Hummer VIP Sunset Wine and Cheese Tour for Couples ', 'Small-Group or Private Deluxe Phoenix and Scottsdale Day Trip', 'Scottsdale City Tour', '2-Hour Scottsdale Segway Tours - 4pm Departure', 'Scottsdale Segway Tour - Evening'], 'images': ['https://media-cdn.tripadvisor.com/media/attractions-splice-spp-360x240/0a/8c/e9/7e.jpg', 'https://media-cdn.tripadvisor.com/media/attractions-splice-spp-360x240/07/a2/f7/88.jpg', 'https://media-cdn.tripadvisor.com/media/attractions-splice-spp-360x240/06/96/63/d2.jpg', 'https://media-cdn.tripadvisor.com/media/attractions-splice-spp-360x240/09/48/7a/d5.jpg', 'https://media-cdn.tripadvisor.com/media/attractions-splice-spp-360x240/0b/1a/0f/15.jpg', 'https://media-cdn.tripadvisor.com/media/attractions-splice-spp-360x240/06/71/cf/cf.jpg', 'https://media-cdn.tripadvisor.com/media/attractions-splice-spp-360x240/06/8e/19/3a.jpg', 'https://media-cdn.tripadvisor.com/media/attractions-splice-spp-360x240/08/81/d7/1b.jpg', 'https://media-cdn.tripadvisor.com/media/attractions-splice-spp-360x240/06/f1/6b/4e.jpg', 'https://media-cdn.tripadvisor.com/media/attractions-splice-spp-360x240/0a/96/07/c8.jpg', 'https://media-cdn.tripadvisor.com/media/attractions-splice-spp-360x240/06/e6/2e/8d.jpg', 'https://media-cdn.tripadvisor.com/media/attractions-splice-spp-360x240/09/b8/c9/3f.jpg', 'https://media-cdn.tripadvisor.com/media/attractions-splice-spp-360x240/06/71/ab/48.jpg', 'https://media-cdn.tripadvisor.com/media/attractions-splice-spp-360x240/07/6f/4f/62.jpg', 'https://media-cdn.tripadvisor.com/media/attractions-splice-spp-360x240/06/eb/1c/6e.jpg', 'https://media-cdn.tripadvisor.com/media/attractions-splice-spp-360x240/0a/81/fb/de.jpg', 'https://media-cdn.tripadvisor.com/media/attractions-splice-spp-360x240/06/d7/83/eb.jpg', 'https://media-cdn.tripadvisor.com/media/attractions-splice-spp-360x240/0b/2d/28/e1.jpg', 'https://media-cdn.tripadvisor.com/media/attractions-splice-spp-360x240/09/35/a2/61.jpg', 'https://media-cdn.tripadvisor.com/media/attractions-splice-spp-360x240/09/9f/81/09.jpg']}\n",
      "{'title': 'Things to Do in Los Angeles', 'activities': ['Hollywood Sightseeing and Celebrity Homes Tour by Open-Top Bus', 'Private Helicopter Tour over Long Beach and Los Angeles', 'Griffith Park Experience: Hollywood Hills Hike', 'Swan Boat Rental in Echo Park', 'Museum of Illusions OR Upside Down House Ticket', 'DTLA Murder Mystery Ghost Tour', '1 Hour 30 Minutes Venice Beach Surf Lesson', 'West Hollywood Food Tour', 'Perfect 5 ½ Hour LA & Hollywood Tour from Santa Monica', 'Full-Day Iconic Sights of LA, Hollywood, Beverly Hills, the Beaches and More', 'Horseback Riding near the Hollywood Sign with Transportation from Anaheim', 'The Best of LA Tour from Anaheim or LA: Hollywood, Beverly Hills and Beaches', '3 Hours Los Angeles VIP Tour', \"Hollywood Tours & Celebrity Homes - 'The Original Hollywood Tour' - Open Air Bus\", 'Los Angeles Hop-On Hop-Off Double-Decker Bus Tour', 'Small Group Electric Bicycle Tour of Santa Monica and Venice Beach', 'Self-Guided Outdoor Tour Experience', 'Madame Tussauds Hollywood Admission Ticket', 'Hollywood Wax Museum & Guinness World Records Museum Combo Admission', 'Best Ferrari California Tour to Hollywood Sign', 'Skip the Line: Express Ticket at Universal Studios Hollywood', 'The VIP Experience at Universal Studios Hollywood', 'Universal Studios Hollywood General Admission Ticket'], 'images': ['https://media-cdn.tripadvisor.com/media/attractions-splice-spp-360x240/0a/04/94/4b.jpg', 'https://media-cdn.tripadvisor.com/media/attractions-splice-spp-360x240/06/6b/6a/97.jpg', 'https://media-cdn.tripadvisor.com/media/attractions-splice-spp-360x240/06/f1/30/3f.jpg', 'https://media-cdn.tripadvisor.com/media/attractions-splice-spp-360x240/09/19/0c/76.jpg', 'https://media-cdn.tripadvisor.com/media/attractions-splice-spp-360x240/09/29/50/b8.jpg', 'https://media-cdn.tripadvisor.com/media/attractions-splice-spp-360x240/07/8e/9e/95.jpg', 'https://media-cdn.tripadvisor.com/media/attractions-splice-spp-360x240/07/97/8a/8f.jpg', 'https://media-cdn.tripadvisor.com/media/attractions-splice-spp-360x240/0a/31/d1/aa.jpg', 'https://media-cdn.tripadvisor.com/media/attractions-splice-spp-360x240/06/72/ff/b2.jpg', 'https://media-cdn.tripadvisor.com/media/attractions-splice-spp-360x240/07/7a/4f/bd.jpg', 'https://media-cdn.tripadvisor.com/media/attractions-splice-spp-360x240/06/e4/c0/42.jpg', 'https://media-cdn.tripadvisor.com/media/attractions-splice-spp-360x240/07/2b/d7/e8.jpg', 'https://media-cdn.tripadvisor.com/media/attractions-splice-spp-360x240/09/54/7c/ba.jpg', 'https://media-cdn.tripadvisor.com/media/attractions-splice-spp-360x240/06/73/47/4a.jpg', 'https://media-cdn.tripadvisor.com/media/attractions-splice-spp-360x240/09/f6/0a/f8.jpg', 'https://media-cdn.tripadvisor.com/media/attractions-splice-spp-360x240/07/8a/80/05.jpg', 'https://media-cdn.tripadvisor.com/media/attractions-splice-spp-360x240/0a/e0/97/1a.jpg', 'https://media-cdn.tripadvisor.com/media/attractions-splice-spp-360x240/06/e4/a6/ae.jpg', 'https://media-cdn.tripadvisor.com/media/attractions-splice-spp-360x240/06/7b/18/07.jpg', 'https://media-cdn.tripadvisor.com/media/attractions-splice-spp-360x240/0b/19/89/2c.jpg', 'https://media-cdn.tripadvisor.com/media/attractions-splice-spp-360x240/09/15/d3/ba.jpg', 'https://media-cdn.tripadvisor.com/media/attractions-splice-spp-360x240/09/15/d0/0c.jpg', 'https://media-cdn.tripadvisor.com/media/attractions-splice-spp-360x240/09/15/ce/eb.jpg']}\n",
      "{'title': 'Things to Do in Las Vegas', 'activities': ['The High Roller at The LINQ Ticket', 'Las Vegas Helicopter Night Flight with Optional VIP Transportation', 'Las Vegas Super Saver: Madame Tussauds with Gondola Boat Ride', 'Fly LINQ Zipline at The LINQ', 'Grand Canyon West Rim with Optional Skywalk Ticket and Hoover Dam Photo Stop', 'Emerald Cave Kayak Tour on The Colorado River from Las Vegas', 'Big Bus Las Vegas Hop-On Hop-Off Tour', 'Masters of Magic Show Tickets at Las Vegas Magic Theater', 'Historic Downtown Walking Tour in Las Vegas', 'Christmas Magic Show Ticket at Las Vegas Magic Theater', 'Private Tour: 7-Day Highlight Tour of Southwest Mighty Five', 'Skip-The-Line Ticket to Experience Magic Up Close Show', 'Extreme RZR Tour of Hidden Valley and Primm from Las Vegas', 'Grand Canyon West Rim Bus Tour from Las Vegas with Optional Upgrades', 'Las Vegas Hot Air Balloon Ride', 'Grand Canyon South Rim Bus Tour', 'Madame Tussauds Las Vegas Admission Ticket', 'Eiffel Tower Viewing Deck at Paris Las Vegas', 'Las Vegas Mob Museum Admission Ticket', 'Stratosphere Tower Observation Deck Ticket', 'Mystère by Cirque du Soleil at Treasure Island Hotel & Casino', 'KÀ™ by Cirque du Soleil® at the MGM Grand Hotel and Casino', 'The Beatles™ LOVE™ by Cirque du Soleil® at the Mirage Hotel and Casino', '\"O™\" by Cirque du Soleil® at the Bellagio Hotel and Casino'], 'images': ['https://media-cdn.tripadvisor.com/media/attractions-splice-spp-360x240/07/6f/f1/ee.jpg', 'https://media-cdn.tripadvisor.com/media/attractions-splice-spp-360x240/0a/f0/89/9b.jpg', 'https://media-cdn.tripadvisor.com/media/attractions-splice-spp-360x240/07/69/94/0d.jpg', 'https://media-cdn.tripadvisor.com/media/attractions-splice-spp-360x240/07/90/75/11.jpg', 'https://media-cdn.tripadvisor.com/media/attractions-splice-spp-360x240/0a/9a/4c/e1.jpg', 'https://media-cdn.tripadvisor.com/media/attractions-splice-spp-360x240/0a/29/a4/a7.jpg', 'https://media-cdn.tripadvisor.com/media/attractions-splice-spp-360x240/0a/ed/c9/e4.jpg', 'https://media-cdn.tripadvisor.com/media/attractions-splice-spp-360x240/0b/22/f8/bb.jpg', 'https://media-cdn.tripadvisor.com/media/attractions-splice-spp-360x240/0b/30/62/5b.jpg', 'https://media-cdn.tripadvisor.com/media/attractions-splice-spp-360x240/0b/34/23/ec.jpg', 'https://media-cdn.tripadvisor.com/media/attractions-splice-spp-360x240/0b/30/16/fb.jpg', 'https://media-cdn.tripadvisor.com/media/attractions-splice-spp-360x240/0b/34/75/b3.jpg', 'https://media-cdn.tripadvisor.com/media/attractions-splice-spp-360x240/09/99/c3/bc.jpg', 'https://media-cdn.tripadvisor.com/media/attractions-splice-spp-360x240/06/71/4e/01.jpg', 'https://media-cdn.tripadvisor.com/media/attractions-splice-spp-360x240/07/49/3f/12.jpg', 'https://media-cdn.tripadvisor.com/media/attractions-splice-spp-360x240/0b/30/7e/e9.jpg', 'https://media-cdn.tripadvisor.com/media/attractions-splice-spp-360x240/07/38/d2/d4.jpg', 'https://media-cdn.tripadvisor.com/media/attractions-splice-spp-360x240/0b/04/ae/67.jpg', 'https://media-cdn.tripadvisor.com/media/attractions-splice-spp-360x240/07/05/c4/1d.jpg', 'https://media-cdn.tripadvisor.com/media/attractions-splice-spp-360x240/09/20/6b/f3.jpg', 'https://media-cdn.tripadvisor.com/media/attractions-splice-spp-360x240/07/71/7d/88.jpg', 'https://media-cdn.tripadvisor.com/media/attractions-splice-spp-360x240/06/6e/cf/c2.jpg', 'https://media-cdn.tripadvisor.com/media/attractions-splice-spp-360x240/06/6e/cf/d0.jpg', 'https://media-cdn.tripadvisor.com/media/attractions-splice-spp-360x240/06/6e/cf/d7.jpg']}\n"
     ]
    },
    {
     "name": "stdout",
     "output_type": "stream",
     "text": [
      "{'title': 'Things to Do in Boston', 'activities': ['Boston Old Town Hop On Hop Off Trolley Tour', 'Boston Tea Party Ships & Museum Admission', 'Boston Classic: Duck Boat Sightseeing Tour', 'Boston Ghosts & Gravestones Night-Time Trolley Tour', \"Martha's Vineyard Day Trip from Boston with Optional Island Tour (Small Group)\", 'Walking Tour of Freedom Trail History (Small Group)', 'New England Aquarium Admission in Boston', 'Go Boston All-Inclusive Pass', 'Spirit of Boston Lunch Cruise', 'Sightseeing Day Sail around Boston Harbor', 'Sunset Cruise', 'Boston Odyssey Dinner Cruise', 'Secret Boston Vip Tour', \"Fresh Pasta Making Lesson in Boston's North End (Homemade Pasta in Little Italy)\", 'Classic Bites of Boston Food Tour', 'Spirit of Boston Lunch Cruise', 'Boston Freedom Trail Day Trip from New York City', 'Historic Discovery Guided Boston Mini-Bus Tour', \"Martha's Vineyard Day Trip from Boston with Optional Island Tour (Small Group)\", 'Boston to New Hampshire Fall Foliage White Mountains Tour', 'Boston Odyssey Dinner Cruise', 'Boston Odyssey Lunch Cruise', 'New England Fall Foliage Lunch Cruise in Boston Harbor', 'Boston Classic: Duck Boat Sightseeing Tour', 'Boston to Coastal Maine Private Day Trip', 'Boston to New Hampshire Fall Foliage White Mountains Tour', 'Boston Instagram Tour: Most Famous Spots (Private & All-Inclusive)', 'Boston to Plymouth Small Group Day-Trip with Plimoth Plantation & Mayflower II', 'Boston Small-Group Food & History North End Freedom Trail Walking Tour', 'Boston\\'s North End \"Little Italy\" Pizza, Cannoli, and Freedom Trail Walking Tour', 'Tour of The Freedom Trail', \"Boston's Freedom Trail GPS Self-Guided Audio Walk on Your Phone.\", 'Boston Whale Watching Cruise by High-Speed Catamaran', \"Boston's North End Small-Group Walking Food Tour\", 'Boston Ghost Tour', 'Spirit of Boston Sunset Dinner Cruise with Buffet'], 'images': ['https://media-cdn.tripadvisor.com/media/photo-s/1b/73/ac/09/caption.jpg', 'https://media-cdn.tripadvisor.com/media/photo-s/1b/9a/61/10/caption.jpg', 'https://media-cdn.tripadvisor.com/media/photo-s/1b/67/6a/ab/caption.jpg', 'https://media-cdn.tripadvisor.com/media/photo-s/1b/73/ab/b9/caption.jpg', 'https://media-cdn.tripadvisor.com/media/photo-s/1a/58/d5/77/caption.jpg', 'https://media-cdn.tripadvisor.com/media/photo-s/1a/7d/59/bd/caption.jpg', 'https://media-cdn.tripadvisor.com/media/photo-s/1a/5b/a3/a5/caption.jpg', 'https://media-cdn.tripadvisor.com/media/photo-s/1a/5f/d2/15/caption.jpg', 'https://media-cdn.tripadvisor.com/media/photo-s/1a/c4/49/b8/caption.jpg', 'https://media-cdn.tripadvisor.com/media/photo-s/1b/9a/77/08/caption.jpg', 'https://media-cdn.tripadvisor.com/media/photo-s/1a/f6/7b/09/caption.jpg', 'https://media-cdn.tripadvisor.com/media/photo-s/1a/f1/74/52/caption.jpg', 'https://media-cdn.tripadvisor.com/media/photo-s/1b/79/54/30/caption.jpg', 'https://media-cdn.tripadvisor.com/media/photo-s/1b/16/13/d6/caption.jpg', 'https://media-cdn.tripadvisor.com/media/photo-s/1a/86/31/e1/caption.jpg', 'https://media-cdn.tripadvisor.com/media/photo-s/1a/c4/49/b8/caption.jpg', 'https://media-cdn.tripadvisor.com/media/photo-s/1a/5b/37/d0/caption.jpg', 'https://media-cdn.tripadvisor.com/media/photo-s/1a/65/19/91/caption.jpg', 'https://media-cdn.tripadvisor.com/media/photo-s/1a/58/d5/77/caption.jpg', 'https://media-cdn.tripadvisor.com/media/photo-s/1b/9a/60/f4/caption.jpg', 'https://media-cdn.tripadvisor.com/media/photo-s/1a/f1/74/52/caption.jpg', 'https://media-cdn.tripadvisor.com/media/photo-s/1a/f1/92/0b/caption.jpg', 'https://media-cdn.tripadvisor.com/media/photo-s/1a/86/2f/07/caption.jpg', 'https://media-cdn.tripadvisor.com/media/photo-s/1b/67/6a/ab/caption.jpg', 'https://media-cdn.tripadvisor.com/media/photo-s/1a/58/30/ca/caption.jpg', 'https://media-cdn.tripadvisor.com/media/photo-s/1b/9a/60/f4/caption.jpg', 'https://media-cdn.tripadvisor.com/media/photo-s/1b/b0/55/16/caption.jpg', 'https://media-cdn.tripadvisor.com/media/photo-s/1a/58/9b/87/caption.jpg', 'https://media-cdn.tripadvisor.com/media/photo-s/1b/73/b6/e0/caption.jpg', 'https://media-cdn.tripadvisor.com/media/photo-s/1b/d1/d4/08/caption.jpg', 'https://media-cdn.tripadvisor.com/media/photo-s/1b/73/ab/dd/caption.jpg', 'https://media-cdn.tripadvisor.com/media/photo-s/1c/00/f1/bb/caption.jpg', 'https://media-cdn.tripadvisor.com/media/photo-s/1b/5c/31/d2/caption.jpg', 'https://media-cdn.tripadvisor.com/media/photo-s/1b/73/ac/3a/caption.jpg', 'https://media-cdn.tripadvisor.com/media/photo-s/1b/79/63/32/caption.jpg', 'https://media-cdn.tripadvisor.com/media/photo-s/1b/9a/77/04/caption.jpg']}\n"
     ]
    }
   ],
   "source": [
    "from IPython.display import Image\n",
    "for link in links_top_attractions:\n",
    "    content = requests.get(link)\n",
    "    if content.status_code == 200:\n",
    "        s_content = BeautifulSoup(content.text,'lxml')\n",
    "        results = content_info(s_content)\n",
    "        print(results)\n",
    "        sites_images = results['images']\n",
    "        for img in sites_images:\n",
    "            image_req = requests.get(img)\n",
    "            #print(image_req.status_code)\n",
    "            Image(image_req.content)\n",
    "                        \n",
    "\n",
    "            \n",
    "\n",
    "\n",
    "        #images_list = results['images']\n",
    "        #images_list\n",
    "        #for image in images_list:\n",
    "         #   image_req = requests.get(image)\n",
    "       \n",
    "\n",
    "\n",
    "\n"
   ]
  },
  {
   "cell_type": "markdown",
   "metadata": {},
   "source": [
    "# SCRAPY"
   ]
  },
  {
   "cell_type": "code",
   "execution_count": 7,
   "metadata": {},
   "outputs": [],
   "source": [
    "try:\n",
    "    import scrapy\n",
    "except:\n",
    "    !pip3 install scrapy\n",
    "    import scrapy"
   ]
  },
  {
   "cell_type": "code",
   "execution_count": 12,
   "metadata": {},
   "outputs": [],
   "source": [
    "class Spidertrip(scrapy.Spider):\n",
    "    name = 'spidertrip'\n",
    "    allowed_domains = ['tripadvisor.com']\n",
    "    custom_settings = {'FEED_FORMAT': 'json', \n",
    "                      'FEED_URI':'results.json'}\n",
    "    #start_urls = "
   ]
  },
  {
   "cell_type": "code",
   "execution_count": null,
   "metadata": {},
   "outputs": [],
   "source": []
  }
 ],
 "metadata": {
  "kernelspec": {
   "display_name": "Python 3",
   "language": "python",
   "name": "python3"
  },
  "language_info": {
   "codemirror_mode": {
    "name": "ipython",
    "version": 3
   },
   "file_extension": ".py",
   "mimetype": "text/x-python",
   "name": "python",
   "nbconvert_exporter": "python",
   "pygments_lexer": "ipython3",
   "version": "3.6.9"
  }
 },
 "nbformat": 4,
 "nbformat_minor": 2
}
