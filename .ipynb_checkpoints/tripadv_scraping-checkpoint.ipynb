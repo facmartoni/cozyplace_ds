{
 "cells": [
  {
   "cell_type": "code",
   "execution_count": 14,
   "metadata": {
    "scrolled": false
   },
   "outputs": [
    {
     "name": "stdout",
     "output_type": "stream",
     "text": [
      "<Response [200]>\n"
     ]
    }
   ],
   "source": [
    "import requests\n",
    "from bs4 import BeautifulSoup\n",
    "\n",
    "url_basic = 'http://www.tripadvisor.com'\n",
    "tripadv = requests.get(url_basic)\n",
    "s_trip = BeautifulSoup(tripadv.text, 'lxml')\n",
    "sections = s_trip.find_all('div', attrs={'class':'_2R--RBNa _39kFrNls _2PEEtTWK _3_rLKjCx _3wprI9Ge _1_nbwDp3'})\n",
    "\n",
    "links_sections = []\n",
    "for section in sections:\n",
    "    if section.find('a'):\n",
    "        links_sections.append('http://www.tripadvisor.com'+section.find('a').get('href'))\n",
    "\n",
    "#sections[0].find('a').get('href')\n",
    "#links_sections = [section.find('a').get('href') for section in sections]\n",
    "links_sections\n",
    "print(tripadv)\n",
    "\n",
    "#¿more is a button what should i do?"
   ]
  },
  {
   "cell_type": "code",
   "execution_count": 15,
   "metadata": {},
   "outputs": [
    {
     "name": "stdout",
     "output_type": "stream",
     "text": [
      "None\n"
     ]
    }
   ],
   "source": [
    "sections_adv = s_trip.find('div', attrs={'class':'_27pk-lCQ'})\n",
    "print(sections_adv)"
   ]
  },
  {
   "cell_type": "markdown",
   "metadata": {},
   "source": [
    "## SCRAPING TOP DESTINATIONS"
   ]
  },
  {
   "cell_type": "code",
   "execution_count": 16,
   "metadata": {
    "scrolled": false
   },
   "outputs": [
    {
     "data": {
      "text/plain": [
       "['http://www.tripadvisor.com/Attractions-g31350-Activities-Scottsdale_Arizona.html',\n",
       " 'http://www.tripadvisor.com/Attractions-g32655-Activities-Los_Angeles_California.html',\n",
       " 'http://www.tripadvisor.com/Attractions-g45963-Activities-Las_Vegas_Nevada.html',\n",
       " 'http://www.tripadvisor.com/Attractions-g60634-Activities-Lahaina_Maui_Hawaii.html']"
      ]
     },
     "execution_count": 16,
     "metadata": {},
     "output_type": "execute_result"
    }
   ],
   "source": [
    "url_attractions = 'https://www.tripadvisor.com/Attractions'\n",
    "attractions = requests.get(url_attractions)\n",
    "s_attract = BeautifulSoup(attractions.text, 'lxml')\n",
    "top_destinations = s_attract.find('div', attrs={'data-track-label':'popular_destinations'}).find_all('div', attrs={'class':'poi ui_shelf_item_container ui_geo_shelf_item'})\n",
    "links_top_attractions = []\n",
    "for destination in top_destinations:\n",
    "    if destination.find('a'):\n",
    "        links_top_attractions.append('http://www.tripadvisor.com'+destination.find('a').get('href'))\n",
    "        \n",
    "#links_top_attractions\n",
    "\n",
    "links_top_attractions\n",
    "\n"
   ]
  },
  {
   "cell_type": "code",
   "execution_count": 17,
   "metadata": {},
   "outputs": [],
   "source": [
    "def content_info(soup, activities_list_urls):\n",
    "    #for link in links_top_attractions:\n",
    "    dir_results = {}\n",
    "    try:\n",
    "        \n",
    "        #Extracting title\n",
    "        title = soup.find('div', attrs = {'class':'_1l9azAvU'})\n",
    "        if title is not None:\n",
    "            dir_results['title'] = title.h1.text\n",
    "            \n",
    "        else:\n",
    "            title = soup.find('div', attrs={'class':'display_center ui_container'})\n",
    "            if title is not None:\n",
    "                dir_results['title'] = title.h1.text\n",
    "            else:\n",
    "                dir_results['title'] = None\n",
    "        \n",
    "        #Extracting Activities\n",
    "        #fixed for Boston\n",
    "        activities = soup.find_all('span', attrs = {'class':'_2e_OvRJN'})\n",
    "                \n",
    "        #if activities is not None:\n",
    "        if len(activities) != 0:\n",
    "            activities_list = [activitie.h3.text for activitie in activities]\n",
    "            dir_results['activities'] = activities_list\n",
    "        else:  \n",
    "          \n",
    "            activities = soup.find_all('div', attrs = {'class':'_1lY2qyk3'})\n",
    "            \n",
    "            if activities is not None:\n",
    "                activities_list = [activitie.h3.text for activitie in activities]\n",
    "                dir_results['activities'] = activities_list\n",
    "            else:\n",
    "                dir_results['activities'] = None\n",
    "                \n",
    "        #Extracting Images\n",
    "        \n",
    "        images_media = soup.find_all('a', attrs={'class':'_1zqXepI-'})\n",
    "        \n",
    "        if len(images_media) != 0:\n",
    "            images = [img.find('img').get('data-url') for img in images_media]\n",
    "            dir_results['images'] = [img_fin.replace('https','http') for img_fin in images]\n",
    "        else:\n",
    "            images_media = soup.find_all('a', attrs={'class':'_1o7ZDa9J'})\n",
    "            if images_media:\n",
    "                images = [img.img.get('data-url') for img in images_media]\n",
    "                dir_results['images'] = [img_fin.replace('https','http') for img_fin in images]\n",
    "            \n",
    "            else:\n",
    "                dir_results['images'] = None\n",
    "        \n",
    "        #Extracting Content\n",
    "        \n",
    "        \n",
    "        content_overview = get_content(activities_list_urls)\n",
    "        if content_overview:\n",
    "            dir_results['overviews'] = content_overview\n",
    "        else:\n",
    "            dir_results['overviews'] = None\n",
    "        \n",
    "            \n",
    "        \n",
    "        #print(dir_results)\n",
    "      \n",
    "        return dir_results\n",
    "                                         \n",
    "          \n",
    "    except Exception as e:\n",
    "        print('Error')\n",
    "        print(e)\n",
    "        print('\\n')\n",
    "        \n",
    "\n",
    " "
   ]
  },
  {
   "cell_type": "markdown",
   "metadata": {},
   "source": [
    "## GET CONTENT"
   ]
  },
  {
   "cell_type": "code",
   "execution_count": 18,
   "metadata": {},
   "outputs": [],
   "source": [
    "\n",
    "\n",
    "def get_links_activities(url_city):\n",
    "    r_url_city = requests.get(url_city)\n",
    "    if r_url_city.status_code == 200:\n",
    "        s_city =  BeautifulSoup(r_url_city.text, 'lxml')\n",
    "        activities_class = s_city.find_all('div', attrs={'class':'_1sXmOkVY'})\n",
    "        links_activities = [(url_basic+activity.find('a').get('href')) for activity in activities_class]\n",
    "                            #.replace('https','http') for activity in activities_class]\n",
    "    \n",
    "    return links_activities\n",
    "    \n",
    "\n",
    "def get_content(activities_list):\n",
    "    activities_overview = []\n",
    "    for activity in activities_list:\n",
    "        r_activity = requests.get(activity)\n",
    "        if r_activity.status_code == 200:\n",
    "            r_activity_soup = BeautifulSoup(r_activity.text,'lxml')\n",
    "            activity_content =  r_activity_soup.find('div', attrs={'class':'AvpaRatK'})\n",
    "            if activity_content:\n",
    "                activities_overview.append(activity_content.find('span').text)\n",
    "            else:\n",
    "                activities_overview.append('Activity N/A')\n",
    "            \n",
    "    \n",
    "    return activities_overview\n",
    "        \n",
    "        #links_Activities =  s_content_activities.find\n",
    "        "
   ]
  },
  {
   "cell_type": "code",
   "execution_count": 19,
   "metadata": {
    "collapsed": true
   },
   "outputs": [
    {
     "name": "stdout",
     "output_type": "stream",
     "text": [
      "['http://www.tripadvisor.com/AttractionProductReview-g45963-d12152754-The_High_Roller_at_The_LINQ_Ticket-Las_Vegas_Nevada.html', 'http://www.tripadvisor.com/AttractionProductReview-g45963-d11451833-Las_Vegas_Helicopter_Night_Flight_with_Optional_VIP_Transportation-Las_Vegas_Nevada.html', 'http://www.tripadvisor.com/AttractionProductReview-g45963-d15358897-Fly_LINQ_Zipline_at_The_LINQ-Las_Vegas_Nevada.html', 'http://www.tripadvisor.com/AttractionProductReview-g45963-d11461471-Grand_Canyon_West_Rim_with_Optional_Skywalk_Ticket_and_Hoover_Dam_Photo_Stop-Las_Ve.html', 'http://www.tripadvisor.com/AttractionProductReview-g45963-d15658319-Emerald_Cave_Kayak_Tour_on_The_Colorado_River_from_Las_Vegas-Las_Vegas_Nevada.html', 'http://www.tripadvisor.com/AttractionProductReview-g45963-d21208919-Masters_of_Magic_Show_Tickets_at_Las_Vegas_Magic_Theater-Las_Vegas_Nevada.html', 'http://www.tripadvisor.com/AttractionProductReview-g45963-d11450628-Big_Bus_Las_Vegas_Hop_On_Hop_Off_Tour-Las_Vegas_Nevada.html', 'http://www.tripadvisor.com/AttractionProductReview-g45963-d15634043-VIP_60_Min_Couples_Massage-Las_Vegas_Nevada.html', 'http://www.tripadvisor.com/AttractionProductReview-g45963-d11449101-Extreme_RZR_Tour_of_Hidden_Valley_and_Primm_from_Las_Vegas-Las_Vegas_Nevada.html', 'http://www.tripadvisor.com/AttractionProductReview-g45963-d11450264-Grand_Canyon_West_Rim_Bus_Tour_from_Las_Vegas_with_Optional_Upgrades-Las_Vegas_Neva.html', 'http://www.tripadvisor.com/AttractionProductReview-g45963-d11450638-Las_Vegas_Hot_Air_Balloon_Ride-Las_Vegas_Nevada.html', 'http://www.tripadvisor.com/AttractionProductReview-g45963-d14499647-Zion_and_Bryce_Canyon_National_Parks_Small_Group_Tour_from_Las_Vegas-Las_Vegas_Neva.html', 'http://www.tripadvisor.com/AttractionProductReview-g45963-d11449286-Madame_Tussauds_Las_Vegas_Admission_Ticket-Las_Vegas_Nevada.html', 'http://www.tripadvisor.com/AttractionProductReview-g45963-d12152753-Eiffel_Tower_Viewing_Deck_at_Paris_Las_Vegas-Las_Vegas_Nevada.html', 'http://www.tripadvisor.com/AttractionProductReview-g45963-d11453154-Las_Vegas_Mob_Museum_Admission_Ticket-Las_Vegas_Nevada.html', 'http://www.tripadvisor.com/AttractionProductReview-g45963-d12726126-Stratosphere_Tower_Observation_Deck_Ticket-Las_Vegas_Nevada.html', 'http://www.tripadvisor.com/AttractionProductReview-g45963-d11448960-Ultimate_Hoover_Dam_Tour_from_Las_Vegas-Las_Vegas_Nevada.html', 'http://www.tripadvisor.com/AttractionProductReview-g45963-d21348249-Christmas_Magic_Show_Ticket_at_Las_Vegas_Magic_Theater-Las_Vegas_Nevada.html', 'http://www.tripadvisor.com/AttractionProductReview-g45963-d21314762-Private_Tour_7_Day_Highlight_Tour_of_Southwest_Mighty_Five-Las_Vegas_Nevada.html', 'http://www.tripadvisor.com/AttractionProductReview-g45963-d21348286-Skip_The_Line_Ticket_to_Experience_Magic_Up_Close_Show-Las_Vegas_Nevada.html', 'http://www.tripadvisor.com/AttractionProductReview-g45963-d15209788-Mystere_by_Cirque_du_Soleil_at_Treasure_Island_Hotel_Casino-Las_Vegas_Nevada.html', 'http://www.tripadvisor.com/AttractionProductReview-g45963-d12165010-KA_by_Cirque_du_SoleilR_at_the_MGM_Grand_Hotel_and_Casino-Las_Vegas_Nevada.html', 'http://www.tripadvisor.com/AttractionProductReview-g45963-d12165011-The_Beatles_LOVE_by_Cirque_du_SoleilR_at_the_Mirage_Hotel_and_Casino-Las_Vegas_Neva.html', 'http://www.tripadvisor.com/AttractionProductReview-g45963-d12165098-O_by_Cirque_du_SoleilR_at_the_Bellagio_Hotel_and_Casino-Las_Vegas_Nevada.html']\n"
     ]
    },
    {
     "ename": "AttributeError",
     "evalue": "'list' object has no attribute 'find'",
     "output_type": "error",
     "traceback": [
      "\u001b[0;31m---------------------------------------------------------------------------\u001b[0m",
      "\u001b[0;31mAttributeError\u001b[0m                            Traceback (most recent call last)",
      "\u001b[0;32m<ipython-input-19-69e5add0427e>\u001b[0m in \u001b[0;36m<module>\u001b[0;34m\u001b[0m\n\u001b[1;32m      2\u001b[0m \u001b[0mtest\u001b[0m \u001b[0;34m=\u001b[0m \u001b[0mget_links_activities\u001b[0m\u001b[0;34m(\u001b[0m\u001b[0murl_city\u001b[0m\u001b[0;34m)\u001b[0m\u001b[0;34m\u001b[0m\u001b[0;34m\u001b[0m\u001b[0m\n\u001b[1;32m      3\u001b[0m \u001b[0mprint\u001b[0m\u001b[0;34m(\u001b[0m\u001b[0mtest\u001b[0m\u001b[0;34m)\u001b[0m\u001b[0;34m\u001b[0m\u001b[0;34m\u001b[0m\u001b[0m\n\u001b[0;32m----> 4\u001b[0;31m \u001b[0mprint\u001b[0m\u001b[0;34m(\u001b[0m\u001b[0mget_content\u001b[0m\u001b[0;34m(\u001b[0m\u001b[0mtest\u001b[0m\u001b[0;34m)\u001b[0m\u001b[0;34m.\u001b[0m\u001b[0mfind\u001b[0m\u001b[0;34m(\u001b[0m\u001b[0;34m'span'\u001b[0m\u001b[0;34m)\u001b[0m\u001b[0;34m.\u001b[0m\u001b[0mtext\u001b[0m\u001b[0;34m)\u001b[0m\u001b[0;34m\u001b[0m\u001b[0;34m\u001b[0m\u001b[0m\n\u001b[0m",
      "\u001b[0;31mAttributeError\u001b[0m: 'list' object has no attribute 'find'"
     ]
    }
   ],
   "source": [
    "url_city = links_top_attractions[2]\n",
    "test = get_links_activities(url_city)\n",
    "print(test)\n",
    "print(get_content(test).find('span').text)"
   ]
  },
  {
   "cell_type": "code",
   "execution_count": null,
   "metadata": {},
   "outputs": [],
   "source": [
    "url_city\n",
    "helicopter = test[1]\n",
    "r_helicopter =  requests.get(helicopter)\n",
    "s_helicopter = BeautifulSoup(r_helicopter.text,'html.parser')\n",
    "content = s_helicopter.find('div', attrs={'data-tab':'TABS_OVERVIEW'})\n",
    "print(content)"
   ]
  },
  {
   "cell_type": "markdown",
   "metadata": {},
   "source": [
    "### TESTS MEDIA"
   ]
  },
  {
   "cell_type": "code",
   "execution_count": null,
   "metadata": {},
   "outputs": [],
   "source": [
    "string_test = ['https://test.com','http://test2.com']\n",
    "for string in string_test:\n",
    "    print(string.replace('https','http'))"
   ]
  },
  {
   "cell_type": "code",
   "execution_count": null,
   "metadata": {},
   "outputs": [],
   "source": [
    "from IPython.display import Image\n",
    "\n",
    "url_test_boston = 'http://www.tripadvisor.com/Attractions-g60745-Activities-Boston_Massachusetts.html'\n",
    "request_boston = requests.get(url_test_boston)\n",
    "s_boston = BeautifulSoup(request_boston.text, 'lxml')    \n",
    "\n",
    "media_boston = s_boston.find('a', attrs={'class':'_1o7ZDa9J'}).img\n",
    "media_boston.get('data-url')\n",
    "\n",
    "#image_req = requests.get(media_boston)\n",
    "\n",
    "#image_req.status_code\n",
    "#Image(image_req.content)\n",
    "#media_content = s_content.find_all('a', attrs={'class':'_1zqXepI-'})\n"
   ]
  },
  {
   "cell_type": "code",
   "execution_count": null,
   "metadata": {},
   "outputs": [],
   "source": [
    "content_test = requests.get('https://www.tripadvisor.com/Attractions-g60745-Activities-Boston_Massachusetts.html')\n",
    "if content.status_code == 200:\n",
    "    s_content_test = BeautifulSoup(content_test.text,'lxml')\n",
    "    activities_test = s_content_test.find_all('div', attrs = {'class':'_1lY2qyk3'})\n",
    "    activities_list = [activitie.h3.text for activitie in activities_test]\n",
    "    print(activities_list)\n",
    "\n"
   ]
  },
  {
   "cell_type": "markdown",
   "metadata": {},
   "source": [
    "### CALL CONTENT_INFO"
   ]
  },
  {
   "cell_type": "code",
   "execution_count": null,
   "metadata": {},
   "outputs": [],
   "source": [
    "from IPython.display import Image\n",
    "for link in links_top_attractions: #Top attractions refers to the place: Scottsdale, LA, etc\n",
    "    content = requests.get(link)\n",
    "    if content.status_code == 200:\n",
    "        s_content = BeautifulSoup(content.text,'lxml')\n",
    "        activities_content_links = get_links_activities(link)\n",
    "        print(activities_content_links)\n",
    "        \n",
    "        #print(get_content(activities_content_links))\n",
    "        results = content_info(s_content, activities_content_links)\n",
    "        print(results)\n",
    "        \n",
    "        #sites_images = results['images']\n",
    "        #for img in sites_images:\n",
    "         #   image_req = requests.get(img)\n",
    "            #print(image_req.status_code)\n",
    "            #Image(image_req.content)\n",
    "                        \n",
    "\n",
    "            \n",
    "\n",
    "\n",
    "        #images_list = results['images']\n",
    "        #images_list\n",
    "        #for image in images_list:\n",
    "         #   image_req = requests.get(image)\n",
    "       \n",
    "\n",
    "\n",
    "\n"
   ]
  },
  {
   "cell_type": "code",
   "execution_count": null,
   "metadata": {},
   "outputs": [],
   "source": [
    "links_final_test = get_links_activities(links_top_attractions[0])\n",
    "\n",
    "over_list = []\n",
    "for link in links_final_test:\n",
    "    r_activity_test = requests.get(link)\n",
    "    #.replace('https','http')\n",
    "    s_r_activity_test = BeautifulSoup(r_activity_test.text,'lxml')\n",
    "    #print(links_final_test[0].replace('https','http'))\n",
    "    activity_content_test =  s_r_activity_test.find('div', attrs={'class':'AvpaRatK'})\n",
    "    if activity_content_test:\n",
    "        over_list.append(activity_content_test.find('span').text)\n",
    "       \n",
    "    else:\n",
    "        over_list.append(f'No overview for {link}')\n",
    "        \n",
    "over_list\n"
   ]
  },
  {
   "cell_type": "markdown",
   "metadata": {},
   "source": [
    "# FINAL SCRAPING RESULTS FORMAT:JSON"
   ]
  },
  {
   "cell_type": "code",
   "execution_count": null,
   "metadata": {},
   "outputs": [],
   "source": [
    "def content_info_activities(soup, activities_list_urls):\n",
    "    #for link in links_top_attractions:\n",
    "    dir_results = {}\n",
    "    activities_dir = {}\n",
    "    try:\n",
    "        \n",
    "        #Extracting General Title\n",
    "        general_title = soup.find('div', attrs = {'class':'_1l9azAvU'})\n",
    "        if general_title is not None:\n",
    "            dir_results['general_title'] = general_title.h1.text\n",
    "            #activities_dir['']\n",
    "            \n",
    "        else:\n",
    "            general_title = soup.find('div', attrs={'class':'display_center ui_container'})\n",
    "            if general_title is not None:\n",
    "                dir_results['general_title'] = general_title.h1.text\n",
    "            else:\n",
    "                dir_results['general_title'] = None\n",
    "        \n",
    "        #Extracting Activities\n",
    "        \n",
    "        activities = soup.find_all('span', attrs = {'class':'_2e_OvRJN'})\n",
    "                \n",
    "        #if activities is not None:\n",
    "        if len(activities) != 0:\n",
    "            activities_list = [activitie.h3.text for activitie in activities]\n",
    "            dir_results['activities'] = activities_list\n",
    "        else:  \n",
    "          \n",
    "            activities = soup.find_all('div', attrs = {'class':'_1lY2qyk3'})\n",
    "            \n",
    "            if activities is not None:\n",
    "                activities_list = [activitie.h3.text for activitie in activities]\n",
    "                dir_results['activities'] = activities_list\n",
    "            else:\n",
    "                dir_results['activities'] = None\n",
    "                \n",
    "        #Extracting Images\n",
    "        \n",
    "        images_media = soup.find_all('a', attrs={'class':'_1zqXepI-'})\n",
    "        \n",
    "        if len(images_media) != 0:\n",
    "            images = [img.find('img').get('data-url') for img in images_media]\n",
    "            dir_results['images'] = [img_fin.replace('https','http') for img_fin in images]\n",
    "        else:\n",
    "            images_media = soup.find_all('a', attrs={'class':'_1o7ZDa9J'})\n",
    "            if images_media:\n",
    "                images = [img.img.get('data-url') for img in images_media]\n",
    "                dir_results['images'] = [img_fin.replace('https','http') for img_fin in images]\n",
    "            \n",
    "            else:\n",
    "                dir_results['images'] = None\n",
    "        \n",
    "        #Extracting Content\n",
    "        \n",
    "        \n",
    "        content_overview = get_content(activities_list_urls) #the result is an overview's list\n",
    "        if content_overview:\n",
    "            dir_results['overviews'] = content_overview\n",
    "        else:\n",
    "            dir_results['overviews'] = None\n",
    "        \n",
    "        \n",
    "        #Extracting content by activity\n",
    "        \n",
    "        \n",
    "        \n",
    "        #print(dir_results)\n",
    "      \n",
    "        return dir_results\n",
    "                                         \n",
    "          \n",
    "    except Exception as e:\n",
    "        print('Error')\n",
    "        print(e)\n",
    "        print('\\n')"
   ]
  },
  {
   "cell_type": "code",
   "execution_count": null,
   "metadata": {},
   "outputs": [],
   "source": [
    "def get_links_activities_final(url_city):\n",
    "    r_url_city = requests.get(url_city)\n",
    "    if r_url_city.status_code == 200:\n",
    "        s_city =  BeautifulSoup(r_url_city.text, 'lxml')\n",
    "        #print(s_city)\n",
    "        activities_class = s_city.find_all('div', attrs={'class':'_1sXmOkVY'})\n",
    "        #print(activities_class)\n",
    "        links_activities = [(url_basic+activity.find('a').get('href')) for activity in activities_class]\n",
    "                            #.replace('https','http') for activity in activities_class]\n",
    "        #print(links_activities)\n",
    "    \n",
    "    return links_activities\n",
    "\n",
    "def get_activity_info(activities_content_links):\n",
    "    for activity in activities_content_links:\n",
    "        r_activity_info = requests.get(activity)\n",
    "        s_activity_info = BeautifulSoup(r_activity_info.text,'lxml')\n",
    "        #activ_title_class = s_activity_info.find('h1', attrs={'class':'_2MCqN-mR'})\n",
    "        activ_title_class = s_activity_info.find('span', attrs={'class':'IKwHbf8J'})\n",
    "        if activ_title_class:\n",
    "            activ_title = activ_title_class.text\n",
    "        \n",
    "        print(activ_title_class)\n",
    "          \n",
    "    "
   ]
  },
  {
   "cell_type": "markdown",
   "metadata": {},
   "source": [
    "## EXTRACT INFO"
   ]
  },
  {
   "cell_type": "code",
   "execution_count": null,
   "metadata": {},
   "outputs": [],
   "source": [
    "def dic_asignment(result):\n",
    "    dir_per_activity = {}\n",
    "    results_dic_list = []\n",
    "    activities_list = result['activities']\n",
    "    overviews_list = result['overviews']\n",
    "    images_list = result['images']\n",
    "    dir_per_activity['Location']= result['title']\n",
    "\n",
    "    for i in range(0, len(activities_list)):\n",
    "        if activities_list[i]:\n",
    "            dir_per_activity['activity_title'] = activities_list[i]\n",
    "        else:\n",
    "            dir_per_activity['activity_title'] = None\n",
    "                \n",
    "        if overviews_list:    \n",
    "            dir_per_activity['description'] = overviews_list[i]\n",
    "        else:\n",
    "            dir_per_activity['description'] = None\n",
    "            \n",
    "        if images_list:    \n",
    "            dir_per_activity['images'] = images_list[i]\n",
    "        else:\n",
    "            dir_per_activity['images'] = None\n",
    "        \n",
    "        results_dic_list.append(dir_per_activity)\n",
    "                \n",
    "    return results_dic_list\n",
    "                \n",
    "    \n",
    "\n",
    "def extract_info(results):\n",
    "    show_results = []\n",
    "    for result in results: #each result belongs to a place: scottsdale, LA, LAS VEGAS, BOSTON\n",
    "        final = dic_asignment(result)\n",
    "        if final:\n",
    "            show_results.append(final)\n",
    "    \n",
    "    return show_results\n",
    "        \n",
    "   "
   ]
  },
  {
   "cell_type": "code",
   "execution_count": null,
   "metadata": {},
   "outputs": [],
   "source": [
    "#print(links_top_attractions)\n",
    "activities_content_links = []\n",
    "results = []\n",
    "for link in links_top_attractions: #Top attractions refers to the place: Scottsdale, LA, etc\n",
    "    content = requests.get(link)\n",
    "    \n",
    "    if content.status_code == 200:\n",
    "        s_content = BeautifulSoup(content.text,'lxml')\n",
    "        #activities_content_links.append(get_links_activities_final(link))\n",
    "        activities_content_links = get_links_activities_final(link)\n",
    "        #print(activities_content_links)\n",
    "        results.append(content_info(s_content, activities_content_links))\n",
    "        #results_per_activity = get_activity_info(activities_content_links)\n",
    "\n",
    "\n",
    "\n",
    "print(extract_info(results))\n",
    "        \n",
    "  \n",
    "    \n",
    "    \n"
   ]
  },
  {
   "cell_type": "markdown",
   "metadata": {},
   "source": [
    "# EXTRACTING COLOMBIA AND MEXICO CITY"
   ]
  },
  {
   "cell_type": "code",
   "execution_count": 20,
   "metadata": {},
   "outputs": [],
   "source": [
    "url_country = 'https://www.tripadvisor.com/Attractions-g294073-Activities-Colombia.html'\n",
    "url_scraping = 'http://www.tripadvisor.com'\n"
   ]
  },
  {
   "cell_type": "code",
   "execution_count": 21,
   "metadata": {},
   "outputs": [],
   "source": [
    "def get_cities(country_url, url_scraping):\n",
    "#url_attractions = 'https://www.tripadvisor.com/Attractions'\n",
    "    country = requests.get(country_url)\n",
    "    s_country = BeautifulSoup(country.text, 'lxml')\n",
    "    top_cities = s_country.find_all('div', attrs={'class':'_3IKpjWD9'})    \n",
    "    links_top_cities = []\n",
    "    for city in top_cities:\n",
    "        if city.find('a'):\n",
    "            links_top_cities.append(url_scraping+city.find('a').get('href'))\n",
    "        \n",
    "    return links_top_cities #returning the list of cities\n",
    "\n"
   ]
  },
  {
   "cell_type": "code",
   "execution_count": 22,
   "metadata": {},
   "outputs": [
    {
     "data": {
      "text/plain": [
       "['http://www.tripadvisor.com/Attractions-g150807-Activities-Cancun_Yucatan_Peninsula.html',\n",
       " 'http://www.tripadvisor.com/Attractions-g150800-Activities-Mexico_City_Central_Mexico_and_Gulf_Coast.html',\n",
       " 'http://www.tripadvisor.com/Attractions-g150812-Activities-Playa_del_Carmen_Yucatan_Peninsula.html',\n",
       " 'http://www.tripadvisor.com/Attractions-g150793-Activities-Puerto_Vallarta.html',\n",
       " 'http://www.tripadvisor.com/Attractions-g150813-Activities-Tulum_Yucatan_Peninsula.html',\n",
       " 'http://www.tripadvisor.com/Attractions-g152515-Activities-Cabo_San_Lucas_Los_Cabos_Baja_California.html',\n",
       " 'http://www.tripadvisor.com/Attractions-g150798-Activities-Guadalajara_Guadalajara_Metropolitan_Area.html',\n",
       " 'http://www.tripadvisor.com/Attractions-g151932-Activities-San_Miguel_de_Allende_Central_Mexico_and_Gulf_Coast.html']"
      ]
     },
     "execution_count": 22,
     "metadata": {},
     "output_type": "execute_result"
    }
   ],
   "source": [
    "url_mexico = 'https://www.tripadvisor.com/Attractions-g150768-Activities-Mexico.html'\n",
    "get_cities(url_mexico, url_scraping)"
   ]
  },
  {
   "cell_type": "code",
   "execution_count": 23,
   "metadata": {
    "scrolled": true
   },
   "outputs": [
    {
     "data": {
      "text/plain": [
       "['http://www.tripadvisor.com/Attractions-g294074-Activities-Bogota.html',\n",
       " 'http://www.tripadvisor.com/Attractions-g297476-Activities-Cartagena_Cartagena_District_Bolivar_Department.html',\n",
       " 'http://www.tripadvisor.com/Attractions-g297478-Activities-Medellin_Antioquia_Department.html',\n",
       " 'http://www.tripadvisor.com/Attractions-g297484-Activities-Santa_Marta_Santa_Marta_Municipality_Magdalena_Department.html',\n",
       " 'http://www.tripadvisor.com/Attractions-g297475-Activities-Cali_Valle_del_Cauca_Department.html',\n",
       " 'http://www.tripadvisor.com/Attractions-g297473-Activities-Barranquilla_Atlantico_Department.html',\n",
       " 'http://www.tripadvisor.com/Attractions-g676524-Activities-Villa_de_Leyva_Boyaca_Department.html',\n",
       " 'http://www.tripadvisor.com/Attractions-g297474-Activities-Bucaramanga_Santander_Department.html']"
      ]
     },
     "execution_count": 23,
     "metadata": {},
     "output_type": "execute_result"
    }
   ],
   "source": [
    "get_cities(url_country, url_scraping)"
   ]
  },
  {
   "cell_type": "markdown",
   "metadata": {},
   "source": [
    "### TEST"
   ]
  },
  {
   "cell_type": "code",
   "execution_count": 24,
   "metadata": {
    "collapsed": true
   },
   "outputs": [
    {
     "name": "stdout",
     "output_type": "stream",
     "text": [
      "http://www.tripadvisor.com/AttractionProductReview-g294074-d13181486-La_Candelaria_Optional_Monserrate_Optional_Gold_Museum_Bogota_City_Tour_5_7H-Bogot.html\n",
      "http://www.tripadvisor.com/AttractionProductReview-g294074-d12350216-Bogota_Bike_Tour-Bogota.html\n",
      "http://www.tripadvisor.com/AttractionProductReview-g294074-d15633269-Divercity_Bogota_Admission_Ticket-Bogota.html\n",
      "http://www.tripadvisor.com/AttractionProductReview-g294074-d16910969-The_Bogota_food_experience-Bogota.html\n",
      "http://www.tripadvisor.com/AttractionProductReview-g294074-d17445692-Cruise_Bogota_gay_district-Bogota.html\n",
      "http://www.tripadvisor.com/AttractionProductReview-g294074-d17588221-Graffiti_Tour_in_La_Candelaria_Bogota-Bogota.html\n",
      "http://www.tripadvisor.com/AttractionProductReview-g294074-d17826050-Cloud_Forest_and_Waterfall_Hike-Bogota.html\n",
      "http://www.tripadvisor.com/AttractionProductReview-g294074-d21274444-Dancing_vacation_tour-Bogota.html\n",
      "acitvitie is not available\n",
      "http://www.tripadvisor.com/AttractionProductReview-g294074-d13933838-Botero_Museum_Admission_Ticket_and_Private_Guided_Tour-Bogota.html\n",
      "http://www.tripadvisor.com/AttractionProductReview-g294074-d13933839-Skip_the_Line_Gold_Museum_Museo_del_Oro_Ticket_and_Private_Guided_Tour-Bogota.html\n",
      "http://www.tripadvisor.com/AttractionProductReview-g294074-d17403991-Mystic_Wellness_Spa_and_Wellness_Day_at_the_Salt_Cathedral-Bogota.html\n",
      "acitvitie is not available\n",
      "http://www.tripadvisor.com/AttractionProductReview-g294074-d17699620-Tour_to_the_Salt_Mines_in_Nemocon_and_Andres_Carne_De_Res_Private_Tour-Bogota.html\n",
      "http://www.tripadvisor.com/AttractionProductReview-g294074-d17719209-D_Fiesta_For_Bogota_Enjoy_the_night_knowing_the_rumba_in_Bogota-Bogota.html\n",
      "http://www.tripadvisor.com/AttractionProductReview-g294074-d17554556-Party_Bus_to_gringo_tuesday_zona_rosa-Bogota.html\n",
      "acitvitie is not available\n",
      "http://www.tripadvisor.com/AttractionProductReview-g294074-d14042031-Private_half_day_tour_to_Nemocon_Salt_Cathedral_and_village-Bogota.html\n",
      "http://www.tripadvisor.com/AttractionProductReview-g294074-d18973471-Private_Hummingbird_Watching_Tour-Bogota.html\n",
      "http://www.tripadvisor.com/AttractionProductReview-g294074-d11468438-Salt_Cathedral_Zipaquira_Group_tour_and_daily_departure-Bogota.html\n",
      "acitvitie is not available\n",
      "http://www.tripadvisor.com/AttractionProductReview-g294074-d11468438-Salt_Cathedral_Zipaquira_Group_tour_and_daily_departure-Bogota.html\n",
      "http://www.tripadvisor.com/AttractionProductReview-g294074-d12987172-Shared_Walking_Tour_in_La_Candelaria_Bogota-Bogota.html\n",
      "http://www.tripadvisor.com/AttractionProductReview-g294074-d15526746-Bogota_Private_6_hours_City_Tour_Tickets_Coffee_Break-Bogota.html\n",
      "acitvitie is not available\n",
      "http://www.tripadvisor.com/AttractionProductReview-g294074-d19253252-Bogota_Monserrate_and_Zipaquira_Salt_Cathedral-Bogota.html\n",
      "http://www.tripadvisor.com/AttractionProductReview-g294074-d17306293-Zipaquira_Salt_Cathedral_Group_Tour_with_Departure-Bogota.html\n",
      "http://www.tripadvisor.com/AttractionProductReview-g294074-d20107793-City_Tour_Hidden_Bogota-Bogota.html\n",
      "acitvitie is not available\n",
      "http://www.tripadvisor.com/AttractionProductReview-g294074-d17745020-Private_Bogota_City_Tour_In_Out_Transfer_9_hours-Bogota.html\n",
      "http://www.tripadvisor.com/AttractionProductReview-g294074-d17681613-Guatavita_Lagoon_Private_Tour-Bogota.html\n",
      "http://www.tripadvisor.com/AttractionProductReview-g294074-d17681615-Zipaquira_Salt_Cathedral_Private_Tour-Bogota.html\n"
     ]
    }
   ],
   "source": [
    "url_scraping = 'http://www.tripadvisor.com'\n",
    "test_get_cities = get_cities(url_country, url_scraping)\n",
    "#print(test_get_cities[0])\n",
    "r_url_city = requests.get(test_get_cities[0])\n",
    "if r_url_city.status_code == 200:\n",
    "    s_city =  BeautifulSoup(r_url_city.text, 'lxml')\n",
    "        #print(s_city)\n",
    "    activities_city_explore = s_city.find_all('div', attrs={'class':'_999WBlyA'})\n",
    "    for activity in activities_city_explore:\n",
    "        final = activity.find('a').get('href') \n",
    "        if final:\n",
    "            final = url_scraping+final\n",
    "            print(final)\n",
    "        else:\n",
    "            print('acitvitie is not available')"
   ]
  },
  {
   "cell_type": "markdown",
   "metadata": {},
   "source": [
    "### END TEST"
   ]
  },
  {
   "cell_type": "code",
   "execution_count": 25,
   "metadata": {},
   "outputs": [],
   "source": [
    "def get_city_activities_link(url_city, url_scraping):\n",
    "    r_url_city = requests.get(url_city)\n",
    "    if r_url_city.status_code == 200:\n",
    "        s_city =  BeautifulSoup(r_url_city.text, 'lxml')\n",
    "        #print(s_city)\n",
    "        final_links =[]\n",
    "        activities_city_explore = s_city.find_all('div', attrs={'class':'_1sXmOkVY'})\n",
    "        #print(activities_class)\n",
    "        if len(activities_city_explore) != 0:\n",
    "            links_activities_explore = [(url_scraping+activity.find('a').get('href')) for activity in activities_city_explore]\n",
    "                            #.replace('https','http') for activity in activities_class]\n",
    "            final_links.extend(links_activities_explore)\n",
    "        else:\n",
    "            activities_city_explore = s_city.find_all('div', attrs={'class':'_999WBlyA'})\n",
    "            if activities_city_explore:\n",
    "                for activity in activities_city_explore:\n",
    "                    links_activities_explore = activity.find('a').get('href')\n",
    "                    if links_activities_explore:\n",
    "                        final_links.append(url_scraping + links_activities_explore)\n",
    "                    else:\n",
    "                        final_links.append(None)\n",
    "            \n",
    "    return final_links #return activities links\n",
    "\n",
    "\n",
    "          \n",
    "    "
   ]
  },
  {
   "cell_type": "code",
   "execution_count": 112,
   "metadata": {
    "collapsed": true
   },
   "outputs": [
    {
     "name": "stdout",
     "output_type": "stream",
     "text": [
      "['http://www.tripadvisor.com/Attractions-g294074-Activities-Bogota.html', 'http://www.tripadvisor.com/Attractions-g297476-Activities-Cartagena_Cartagena_District_Bolivar_Department.html', 'http://www.tripadvisor.com/Attractions-g297478-Activities-Medellin_Antioquia_Department.html', 'http://www.tripadvisor.com/Attractions-g297484-Activities-Santa_Marta_Santa_Marta_Municipality_Magdalena_Department.html', 'http://www.tripadvisor.com/Attractions-g297475-Activities-Cali_Valle_del_Cauca_Department.html', 'http://www.tripadvisor.com/Attractions-g297473-Activities-Barranquilla_Atlantico_Department.html', 'http://www.tripadvisor.com/Attractions-g676524-Activities-Villa_de_Leyva_Boyaca_Department.html', 'http://www.tripadvisor.com/Attractions-g297474-Activities-Bucaramanga_Santander_Department.html']\n",
      "['http://www.tripadvisor.com/AttractionProductReview-g294074-d13181486-La_Candelaria_Optional_Monserrate_Optional_Gold_Museum_Bogota_City_Tour_5_7H-Bogot.html', 'http://www.tripadvisor.com/AttractionProductReview-g294074-d12350216-Bogota_Bike_Tour-Bogota.html', 'http://www.tripadvisor.com/AttractionProductReview-g294074-d15633269-Divercity_Bogota_Admission_Ticket-Bogota.html', 'http://www.tripadvisor.com/AttractionProductReview-g294074-d16910969-The_Bogota_food_experience-Bogota.html', 'http://www.tripadvisor.com/AttractionProductReview-g294074-d17445692-Cruise_Bogota_gay_district-Bogota.html', 'http://www.tripadvisor.com/AttractionProductReview-g294074-d17588221-Graffiti_Tour_in_La_Candelaria_Bogota-Bogota.html', 'http://www.tripadvisor.com/AttractionProductReview-g294074-d17826050-Cloud_Forest_and_Waterfall_Hike-Bogota.html', 'http://www.tripadvisor.com/AttractionProductReview-g294074-d21274444-Dancing_vacation_tour-Bogota.html', None, 'http://www.tripadvisor.com/AttractionProductReview-g294074-d13933838-Botero_Museum_Admission_Ticket_and_Private_Guided_Tour-Bogota.html', 'http://www.tripadvisor.com/AttractionProductReview-g294074-d13933839-Skip_the_Line_Gold_Museum_Museo_del_Oro_Ticket_and_Private_Guided_Tour-Bogota.html', 'http://www.tripadvisor.com/AttractionProductReview-g294074-d17403991-Mystic_Wellness_Spa_and_Wellness_Day_at_the_Salt_Cathedral-Bogota.html', None, 'http://www.tripadvisor.com/AttractionProductReview-g294074-d17699620-Tour_to_the_Salt_Mines_in_Nemocon_and_Andres_Carne_De_Res_Private_Tour-Bogota.html', 'http://www.tripadvisor.com/AttractionProductReview-g294074-d17719209-D_Fiesta_For_Bogota_Enjoy_the_night_knowing_the_rumba_in_Bogota-Bogota.html', 'http://www.tripadvisor.com/AttractionProductReview-g294074-d17554556-Party_Bus_to_gringo_tuesday_zona_rosa-Bogota.html', None, 'http://www.tripadvisor.com/AttractionProductReview-g294074-d14042031-Private_half_day_tour_to_Nemocon_Salt_Cathedral_and_village-Bogota.html', 'http://www.tripadvisor.com/AttractionProductReview-g294074-d18973471-Private_Hummingbird_Watching_Tour-Bogota.html', 'http://www.tripadvisor.com/AttractionProductReview-g294074-d11468438-Salt_Cathedral_Zipaquira_Group_tour_and_daily_departure-Bogota.html', None, 'http://www.tripadvisor.com/AttractionProductReview-g294074-d11468438-Salt_Cathedral_Zipaquira_Group_tour_and_daily_departure-Bogota.html', 'http://www.tripadvisor.com/AttractionProductReview-g294074-d12987172-Shared_Walking_Tour_in_La_Candelaria_Bogota-Bogota.html', 'http://www.tripadvisor.com/AttractionProductReview-g294074-d15526746-Bogota_Private_6_hours_City_Tour_Tickets_Coffee_Break-Bogota.html', None, 'http://www.tripadvisor.com/AttractionProductReview-g294074-d19253252-Bogota_Monserrate_and_Zipaquira_Salt_Cathedral-Bogota.html', 'http://www.tripadvisor.com/AttractionProductReview-g294074-d17306293-Zipaquira_Salt_Cathedral_Group_Tour_with_Departure-Bogota.html', 'http://www.tripadvisor.com/AttractionProductReview-g294074-d20107793-City_Tour_Hidden_Bogota-Bogota.html', None, 'http://www.tripadvisor.com/AttractionProductReview-g294074-d17745020-Private_Bogota_City_Tour_In_Out_Transfer_9_hours-Bogota.html', 'http://www.tripadvisor.com/AttractionProductReview-g294074-d17681613-Guatavita_Lagoon_Private_Tour-Bogota.html', 'http://www.tripadvisor.com/AttractionProductReview-g294074-d17681615-Zipaquira_Salt_Cathedral_Private_Tour-Bogota.html']\n",
      "['http://www.tripadvisor.com/AttractionProductReview-g297476-d13229051-Sibarita_Express_Cartagena_Harbor_Cruise_with_Dinner_and_Wine-Cartagena_Cartagena_.html', 'http://www.tripadvisor.com/AttractionProductReview-g297476-d19146923-Totumo_volcano_Galerazamba-Cartagena_Cartagena_District_Bolivar_Department.html', 'http://www.tripadvisor.com/AttractionProductReview-g297476-d17716540-Excursion_to_the_Rosario_Islands-Cartagena_Cartagena_District_Bolivar_Department.html', 'http://www.tripadvisor.com/AttractionProductReview-g297476-d13229052-Sibarita_Express_90_minutes_Sunset_Tour_and_Open_Bar-Cartagena_Cartagena_District_.html', 'http://www.tripadvisor.com/AttractionProductReview-g297476-d17743933-Sunset_Cruise-Cartagena_Cartagena_District_Bolivar_Department.html', 'http://www.tripadvisor.com/AttractionProductReview-g297476-d17336027-Namaste_Beach_Club-Cartagena_Cartagena_District_Bolivar_Department.html', 'http://www.tripadvisor.com/AttractionProductReview-g297476-d20482923-Brunch_And_Paint_in_a_secret_rooftop-Cartagena_Cartagena_District_Bolivar_Departme.html', 'http://www.tripadvisor.com/AttractionProductReview-g297476-d19920029-Private_Boat_Rental-Cartagena_Cartagena_District_Bolivar_Department.html', None, 'http://www.tripadvisor.com/AttractionProductReview-g297476-d11482829-Full_Day_Rosario_Islands_Including_Baru_Cholon_and_Playa_Blanca-Cartagena_Cartagen.html', 'http://www.tripadvisor.com/AttractionProductReview-g297476-d11455308-City_Tour_of_Cartagena_for_Cruises-Cartagena_Cartagena_District_Bolivar_Department.html', 'http://www.tripadvisor.com/AttractionProductReview-g297476-d15754699-Isla_Baru_Playa_Tranquila-Cartagena_Cartagena_District_Bolivar_Department.html', None, 'http://www.tripadvisor.com/AttractionProductReview-g297476-d21253881-Private_Boat_Tour_in_Rosario_and_San_Bernardo_Islands-Cartagena_Cartagena_District.html', 'http://www.tripadvisor.com/AttractionProductReview-g297476-d11477359-Private_City_Tour_of_Cartagena-Cartagena_Cartagena_District_Bolivar_Department.html', 'http://www.tripadvisor.com/AttractionProductReview-g297476-d16657000-The_Rise_of_the_Wall_City_Cartagena_Sensorial_Audiowalk_Part_1-Cartagena_Cartagena.html', None, 'http://www.tripadvisor.com/AttractionProductReview-g297476-d19146923-Totumo_volcano_Galerazamba-Cartagena_Cartagena_District_Bolivar_Department.html', 'http://www.tripadvisor.com/AttractionProductReview-g297476-d17716540-Excursion_to_the_Rosario_Islands-Cartagena_Cartagena_District_Bolivar_Department.html', 'http://www.tripadvisor.com/AttractionProductReview-g297476-d17336027-Namaste_Beach_Club-Cartagena_Cartagena_District_Bolivar_Department.html', None, 'http://www.tripadvisor.com/AttractionProductReview-g297476-d15126747-Horseback_Riding_Tour_in_Beach_of_Cartagena-Cartagena_Cartagena_District_Bolivar_D.html', 'http://www.tripadvisor.com/AttractionProductReview-g297476-d13933866-Blue_Apple_Beach_Day_Trip_from_Cartagena_including_traditional_Colombian_lunch-Car.html', 'http://www.tripadvisor.com/AttractionProductReview-g297476-d19621306-Cartagena_Barranquilla_Santa_Marta_excursion-Cartagena_Cartagena_District_Bolivar_.html', None, 'http://www.tripadvisor.com/AttractionProductReview-g297476-d17516078-Visit_San_Basilio_de_Palenque_a_piece_of_Africa_s_heart_in_America-Cartagena_Carta.html', 'http://www.tripadvisor.com/AttractionProductReview-g297476-d19146923-Totumo_volcano_Galerazamba-Cartagena_Cartagena_District_Bolivar_Department.html', 'http://www.tripadvisor.com/AttractionProductReview-g297476-d17716540-Excursion_to_the_Rosario_Islands-Cartagena_Cartagena_District_Bolivar_Department.html', None, 'http://www.tripadvisor.com/AttractionProductReview-g297476-d20188837-Baru_Island_Playa_Blanca_Rosario_Islands_panoramic_boat_tour-Cartagena_Cartagena_D.html', 'http://www.tripadvisor.com/AttractionProductReview-g297476-d17716540-Excursion_to_the_Rosario_Islands-Cartagena_Cartagena_District_Bolivar_Department.html', 'http://www.tripadvisor.com/AttractionProductReview-g297476-d21253881-Private_Boat_Tour_in_Rosario_and_San_Bernardo_Islands-Cartagena_Cartagena_District.html']\n"
     ]
    },
    {
     "name": "stdout",
     "output_type": "stream",
     "text": [
      "['http://www.tripadvisor.com/AttractionProductReview-g297478-d12414690-Full_Day_Guatape_Pueblo_de_Zocalos_from_Medellin-Medellin_Antioquia_Department.html', 'http://www.tripadvisor.com/AttractionProductReview-g297478-d16672203-Colombia_Half_Day_Coffee_Tour_From_the_Seed_to_the_Cup-Medellin_Antioquia_Departme.html', 'http://www.tripadvisor.com/AttractionProductReview-g297478-d21197688-Museo_Pablo_Escobar-Medellin_Antioquia_Department.html', 'http://www.tripadvisor.com/AttractionProductReview-g297478-d17719045-Tour_to_Guatape_Rumbero_Boat_Access_to_the_Stone-Medellin_Antioquia_Department.html', 'http://www.tripadvisor.com/AttractionProductReview-g297478-d18975632-Spanish_Lessons-Medellin_Antioquia_Department.html', 'http://www.tripadvisor.com/AttractionProductReview-g297478-d15101973-Half_Day_Bike_Tour_in_Medellin-Medellin_Antioquia_Department.html', 'http://www.tripadvisor.com/AttractionProductReview-g297478-d11781523-Andes_Paragliding_Tour_from_Medellin-Medellin_Antioquia_Department.html', 'http://www.tripadvisor.com/AttractionProductReview-g297478-d19076443-Comuna_13_Graffiti_Tour-Medellin_Antioquia_Department.html', 'http://www.tripadvisor.com/AttractionProductReview-g297478-d15632865-Private_Full_Day_Guatape_Tour-Medellin_Antioquia_Department.html', 'http://www.tripadvisor.com/AttractionProductReview-g297478-d15632815-Paragliding_Over_Waterfalls_Private_Tour_plus_options_Guatape_ATV_from_Madellin-Me.html', 'http://www.tripadvisor.com/AttractionProductReview-g297478-d16656998-Pablo_and_Comuna_13_with_Cable_Car-Medellin_Antioquia_Department.html', 'http://www.tripadvisor.com/AttractionProductReview-g297478-d11477195-Private_Half_Day_Pablo_Escobar_Godfather_Tour_in_Medellin-Medellin_Antioquia_Depar.html', 'http://www.tripadvisor.com/AttractionProductReview-g297478-d12880446-Private_Full_Day_City_Tour_of_Medellin-Medellin_Antioquia_Department.html', 'http://www.tripadvisor.com/AttractionProductReview-g297478-d13107670-Pablo_Escobar_Hacienda_Napoles_Full_Day_Tour-Medellin_Antioquia_Department.html', 'http://www.tripadvisor.com/AttractionProductReview-g297478-d15209784-Private_Coffee_Farm_Horseback_Riding_Tour_All_in_one_great_day-Medellin_Antioquia_.html', 'http://www.tripadvisor.com/AttractionProductReview-g297478-d14045058-Coffee_Tour_in_Medellin-Medellin_Antioquia_Department.html', 'http://www.tripadvisor.com/AttractionProductReview-g297478-d16656997-Pablo_Tour_all_the_places_in_the_city-Medellin_Antioquia_Department.html', 'http://www.tripadvisor.com/AttractionProductReview-g297478-d19145145-Skip_the_Line_Museum_of_Antioquia_Admission_Ticket-Medellin_Antioquia_Department.html', 'http://www.tripadvisor.com/AttractionProductReview-g1087551-d19099162-Guatape_Paragliding_Bundled_Adventure_Tour-Guatape_Antioquia_Department.html', 'http://www.tripadvisor.com/AttractionProductReview-g297478-d21197688-Museo_Pablo_Escobar-Medellin_Antioquia_Department.html', 'http://www.tripadvisor.com/AttractionProductReview-g297478-d15241480-City_Tour_from_Medellin-Medellin_Antioquia_Department.html', 'http://www.tripadvisor.com/AttractionProductReview-g297478-d18273538-Comuna_13_Graffiti_Tour-Medellin_Antioquia_Department.html', 'http://www.tripadvisor.com/AttractionProductReview-g297478-d17322178-Comuna_13_Tour_Graffiti_by_Sag_Tour_Medellin-Medellin_Antioquia_Department.html', 'http://www.tripadvisor.com/AttractionProductReview-g297478-d11459531-The_Dark_Days_Pablo_Escobar_and_The_New_Medellin_Tour-Medellin_Antioquia_Departmen.html']\n",
      "['http://www.tripadvisor.com/AttractionProductReview-g297484-d17554093-Walk_for_4_days_to_Ciudad_Perdida_Santa_Marta-Santa_Marta_Santa_Marta_Municipality.html', 'http://www.tripadvisor.com/AttractionProductReview-g297484-d17745692-Sailing_to_Tayrona_with_Luis_Unique-Santa_Marta_Santa_Marta_Municipality_Magdalena.html', 'http://www.tripadvisor.com/AttractionProductReview-g297476-d19621306-Cartagena_Barranquilla_Santa_Marta_excursion-Cartagena_Cartagena_District_Bolivar_.html', 'http://www.tripadvisor.com/AttractionProductReview-g297484-d19873158-Full_Tour_Minca_We_visited_4_Destinations-Santa_Marta_Santa_Marta_Municipality_Mag.html', 'http://www.tripadvisor.com/AttractionProductReview-g297476-d15339854-Wonderful_Full_Day_Tayrona_Park_Tour_from_Cartagena_Crystal_Beach_Sector-Cartagena.html', 'http://www.tripadvisor.com/AttractionProductReview-g297484-d17644948-Santa_Marta_Shore_Excursion_for_Cruise_Ship_Passengers_Personal_Guide_Driver-Santa.html', 'http://www.tripadvisor.com/AttractionProductReview-g297484-d18911402-Minca_Day_Trip_from_Santa_Marta_Including_Colombian_Lunch_and_Coffee_Farm_Visit-Sa.html', 'http://www.tripadvisor.com/AttractionProductReview-g297484-d19059142-Coffice_Service_Coworking_Space-Santa_Marta_Santa_Marta_Municipality_Magdalena_Dep.html']\n",
      "['http://www.tripadvisor.com/AttractionProductReview-g297475-d19693923-Culinary_Journeys_Cooking_Workshop_Dinner_Party-Cali_Valle_del_Cauca_Department.html', 'http://www.tripadvisor.com/AttractionProductReview-g297475-d18342575-Tour_to_Cristo_Rey-Cali_Valle_del_Cauca_Department.html', 'http://www.tripadvisor.com/AttractionProductReview-g297475-d20185810-Historic_Food_Tour_Center-Cali_Valle_del_Cauca_Department.html', 'http://www.tripadvisor.com/AttractionProductReview-g297475-d15303089-Cali_City_Tour_The_Best_Of_Cali_In_Comfort-Cali_Valle_del_Cauca_Department.html', 'http://www.tripadvisor.com/AttractionProductReview-g297475-d20987366-San_Cipriano_River_Adventure_Day_Tour-Cali_Valle_del_Cauca_Department.html', 'http://www.tripadvisor.com/AttractionProductReview-g13479658-d20986746-Virtual_Experience_Ensalsate_Dance_with_us_Colombian_Salsa-El_Charquito_Cundinam.html', 'http://www.tripadvisor.com/AttractionProductReview-g297475-d17538950-Nature_adventure_3_days_all_included-Cali_Valle_del_Cauca_Department.html', 'http://www.tripadvisor.com/AttractionProductReview-g297475-d20100651-Bike_Trip_Cordillera_Occidental_Cali-Cali_Valle_del_Cauca_Department.html', 'http://www.tripadvisor.com/AttractionProductReview-g297475-d21354533-Day_Trip_Whale_Watching_EcoLiving-Cali_Valle_del_Cauca_Department.html', 'http://www.tripadvisor.com/AttractionProductReview-g297475-d15303184-River_Adventure_Enjoy_An_Afternoon_Of_Nature_And_Tubbing_In_San_Cipriano-Cali_Vall.html', 'http://www.tripadvisor.com/AttractionProductReview-g297475-d19758024-Paragliding_Hacienda_El_Paraiso_Santa_Helena-Cali_Valle_del_Cauca_Department.html', 'http://www.tripadvisor.com/AttractionProductReview-g294074-d12935069-8_Day_City_Trips_South_Colombia-Bogota.html', 'http://www.tripadvisor.com/AttractionProductReview-g297475-d21230008-Discover_the_Branch_of_Heaven-Cali_Valle_del_Cauca_Department.html', 'http://www.tripadvisor.com/AttractionProductReview-g297475-d14097609-Valley_Farms_Museums-Cali_Valle_del_Cauca_Department.html', 'http://www.tripadvisor.com/AttractionProductReview-g297475-d19708784-Tour_Colors_Aromas_and_Flavors_in_Cali-Cali_Valle_del_Cauca_Department.html', 'http://www.tripadvisor.com/AttractionProductReview-g297475-d12463909-Cali_Panoramic_Night_Tour_Including_Dinner-Cali_Valle_del_Cauca_Department.html', 'http://www.tripadvisor.com/AttractionProductReview-g297475-d15303089-Cali_City_Tour_The_Best_Of_Cali_In_Comfort-Cali_Valle_del_Cauca_Department.html', 'http://www.tripadvisor.com/AttractionProductReview-g297475-d18342575-Tour_to_Cristo_Rey-Cali_Valle_del_Cauca_Department.html', 'http://www.tripadvisor.com/AttractionProductReview-g297475-d20987366-San_Cipriano_River_Adventure_Day_Tour-Cali_Valle_del_Cauca_Department.html', 'http://www.tripadvisor.com/AttractionProductReview-g297475-d21230008-Discover_the_Branch_of_Heaven-Cali_Valle_del_Cauca_Department.html', 'http://www.tripadvisor.com/AttractionProductReview-g297475-d15303299-Coffee_Tour_Taste_And_Live_The_Authentic_Colombian_Coffee_Experience-Cali_Valle_de.html', 'http://www.tripadvisor.com/AttractionProductReview-g297475-d19646648-Savor_Authentic_Afro_Colombian_Culture-Cali_Valle_del_Cauca_Department.html', 'http://www.tripadvisor.com/AttractionProductReview-g297475-d20190236-Salsa_al_Barrio-Cali_Valle_del_Cauca_Department.html', 'http://www.tripadvisor.com/AttractionProductReview-g297475-d20187746-Pacific_Culture_Experience-Cali_Valle_del_Cauca_Department.html', 'http://www.tripadvisor.com/AttractionProductReview-g297475-d15303088-Walking_Tour_in_the_Historic_Center_of_Cali_City-Cali_Valle_del_Cauca_Department.html', 'http://www.tripadvisor.com/AttractionProductReview-g297475-d20188983-Bike_Salsa_Experience-Cali_Valle_del_Cauca_Department.html', 'http://www.tripadvisor.com/AttractionProductReview-g297475-d21076372-Visit_to_Cali_Municipal_Zoo-Cali_Valle_del_Cauca_Department.html', 'http://www.tripadvisor.com/AttractionProductReview-g297475-d21076611-The_Best_of_Cali_Walking_Tour-Cali_Valle_del_Cauca_Department.html']\n"
     ]
    },
    {
     "name": "stdout",
     "output_type": "stream",
     "text": [
      "['http://www.tripadvisor.com/AttractionProductReview-g297476-d19621306-Cartagena_Barranquilla_Santa_Marta_excursion-Cartagena_Cartagena_District_Bolivar_.html', 'http://www.tripadvisor.com/AttractionProductReview-g297473-d19774861-Destination_Weddings_in_Barranquilla-Barranquilla_Atlantico_Department.html', 'http://www.tripadvisor.com/AttractionProductReview-g297473-d19349400-Craftsman_for_a_day-Barranquilla_Atlantico_Department.html', 'http://www.tripadvisor.com/AttractionProductReview-g297473-d19349399-Craft_beer_tour_Made_in_Barranquilla-Barranquilla_Atlantico_Department.html', 'http://www.tripadvisor.com/AttractionProductReview-g297473-d17776195-Private_Photo_Session_with_a_Local_Photographer_in_Barranquilla-Barranquilla_Atlan.html', 'http://www.tripadvisor.com/AttractionProductReview-g297473-d21076728-Romantic_tour_in_Barranquilla-Barranquilla_Atlantico_Department.html', 'http://www.tripadvisor.com/AttractionProductReview-g12545795-d19930071-Bird_watching_Northern_Colombia_Birding_Trail-Gaira_Santa_Marta_Municipality_Mag.html', 'http://www.tripadvisor.com/AttractionProductReview-g297473-d19349401-Barranquilla_express-Barranquilla_Atlantico_Department.html', 'http://www.tripadvisor.com/AttractionProductReview-g297473-d19873011-1_day_at_the_Barranquilla_Carnival-Barranquilla_Atlantico_Department.html', 'http://www.tripadvisor.com/AttractionProductReview-g297473-d18341897-Private_One_Day_tour_to_Cartagena_from_Barranquilla-Barranquilla_Atlantico_Departm.html', 'http://www.tripadvisor.com/AttractionProductReview-g297473-d20322430-On_The_Footprints_Of_Gabriel_Garcia_Marquez-Barranquilla_Atlantico_Department.html', 'http://www.tripadvisor.com/AttractionProductReview-g297473-d11467058-Private_Bogota_s_downtown_Tour_Candelaria_Gold_Museum-Barranquilla_Atlantico_Depar.html', 'http://www.tripadvisor.com/AttractionProductReview-g297473-d21076436-The_Best_of_Barranquilla_Walking_Tour-Barranquilla_Atlantico_Department.html', 'http://www.tripadvisor.com/AttractionProductReview-g297476-d19621306-Cartagena_Barranquilla_Santa_Marta_excursion-Cartagena_Cartagena_District_Bolivar_.html', 'http://www.tripadvisor.com/AttractionProductReview-g297473-d19873011-1_day_at_the_Barranquilla_Carnival-Barranquilla_Atlantico_Department.html', 'http://www.tripadvisor.com/AttractionProductReview-g297473-d21076728-Romantic_tour_in_Barranquilla-Barranquilla_Atlantico_Department.html', 'http://www.tripadvisor.com/AttractionProductReview-g297473-d20322553-City_Tour_Barranquilla-Barranquilla_Atlantico_Department.html', 'http://www.tripadvisor.com/AttractionProductReview-g297473-d18753432-The_center_Charm_Culture_and_Flavors-Barranquilla_Atlantico_Department.html', 'http://www.tripadvisor.com/AttractionProductReview-g297476-d19621306-Cartagena_Barranquilla_Santa_Marta_excursion-Cartagena_Cartagena_District_Bolivar_.html', 'http://www.tripadvisor.com/AttractionProductReview-g297473-d21076728-Romantic_tour_in_Barranquilla-Barranquilla_Atlantico_Department.html', 'http://www.tripadvisor.com/AttractionProductReview-g297476-d19621306-Cartagena_Barranquilla_Santa_Marta_excursion-Cartagena_Cartagena_District_Bolivar_.html', 'http://www.tripadvisor.com/AttractionProductReview-g297473-d21076728-Romantic_tour_in_Barranquilla-Barranquilla_Atlantico_Department.html', 'http://www.tripadvisor.com/AttractionProductReview-g297473-d21076436-The_Best_of_Barranquilla_Walking_Tour-Barranquilla_Atlantico_Department.html', 'http://www.tripadvisor.com/AttractionProductReview-g297473-d19349401-Barranquilla_express-Barranquilla_Atlantico_Department.html', 'http://www.tripadvisor.com/AttractionProductReview-g297476-d19621306-Cartagena_Barranquilla_Santa_Marta_excursion-Cartagena_Cartagena_District_Bolivar_.html', 'http://www.tripadvisor.com/AttractionProductReview-g297473-d19873011-1_day_at_the_Barranquilla_Carnival-Barranquilla_Atlantico_Department.html', 'http://www.tripadvisor.com/AttractionProductReview-g297473-d18341897-Private_One_Day_tour_to_Cartagena_from_Barranquilla-Barranquilla_Atlantico_Departm.html', 'http://www.tripadvisor.com/AttractionProductReview-g297473-d19349401-Barranquilla_express-Barranquilla_Atlantico_Department.html']\n",
      "['http://www.tripadvisor.com/AttractionProductReview-g676524-d19145798-Gondava_The_Great_Valley_of_Dinosaurs_Theme_Park-Villa_de_Leyva_Boyaca_Department.html', 'http://www.tripadvisor.com/AttractionProductReview-g676524-d18478791-Eco_Cultural_Trekking-Villa_de_Leyva_Boyaca_Department.html', 'http://www.tripadvisor.com/AttractionProductReview-g676524-d15567257-Skip_the_Line_Granja_de_Avestruces_Admission_Ticket-Villa_de_Leyva_Boyaca_Departme.html', 'http://www.tripadvisor.com/AttractionProductReview-g294074-d11480179-Full_Day_Tour_to_Villa_de_Leyva_Including_Aain_Karim_vineyard_Private_tour-Bogota.html', 'http://www.tripadvisor.com/AttractionProductReview-g294074-d19348630-Villa_de_Leyva_Raquira_Zipaquira_in_2_days-Bogota.html', 'http://www.tripadvisor.com/AttractionProductReview-g676524-d17553102-Yoga_therapy_workshops-Villa_de_Leyva_Boyaca_Department.html', 'http://www.tripadvisor.com/AttractionProductReview-g297478-d21002155-Andes_Xperience-Medellin_Antioquia_Department.html', 'http://www.tripadvisor.com/AttractionProductReview-g676524-d15079806-Centro_de_Investigaciones_Paleontologicas_CIP_Admission_Ticket-Villa_de_Leyva_Boya.html', 'http://www.tripadvisor.com/AttractionProductReview-g294074-d13425857-Full_Day_Private_Tour_to_Villa_de_Leyva-Bogota.html', 'http://www.tripadvisor.com/AttractionProductReview-g294074-d19086380-Villa_de_Leyva-Bogota.html', 'http://www.tripadvisor.com/AttractionProductReview-g294074-d19872837-Villa_de_Leyva_Tour-Bogota.html', 'http://www.tripadvisor.com/AttractionProductReview-g294074-d11781524-Villa_de_Leyva_Private_Full_Day_Trip_from_Bogota-Bogota.html', 'http://www.tripadvisor.com/AttractionProductReview-g294074-d17699685-3_Day_Tour_Bogota_City_Tour_Salt_Cathedral_Guatavita_Lagoon_Villa_de_Leyva-Bogota.html', 'http://www.tripadvisor.com/AttractionProductReview-g294074-d17371445-Villa_de_Leyva_Day_Tour_Group_tour_and_daily_departure-Bogota.html', 'http://www.tripadvisor.com/AttractionProductReview-g294074-d15040602-Full_Day_Tour_to_Villa_de_Leyva_Town_Surroundings_from_Bogota-Bogota.html', 'http://www.tripadvisor.com/AttractionProductReview-g294074-d17539026-Villa_de_leyva_Daily_and_group_tour-Bogota.html', 'http://www.tripadvisor.com/AttractionProductReview-g297476-d16654195-Colombia_10_nights_11_days_Cartagena_Medellin_and_Bogota-Cartagena_Cartagena_Distr.html', 'http://www.tripadvisor.com/AttractionProductReview-g294074-d14762578-Villa_de_Leyva_Premium_Private_2_Day_Tour_Keep_Safe_from_Covid-Bogota.html', 'http://www.tripadvisor.com/AttractionProductReview-g294074-d16647328-7_Days_Bogota_and_the_Andes-Bogota.html', 'http://www.tripadvisor.com/AttractionProductReview-g294074-d19251954-Extreme_Villa-Bogota.html', 'http://www.tripadvisor.com/AttractionProductReview-g294074-d19252722-Discovering_Villa_de_Leyva_in_one_day-Bogota.html', 'http://www.tripadvisor.com/AttractionProductReview-g294074-d19984380-Villa_De_Leyva_4x4_Adventure-Bogota.html', 'http://www.tripadvisor.com/AttractionProductReview-g294074-d20926734-Villa_de_Leyva_Full_Day_Tour-Bogota.html', 'http://www.tripadvisor.com/AttractionProductReview-g676524-d15567257-Skip_the_Line_Granja_de_Avestruces_Admission_Ticket-Villa_de_Leyva_Boyaca_Departme.html', 'http://www.tripadvisor.com/AttractionProductReview-g676524-d19145798-Gondava_The_Great_Valley_of_Dinosaurs_Theme_Park-Villa_de_Leyva_Boyaca_Department.html', 'http://www.tripadvisor.com/AttractionProductReview-g294074-d13425857-Full_Day_Private_Tour_to_Villa_de_Leyva-Bogota.html', 'http://www.tripadvisor.com/AttractionProductReview-g294074-d19086380-Villa_de_Leyva-Bogota.html', 'http://www.tripadvisor.com/AttractionProductReview-g294074-d17699685-3_Day_Tour_Bogota_City_Tour_Salt_Cathedral_Guatavita_Lagoon_Villa_de_Leyva-Bogota.html']\n",
      "['http://www.tripadvisor.com/AttractionProductReview-g297474-d19348647-Private_Tour_San_Gil_Extreme_Sports_Adventure-Bucaramanga_Santander_Department.html', 'http://www.tripadvisor.com/AttractionProductReview-g297478-d21002155-Andes_Xperience-Medellin_Antioquia_Department.html', 'http://www.tripadvisor.com/AttractionProductReview-g297474-d17716905-Market_Tour_and_Cooking_Class_in_Bucaramanga_with_Local_Foodies-Bucaramanga_Santan.html', 'http://www.tripadvisor.com/AttractionProductReview-g297474-d19423171-Meet_the_Paramo_de_Santurban-Bucaramanga_Santander_Department.html', 'http://www.tripadvisor.com/AttractionProductReview-g297474-d17566093-City_Tour_por_la_Ciudad_Bonita-Bucaramanga_Santander_Department.html', 'http://www.tripadvisor.com/AttractionProductReview-g297474-d17616524-Chicamocha_National_Park_Full_Day_Private_Tour_Including_Lunch-Bucaramanga_Santand.html', 'http://www.tripadvisor.com/AttractionProductReview-g1221358-d19108475-Santander_Extreme-San_Gil_Santander_Department.html', 'http://www.tripadvisor.com/AttractionProductReview-g297474-d19282811-Private_Tour_Coffee_Tour_Cultivations-Bucaramanga_Santander_Department.html', 'http://www.tripadvisor.com/AttractionProductReview-g297474-d19348644-Private_Tour_Guadalupe_Las_Gachas_Nature-Bucaramanga_Santander_Department.html', 'http://www.tripadvisor.com/AttractionProductReview-g297474-d19347438-Private_Tour_Cacao_Tour_Cultivations-Bucaramanga_Santander_Department.html', 'http://www.tripadvisor.com/AttractionProductReview-g297474-d19347440-Private_Tour_Pineapple_Tour_Cultivations-Bucaramanga_Santander_Department.html', 'http://www.tripadvisor.com/AttractionProductReview-g297474-d19914664-Explore_the_moor_and_natural_lagoons-Bucaramanga_Santander_Department.html', 'http://www.tripadvisor.com/AttractionProductReview-g297474-d19347439-Private_Tour_El_Socorro_Culture-Bucaramanga_Santander_Department.html', 'http://www.tripadvisor.com/AttractionProductReview-g297474-d19347442-Private_Tour_Barichara_El_Socorro_Culture-Bucaramanga_Santander_Department.html', 'http://www.tripadvisor.com/AttractionProductReview-g297474-d20229865-Lengerke_s_Way_On_the_trail_of_a_visionary-Bucaramanga_Santander_Department.html', 'http://www.tripadvisor.com/AttractionProductReview-g297474-d19282817-Private_Tour_Santisimo_Culture-Bucaramanga_Santander_Department.html', 'http://www.tripadvisor.com/AttractionProductReview-g297474-d15524177-Market_Tour_Traditional_Colombian_Cooking_Class_in_a_Local_Home_in_Bucaramanga-Buc.html', 'http://www.tripadvisor.com/AttractionProductReview-g297474-d17372995-Private_Market_Tour_and_Cooking_Class_in_Bucaramanga_with_a_Mother_Son_Duo-Bucaram.html', 'http://www.tripadvisor.com/AttractionProductReview-g297474-d17716905-Market_Tour_and_Cooking_Class_in_Bucaramanga_with_Local_Foodies-Bucaramanga_Santan.html', 'http://www.tripadvisor.com/AttractionProductReview-g297474-d19349780-Private_Tour_Coffee_Tour_Gastronomic_Tour_Cultivations-Bucaramanga_Santander_Depar.html', 'http://www.tripadvisor.com/AttractionProductReview-g297474-d19348646-Private_Tour_Airplane_Cave_Adventure-Bucaramanga_Santander_Department.html', 'http://www.tripadvisor.com/AttractionProductReview-g297474-d19348641-Private_Tour_Horse_Riding_La_Lajita_Nature-Bucaramanga_Santander_Department.html', 'http://www.tripadvisor.com/AttractionProductReview-g297474-d19348642-Private_Tour_Juan_Curi_Waterfalls_Nature-Bucaramanga_Santander_Department.html', 'http://www.tripadvisor.com/AttractionProductReview-g297474-d19281444-Private_Tour_Chicamocha_National_Park_Panachi-Bucaramanga_Santander_Department.html', 'http://www.tripadvisor.com/AttractionProductReview-g297474-d19348647-Private_Tour_San_Gil_Extreme_Sports_Adventure-Bucaramanga_Santander_Department.html', 'http://www.tripadvisor.com/AttractionProductReview-g297474-d19348646-Private_Tour_Airplane_Cave_Adventure-Bucaramanga_Santander_Department.html', 'http://www.tripadvisor.com/AttractionProductReview-g297474-d19348644-Private_Tour_Guadalupe_Las_Gachas_Nature-Bucaramanga_Santander_Department.html', 'http://www.tripadvisor.com/AttractionProductReview-g297474-d19348641-Private_Tour_Horse_Riding_La_Lajita_Nature-Bucaramanga_Santander_Department.html']\n"
     ]
    }
   ],
   "source": [
    "test_get_cities = get_cities(url_country, url_scraping)\n",
    "print(test_get_cities)\n",
    "for city in test_get_cities:\n",
    "    print(get_city_activities_link(city, url_scraping))"
   ]
  },
  {
   "cell_type": "markdown",
   "metadata": {},
   "source": [
    "# GET_CONTENT_INFORMATION FROM ACTIVITIES"
   ]
  },
  {
   "cell_type": "code",
   "execution_count": 153,
   "metadata": {},
   "outputs": [],
   "source": [
    "def get_content_per_activity(activities_list):\n",
    "    activities_overview = []\n",
    "    activities_user = []\n",
    "    activities_duration = []\n",
    "    for activity in activities_list:\n",
    "        if activity is not None:\n",
    "            r_activity = requests.get(activity)\n",
    "            if r_activity.status_code == 200:\n",
    "                r_activity_soup = BeautifulSoup(r_activity.text,'lxml')\n",
    "                activity_content =  r_activity_soup.find('div', attrs={'class':'AvpaRatK'})\n",
    "                activity_user =  r_activity_soup.find('span', attrs={'class':'_3nwb933a'})\n",
    "                activity_duration_list =  r_activity_soup.find_all('li', attrs={'class':'_2PwpULJT'})\n",
    "                \n",
    "                if activity_content:\n",
    "                    activities_overview.append(activity_content.find('span').text)\n",
    "                else:\n",
    "                    activities_overview.append('Activity N/A')\n",
    "                               \n",
    "                if activity_user:\n",
    "                    activities_user.append(activity_user.text)\n",
    "                else:\n",
    "                    activities_user.append('Activity N/A')\n",
    "                \n",
    "                if activity_duration_list:\n",
    "                    for duration in activity_duration_list:\n",
    "                        if duration:\n",
    "                            duration_analyze = duration.text\n",
    "                            if duration_analyze.find('Duration') != -1:\n",
    "                                activities_duration.append(duration_analyze)\n",
    "                                break\n",
    "                        \n",
    "       \n",
    "                else:\n",
    "                    activities_duration.append('Activity N/A')\n",
    "        else:\n",
    "            activities_overview.append('Activity N/A')\n",
    "            activities_user.append('Activivity N/A')\n",
    "            activities_duration.append('Activiy N/A')\n",
    "            \n",
    "    \n",
    "    return activities_overview, activities_user, activities_duration"
   ]
  },
  {
   "cell_type": "code",
   "execution_count": 244,
   "metadata": {},
   "outputs": [],
   "source": [
    "def content_information(soup, activities_list_urls):\n",
    "    #for link in links_top_attractions:\n",
    "    dir_results = {}\n",
    "    try:\n",
    "        \n",
    "        #Extracting title\n",
    "        title = soup.find('div', attrs = {'class':'_1l9azAvU'})\n",
    "        if title is not None:\n",
    "            dir_results['title'] = title.h1.text.replace('Things to Do in ','')\n",
    "            \n",
    "        else:\n",
    "            title = soup.find('div', attrs={'class':'display_center ui_container'})\n",
    "            if title is not None:\n",
    "                dir_results['title'] = title.h1.text.replace('Things to Do in ','')\n",
    "            else:\n",
    "                dir_results['title'] = None\n",
    "        \n",
    "        #Extracting Activities\n",
    "       \n",
    "        activities = soup.find_all('span', attrs = {'class':'_2e_OvRJN'})\n",
    "                \n",
    "        #if activities is not None:\n",
    "        if len(activities) != 0:\n",
    "            activities_list = [activitie.h3.text for activitie in activities]\n",
    "            dir_results['activities'] = activities_list\n",
    "        else:  \n",
    "          \n",
    "            activities = soup.find_all('div', attrs = {'class':'_1lY2qyk3'})\n",
    "            \n",
    "            if activities is not None:\n",
    "                activities_list = [activitie.h3.text for activitie in activities]\n",
    "                dir_results['activities'] = activities_list\n",
    "            else:\n",
    "                dir_results['activities'] = None\n",
    "                \n",
    "        #Extracting Images\n",
    "        \n",
    "        images_media = soup.find_all('a', attrs={'class':'_1zqXepI-'})\n",
    "        \n",
    "        if len(images_media) != 0:\n",
    "            images = [img.find('img').get('data-url') for img in images_media]\n",
    "            dir_results['images'] = [img_fin.replace('https','http') for img_fin in images]\n",
    "        else:\n",
    "            images_media = soup.find_all('a', attrs={'class':'_1o7ZDa9J'})\n",
    "            if images_media:\n",
    "                images = [img.img.get('data-url') for img in images_media]\n",
    "                dir_results['images'] = [img_fin.replace('https','http') for img_fin in images]\n",
    "            \n",
    "            else:\n",
    "                dir_results['images'] = None\n",
    "        \n",
    "        #Extracting Content\n",
    "        \n",
    "        \n",
    "        content_per_activity = get_content_per_activity(activities_list_urls)\n",
    "        if content_per_activity:\n",
    "            dir_results['overviews'] = content_per_activity[0]\n",
    "            dir_results['users'] = content_per_activity[1]\n",
    "            dir_results['duration'] = content_per_activity[2]\n",
    "        else:\n",
    "            dir_results['overviews'] = None\n",
    "            dir_results['users'] = None\n",
    "            dir_results['duration'] = None\n",
    "        \n",
    "        #Extracting tags\n",
    "        tags = soup.find_all('span',attrs={'class':'_21qUqkJx'})\n",
    "        str_x = []\n",
    "        if len(tags) != 0:\n",
    "            dir_results['tags'] = [tag.text for tag in tags]\n",
    "        else:\n",
    "            [str_x.append('general') for i in range(len(activities_list_urls))]\n",
    "            dir_results['tags'] = str_x\n",
    "        \n",
    "        \n",
    "      \n",
    "        return dir_results\n",
    "                                         \n",
    "          \n",
    "    except Exception as e:\n",
    "        print('Error')\n",
    "        print(e)\n",
    "        print('\\n')\n",
    "        \n",
    "\n",
    " "
   ]
  },
  {
   "cell_type": "code",
   "execution_count": 178,
   "metadata": {
    "collapsed": true
   },
   "outputs": [
    {
     "data": {
      "text/plain": [
       "['general',\n",
       " 'general',\n",
       " 'general',\n",
       " 'general',\n",
       " 'general',\n",
       " 'general',\n",
       " 'general',\n",
       " 'general',\n",
       " 'general',\n",
       " 'general',\n",
       " 'general',\n",
       " 'general',\n",
       " 'general',\n",
       " 'general',\n",
       " 'general',\n",
       " 'general',\n",
       " 'general',\n",
       " 'general',\n",
       " 'general',\n",
       " 'general',\n",
       " 'general',\n",
       " 'general',\n",
       " 'general',\n",
       " 'general',\n",
       " 'general',\n",
       " 'general',\n",
       " 'general',\n",
       " 'general',\n",
       " 'general',\n",
       " 'general',\n",
       " 'general',\n",
       " 'general']"
      ]
     },
     "execution_count": 178,
     "metadata": {},
     "output_type": "execute_result"
    }
   ],
   "source": [
    "len(activs)\n",
    "str_x = []\n",
    "[str_x.append('general') for i in range(len(activs))]\n",
    "a='general'\n",
    "\n",
    "\n",
    "\n",
    "\n",
    "str_x"
   ]
  },
  {
   "cell_type": "markdown",
   "metadata": {},
   "source": [
    "# EXTRACTING METHODS"
   ]
  },
  {
   "cell_type": "markdown",
   "metadata": {},
   "source": [
    "# MAIN FUNCTION"
   ]
  },
  {
   "cell_type": "markdown",
   "metadata": {},
   "source": [
    "###  TESTS"
   ]
  },
  {
   "cell_type": "code",
   "execution_count": 31,
   "metadata": {
    "collapsed": true
   },
   "outputs": [
    {
     "name": "stdout",
     "output_type": "stream",
     "text": [
      "[{'title': 'Things to Do in Bogota', 'activities': ['La Candelaria + Optional Monserrate + Optional Gold Museum Bogotá City Tour 5-7H', 'Bogotá Bike Tour', 'Divercity Bogotá Admission Ticket', 'The Bogotá food experience ', 'Cruise Bogota gay district', 'Graffiti Tour in La Candelaria Bogotá', 'Cloud Forest and Waterfall Hike', 'Dancing vacation tour', 'Private Tour to the Nature Waterfall of La Chorrera from Bogotá', 'Botero Museum Admission Ticket and Private Guided Tour', 'Skip the Line: Gold Museum (Museo del Oro) Ticket and Private Guided Tour', 'Mystic Wellness • Spa and Wellness Day at the Salt Cathedral', 'Rent a local friend in Bogota', 'Tour to the Salt Mines in Nemocon and Andrés Carne De Res (Private Tour)', \"D 'Fiesta For Bogotá. Enjoy the night knowing the rumba in Bogotá\", 'Party Bus to gringo tuesday (zona rosa)', 'Private Tour to the Salt Cathedral and the Guatavita Lagoon', 'Hike to the highest colombian fall (la chorrera and chiflon)', 'Private half day tour to Nemocon Salt Cathedral and village', 'Private Hummingbird Watching Tour ', 'Bogota Kickstart Tour • Candelaria + Cacao & Coffee Workshop • 4h', 'Salt Cathedral Zipaquira - Group tour and daily departure', 'Shared Walking Tour in La Candelaria Bogotá', 'Bogota Private 6 hours City Tour, Tickets, Coffee Break', 'Village and Lake Guatavita Day Trip + Optional Lunch ', 'Bogota Monserrate and Zipaquira Salt Cathedral', 'Zipaquira Salt Cathedral Group Tour with Departure', 'City Tour: Hidden Bogotá\\n', 'Private Tour to the Nature Waterfall of La Chorrera from Bogotá', 'Private Bogotá City Tour + In&Out Transfer + (9 hours) ', 'Guatavita Lagoon - Private Tour', 'Zipaquira Salt Cathedral Private Tour'], 'images': ['http://media-cdn.tripadvisor.com/media/photo-s/1b/4f/61/0b/caption.jpg', 'http://media-cdn.tripadvisor.com/media/photo-s/1a/5f/ad/c8/caption.jpg', 'http://media-cdn.tripadvisor.com/media/photo-s/1b/6b/73/50/caption.jpg', 'http://media-cdn.tripadvisor.com/media/photo-s/1a/60/ec/77/caption.jpg', 'http://media-cdn.tripadvisor.com/media/photo-s/1a/84/f0/a5/caption.jpg', 'http://media-cdn.tripadvisor.com/media/photo-s/1b/31/52/45/caption.jpg', 'http://media-cdn.tripadvisor.com/media/photo-s/1a/64/80/d6/caption.jpg', 'http://media-cdn.tripadvisor.com/media/photo-s/1b/f6/25/8f/caption.jpg', 'http://media-cdn.tripadvisor.com/media/photo-s/1a/f1/48/9f/caption.jpg', 'http://media-cdn.tripadvisor.com/media/photo-s/1a/d3/37/f1/caption.jpg', 'http://media-cdn.tripadvisor.com/media/photo-s/1a/8e/65/b9/caption.jpg', 'http://media-cdn.tripadvisor.com/media/photo-s/1b/43/b3/3b/caption.jpg', 'http://media-cdn.tripadvisor.com/media/photo-s/1b/46/15/60/caption.jpg', 'http://media-cdn.tripadvisor.com/media/photo-s/1a/56/a0/08/caption.jpg', 'http://media-cdn.tripadvisor.com/media/photo-s/1a/8e/45/4e/caption.jpg', 'http://media-cdn.tripadvisor.com/media/photo-s/1a/82/94/59/caption.jpg', 'http://media-cdn.tripadvisor.com/media/photo-s/1b/43/b3/48/caption.jpg', 'http://media-cdn.tripadvisor.com/media/photo-s/1a/60/94/8a/caption.jpg', 'http://media-cdn.tripadvisor.com/media/photo-s/1a/64/e4/f5/caption.jpg', 'http://media-cdn.tripadvisor.com/media/photo-s/1a/59/73/6e/caption.jpg', 'http://media-cdn.tripadvisor.com/media/photo-s/1b/43/e7/0a/caption.jpg', 'http://media-cdn.tripadvisor.com/media/photo-s/1a/5b/39/37/caption.jpg', 'http://media-cdn.tripadvisor.com/media/photo-s/1a/ad/d9/77/caption.jpg', 'http://media-cdn.tripadvisor.com/media/photo-s/1a/60/ed/53/caption.jpg', 'http://media-cdn.tripadvisor.com/media/photo-s/1b/4b/e3/6e/caption.jpg', 'http://media-cdn.tripadvisor.com/media/photo-s/1a/64/5d/36/caption.jpg', 'http://media-cdn.tripadvisor.com/media/photo-s/1b/3d/a9/82/caption.jpg', 'http://media-cdn.tripadvisor.com/media/photo-s/1a/e1/0f/2a/caption.jpg', 'http://media-cdn.tripadvisor.com/media/photo-s/1a/f1/48/9f/caption.jpg', 'http://media-cdn.tripadvisor.com/media/photo-s/1a/83/d4/83/caption.jpg', 'http://media-cdn.tripadvisor.com/media/photo-s/1b/3d/a9/8d/caption.jpg', 'http://media-cdn.tripadvisor.com/media/photo-s/1b/3d/a9/8a/caption.jpg'], 'overviews': ['Gain a comprehensive overview of Colombia’s capital on this private tour that combines museum visits, cultural workshops, and city sightseeing all in one convenient package. Benefit from your guide’s personalized insights as you explore top landmarks including Monserrate and Bolivar Square, then get a more intimate glimpse of Colombia’s economy and culture. Tastings, tickets, and round-trip transfers are included in the price.\\nYou’are be able to choose between a 7-hour tour including Monserrate, Gold Museum and Botero Museum, or a 5-hour tour which includes only Monserrate or museums.', 'Energetic Bogotá has grabbed global headlines as a bike-friendly city, but finding the best routes can be a challenge for first-time visitors. Grab a bike to explore the city with a guide to lead the way, pedaling through La Candelaria, Plaza de Toros, and neighborhoods with colorful street art. Break up the mostly-flat route with stops at a fresh fruit market and a coffee factory.', 'Activity N/A', 'we visit 7 places where we try food from 7 diferent Regions of Colombia and also we have the oportunity of to cook our own empanadas.\\n\\nThe perfect way to get in touch with the culture, history and the flavours of Colombia. It’s a very natural way to be together with the native people and interact with them; at the market and the local house for example. We get to know more about Colombian cuisine because bogota is a capital where all the Colombian people do live; so you really get the opportunity of to try traditional Colombian food from all around Colombian just in one city. Perfect for to know colombia in one afternoon. By the true Colombian food.\\n\\nthis experience is friendly with vegetarian people.\\n\\n', \"Colombia is one of the most advanced countries in latin america in reference to legal protection and equal rights for the LGBTQ community. Then is not surprising to find in Bogota hundreds (right, hundreds) of places for gay entertainment (from mild to wild).\\nTogether, I'll help you to locate around 30 places! Telling you tips about them. When we finish and you decide the one that suits you best, I'm taking you back to it so you can have a blast!\\nThis experience is packed with stories about the neighborhood, security tips and descriptions about the places we are going to spot.\\nI know most of them because of my previous work at a gay rights related foundation.\\nWith this information you can choose the place that suits you to have fun with the locals\\nWhere to go? What to do? Where is safe? What NOT to do?\\nI can reply those and a lot more questions on our way.\\nWe’ll start sharing stories about lourdes square. Then a couple of blocks ahead we’ll discover the colombian equivalent of the ABS, after that we’ll see a gay hotel nearby, later we’ll spot a few bars, a BH and we’ll finish at the largest gay disco in the world.\", 'Bogotá has become a world reference in graffiti. It boasts impressive murals and street art that place it above cities like Miami, Amsterdam, Río, and México City. Its rise as one of the key city-canvases in Latin America has made it an attractive destination for the curious tourist and the bold artist. Would you have guessed?\\n\\nAs with graffiti everywhere else, Bogotá’s history with the art has often been tense. But great art can overcome negative labels. Right now, no one would call it vandalism. It has struggled but has earned its place and the city is better for it. The mixture of social and political commentary with a twist of local and foreign styles make Bogotá’s graffiti truly a sight to behold.\\n\\nJoin us in this tour not only of Colombia’s history as told by art but a tour of Bogotá as a curated museum of amazing artists!\\n\\n', 'Journey with us through green and lush mountain trails as we discover a land filled with waterfalls, biodiversity and a rich local farming culture. Make your way up these high mountains while looking out for orchids deep within the Andean forest. Learn about the use of medicinal native plants and try out fresh milk at the end of this interpretative hike. Located about 45 minutes from Bogotá, Aguadulce is a rural village in Choachí that sits at 3100 m.a.s.l. within a lush Andean cloud forest. Note: This tour does not visit overcrowded La Chorrera. ', 'A pleasant experience that teaches you to dance the Latin rhythms you want and then dance hard in the best locations in the cities we visit. Dance lesson, beach, pool, city tour, nigth tour on bar or dicoteque, social dance, and more.', 'Activity N/A', 'Activity N/A', 'Activity N/A', 'Immerse yourself in the depths of the Salt Cathedral of Zipaquirá and live an exclusive experience of well-being and relaxation 180 meters underground in the Esensal Spa, a unique wonder in Colombia', 'Activity N/A', 'Enjoy your afternoon and evening visiting two of the most famous places in Colombia. Discover the architectural profile of the Nemocon Salt Mine, one of the underground wonders where salt is produced at 196 feet (60 m) below the surface of the earth. Later we leave to feel the rhythm of Colombian music in Andrés Carne de Res in Chía, eating and enjoying dishes of the typical Colombian cuisine and shaking your body to the rhythm of the music.', 'Your reservation is final and is guaranteed if it is for at least two (2) people.\\nWe do it for small groups and in vans of maximum 10 passengers.\\nThis allows you to make better use of your time, park everywhere and make the experience more enjoyable.\\nWe take a panoramic tour of the main neighborhoods and places of the rumba of Bogotá such as: Mirador de La Calera, Zona Rosa, Zona T, Parque de la 93.\\nIn each sector, passengers will be able to get off the transport to visit discos, bars and interact with other visitors.', 'This is a special and unique tour as part of the fun is on the bus but the most important thing is to arrive at the gringo event on Tuesday.\\n\\nthis event is every Tuesday and it is in the pink zone.\\n\\nThe disco has 3 floors and about 4 different environments.\\n\\nthe rumba begins with a trip in the bus of about 30 minutes taking the cuba libres and then you will arrive at the disco where you can enjoy one of the best parties in Bogota. its international party; and what make it special is the only big party on a Tuesday.', 'Activity N/A', 'Take a private tour to visit Colombia´s salt capital any day of the week with bilingual private guide. Nemocon and its colonial heritage will captivate your senses as you walk around phenomenal architectural sceneries meeting friendly locals baking tasty treats. But just wait until you get to the salt mine, where you will be able to learn the salt production process employed since pre-hispanic ages as you explore around 1,600 meters of tunnels and chambers with particular light effects that will most probably amaze you.', \"Visit the biggest and most stunning hummingbird sanctuary, learn about them, about colombia's biodiversity and spend up to three hours by the hand of your private tour guide, who will let you know everything you need to know about these incredible animals. \", 'Explore the Zipaquirá Salt Cathedral on this half-day Zipaquirá tour from Bogota. There are no rental car worries as transportation to and from your hotel is provided. Visit the salt mines and learn about their significance to Colombia, plus witness the salt collection process. Then, discover the Zipaquirá Salt Cathedral, carved into the walls of an abandoned mine.', 'Activity N/A', 'Explore the Zipaquirá Salt Cathedral on this half-day Zipaquirá tour from Bogota. There are no rental car worries as transportation to and from your hotel is provided. Visit the salt mines and learn about their significance to Colombia, plus witness the salt collection process. Then, discover the Zipaquirá Salt Cathedral, carved into the walls of an abandoned mine.', 'Get a more intimate glimpse into the historic neighborhood of La Candelaria on a walking tour that offers a great introduction for travelers visiting Bogota for the first time. As well as offering the inside scoop on Bogota’s rich culture and history, this tour includes tastings of coffee, chicha, and fresh fruits.', 'Bogota will surprise you! It is a cosmopolitan, bustling, modern and colonial city at the same time, which houses 8.5 million cheerful, kind, friendly, sociable and fun inhabitants. From the sector of large avenues and modern shopping centers in the north of the city to the colonial Bogota in La Candelaria, at the south center, it is a box of surprises!\\xa0\\n\\nThere is a lot to see in Bogotá: Make sure you have all the time you need to make a pleasant trip, that allows you to appreciate what the city looks like, what it tastes like, what it smells like, what everyday life is like ... ', 'Activity N/A', \"If you have just one day in Bogota or you want to save time during your trip, my tour is the best option because you are able to know the most important highlights; Mount Monserrate; beautiful church in a mountain and Zipaquira Salt Cathedral; the first natural wonder in Colombia, also every thing is included such as food (breakfast and snacks), entrance ticket to the attractions, pick up and drop off in whatever place, bilingual tour guide (English and Spanish) comfortable car with air conditioning. You just pay once and you will enjoy whole day in my city Bogota and my country Colombia. Besides, at night you may take a dinner in Andres Carne de Res, the most famous restaurant in Colombia with different kind of dishes for every taste (Food is not included inside this restaurant). Book my tour and I'll be for you, I'll help you out in your vacations and whatever thing you need during your journey.\", \"If you want to have an interesting and magical experience, being in this place will be wonderful. It is considered the First Wonder in Colombia because its structure is made all with Salt. Have you been in a building entirely made of salt before? Here you will be in one, and besides to how wonderful it is to feel the power of nature and the legacy of Latin American architecture, you will have the opportunity to feel a spiritual experience. Regardless of your religion, here you can connect with the greater forces of the nature and, if it is your style, you will ask yourself questions about the world's great mysteries. If you really want to enjoy and tell a lifetime experience, this is your place!\\n\", 'Visit the hidden face of Bogotá, transit through its cobbled streets in history, go through mysterious passages and you will know another facet yet to be discovered from this huge capital city.', 'Activity N/A', \"With this private personalized tour you will visit Bogota's historical district. Our specialized guides will teach you about Colombian culture. You will visit Monserrate and the most important museums of Colombia. We will also visit Usaquen a beautiful neighborhood in the wealthy northern part of the city. We will be your best friend in the city. \", 'Relive the fascinating history about how the Spanish conquerors, obsessed with gold and inspired by the histories told by the indigenous people, would bring to America a multitude of mercenaries and adventurous people seeking for infinite wealth. ', 'Explore the man-made wonder created by salt miners as a prove of devotion, in a private daytrip to Zipaquirá, next to a local expert, to understand the relevance of the Salt for the people & cultures who have been inhabiting the city since pre-Columbian times.']}, {'title': 'Things to Do in Cartagena', 'activities': ['Sibarita Express Cartagena Harbor Cruise with Dinner and Wine', 'Totumo volcano + Galerazamba', 'Excursion to the Rosario Islands', 'Sibarita Express 90 minutes Sunset Tour and Open Bar', 'Sunset Cruise', 'Namaste Beach Club ', 'Brunch And Paint in a secret rooftop', 'Private Boat Rental', 'City Tour In Chiva', 'Full-Day Rosario Islands Including Barú, Cholon and Playa Blanca', 'City Tour of Cartagena for Cruises', 'Isla Baru Playa Tranquila ', 'Private tour Full Day Rosario Islands Including Barú, Cholon and Playa Blanca', ' Private Boat Tours to Rosario and San Bernardo Islands', 'Private City Tour of Cartagena', 'The Rise of the Wall City. Cartagena Sensorial Audiowalk Part 1', 'Private tour Full Day Rosario Islands Including Barú, Cholon and Playa Blanca', 'Totumo volcano + Galerazamba', 'Excursion to the Rosario Islands', 'Namaste Beach Club ', 'Zumba and Island Hopping in Rosario and Cholon', 'Horseback Riding Tour in Beach of Cartagena', 'Blue Apple Beach Day Trip from Cartagena including traditional Colombian lunch', 'Cartagena - Barranquilla - Santa Marta excursion', 'Full day VIP in Playa Blanca - Barú', \"Visit San Basilio de Palenque, a piece of Africa's heart in America \", 'Totumo volcano + Galerazamba', 'Excursion to the Rosario Islands', 'Zumba and Island Hopping in Rosario and Cholon', 'Baru Island, Playa Blanca + Rosario Islands panoramic boat tour', 'Excursion to the Rosario Islands', ' Private Boat Tours to Rosario and San Bernardo Islands'], 'images': ['http://media-cdn.tripadvisor.com/media/photo-s/1a/79/5a/6b/caption.jpg', 'http://media-cdn.tripadvisor.com/media/photo-s/1a/5b/73/90/caption.jpg', 'http://media-cdn.tripadvisor.com/media/photo-s/1a/5b/f5/f5/caption.jpg', 'http://media-cdn.tripadvisor.com/media/photo-s/1a/64/47/9f/caption.jpg', 'http://media-cdn.tripadvisor.com/media/photo-s/1a/8e/75/96/caption.jpg', 'http://media-cdn.tripadvisor.com/media/photo-s/1a/58/74/67/caption.jpg', 'http://media-cdn.tripadvisor.com/media/photo-s/1b/42/54/53/caption.jpg', 'http://media-cdn.tripadvisor.com/media/photo-s/1a/a4/ab/d1/caption.jpg', 'http://media-cdn.tripadvisor.com/media/photo-s/1a/80/c6/0d/caption.jpg', 'http://media-cdn.tripadvisor.com/media/photo-s/1a/58/9e/07/caption.jpg', 'http://media-cdn.tripadvisor.com/media/photo-s/1b/64/7c/de/caption.jpg', 'http://media-cdn.tripadvisor.com/media/photo-s/1a/5e/e5/db/caption.jpg', 'http://media-cdn.tripadvisor.com/media/photo-s/1a/58/a8/a5/caption.jpg', 'http://media-cdn.tripadvisor.com/media/photo-s/1b/e3/7c/3f/caption.jpg', 'http://media-cdn.tripadvisor.com/media/photo-s/1a/57/6c/4b/caption.jpg', 'http://media-cdn.tripadvisor.com/media/photo-s/1a/ba/b3/2a/caption.jpg', 'http://media-cdn.tripadvisor.com/media/photo-s/1a/58/a8/a5/caption.jpg', 'http://media-cdn.tripadvisor.com/media/photo-s/1a/5b/73/90/caption.jpg', 'http://media-cdn.tripadvisor.com/media/photo-s/1a/5b/f5/f5/caption.jpg', 'http://media-cdn.tripadvisor.com/media/photo-s/1a/58/74/67/caption.jpg', 'http://media-cdn.tripadvisor.com/media/photo-s/1a/88/26/ba/caption.jpg', 'http://media-cdn.tripadvisor.com/media/photo-s/1a/57/e2/07/caption.jpg', 'http://media-cdn.tripadvisor.com/media/photo-s/1a/5c/9d/6d/caption.jpg', 'http://media-cdn.tripadvisor.com/media/photo-s/1a/5e/a7/22/caption.jpg', 'http://media-cdn.tripadvisor.com/media/photo-s/1a/58/9c/79/caption.jpg', 'http://media-cdn.tripadvisor.com/media/photo-s/1a/63/e6/a6/caption.jpg', 'http://media-cdn.tripadvisor.com/media/photo-s/1a/5b/73/90/caption.jpg', 'http://media-cdn.tripadvisor.com/media/photo-s/1a/5b/f5/f5/caption.jpg', 'http://media-cdn.tripadvisor.com/media/photo-s/1a/88/26/ba/caption.jpg', 'http://media-cdn.tripadvisor.com/media/photo-s/1b/4f/2d/fa/caption.jpg', 'http://media-cdn.tripadvisor.com/media/photo-s/1a/5b/f5/f5/caption.jpg', 'http://media-cdn.tripadvisor.com/media/photo-s/1b/e3/7c/3f/caption.jpg'], 'overviews': ['Escape the crowds on land and see Cartagena from a different perspective during an evening harbour cruise that reveals the Caribbean port city when its illuminated at night. Choose from several different seating and dinner options to suit your budget, and enjoy a 3-course meal that can be tailored to your dietary needs.', 'Totumo volcano and pink sea natural phenomena in the Colombian Caribbean. The pink sea is found In the department of Bolívar is the village of Galerazamba, which is part of the municipality of Santa Catalina. The place has a great history and its salt flats steal the whole show, since they provide the waters forming the intense pink sea, being a natural phenomenon it has a pink hue depending on the season, the season of the pink sea is of December to April. It is currently closed due to the health emergency, that is why we are going to Galerazamba where we will know:\\n- Catalina India\\n- The Ethno-industrial Museum\\n- Viewpoint where you can observe the phenomenon of the pink sea\\n\\nThe Totumo Volcano you can enjoy a different experience, which is medicinal as well as fun!', 'Enjoy an unforgettable day aboard a catamaran. Sail from Cartagena to the Rosario Islands. Snorkel an amazing coral reef and see an underwater kingdom in the crystal clear waters.\\n\\nEnjoy our 3x2 promotion on the excursion to the Rosario Islands this Sunday, November 1 and Monday, November 2.\\nPlease, after purchasing two tickets, contact us and the third passenger can go up for free.\\nHot Sale: Enjoy our 3x2 sale in Rosario Island Excursion this sunday 1st and monday 2nd of november.\\nPlease after buying 2 tickets contact us and we will give you a free ticket for the third passenger.', 'Get out on the Caribbean Sea at the most magical time of day during a sunset sail on Cartagena Bay. As well as enjoying an intimate atmosphere in a small group limited to 12, you’ll escape the crowds on land and enjoy unobstructed views of the Cartagena coastline, which provides great photo opportunities.', 'Enjoy the sunset in Cartagena from a different point of view. Admire the spectacular profile of Cartagena on a romantic two-hour cruise at sunset.', 'Tierra Bomba Island is a newly develope island crossing Cartagena bay, for years it was a forgotten place with a huge social crissis. For over 5 years The team backing Namasté Club, has been training and working with locals to develope a sustainable solution for the island. When you visit Namasté beach Club, you´ll be host by Locals and you´ll experience a chillout vibe with an international boho style. The palce is stunning and all of it´s cornners are full of lovely boho details, the food is gourmet, healthy and balance. 100% eco friendly, It is part of the experience to walk arround the propperty. Namasté Is one of the two beach clubs of The beach Hotel Cartagena. The view is great, you can feel the permanent contrast between nature and an modern city. PS: You can ask our team to guide on a eco walk. There are some other restaurants in the island,, the proyect is growing an a lot of people discover how beautifull tierrabomba is, still we are the best ;) Yoga class Available.', 'We will be on the private rooftop of our house located in the neighborhood Getsemani! with a beautiful view of the castle San Felipe! a cool place since being on a third floor there is always a relaxing wind blowing!\\n', 'exclusive boat\\nCustomers choose the departure time and destination.\\nquieter and less busy beaches.\\n', 'Activity N/A', 'Escape the busy streets of Cartagena with a full day on the Rosario Islands.\\xa0A bus\\xa0takes\\xa0your small group to the Colombian coastal town of Barú, where a speedboat whisks you to the picturesque Corales del Rosario National Park. There, sunbathe on unspoiled beaches, swim and snorkel in the azure Caribbean, and relax. There are no cost surprises as the tour includes lunch, hotel pickup and drop-off, park fees, and use of snorkel equipment.', 'Activity N/A', 'Activity N/A', 'Activity N/A', \"Exceptional boat Charters and island accommodations to the The Rosario islands, San Bernardo Islands and Colombian Coast.This is a unique personalized boating experience only Emerald Destinations can provide. Every Tour experience is personalized to our clients needs from only a day tour in the Rosario's, to extended stays in the islands and coastal beach accommodations. Our services include optional customized daily meals to preferred water activities. Our focus is the client, and providing unique service to making every moment memorable. As boat owners we provide charters at reasonable pricing and have access to island accommodations not readily accessible to the casual traveler. From ownership to our tour guides and crews, our goal is show you Cartagena and its historical coast, while providing exceptional service. Whether its exploring the Rosario islands or traveling to a private island for rest and relaxation, The Emerald Team is here for our clients.\", 'Opt for a personalized sightseeing experience of Cartagena on a private tour that’s designed with first-time visitors in mind. Rather than following a set sightseeing schedule, you’ll have the flexibility to tailor your itinerary according to your interests. Plus, a private guide is on hand to provide personalized recommendations.', 'Actors perform directly to your headset together with 3D Sound effects. Don Antonio de Arévalo, one of the greatest military engineers rebuilders of the Fortifications of Cartagena de Indias, will guide you through this Soundwalk, which will explain the details and stories of the walls with pride and ownership in this first route, which runs from the Bastion of San Pedro to the Bastion of Santa Catalina and the Espigon of the Tenaza. ', 'Activity N/A', 'Totumo volcano and pink sea natural phenomena in the Colombian Caribbean. The pink sea is found In the department of Bolívar is the village of Galerazamba, which is part of the municipality of Santa Catalina. The place has a great history and its salt flats steal the whole show, since they provide the waters forming the intense pink sea, being a natural phenomenon it has a pink hue depending on the season, the season of the pink sea is of December to April. It is currently closed due to the health emergency, that is why we are going to Galerazamba where we will know:\\n- Catalina India\\n- The Ethno-industrial Museum\\n- Viewpoint where you can observe the phenomenon of the pink sea\\n\\nThe Totumo Volcano you can enjoy a different experience, which is medicinal as well as fun!', 'Enjoy an unforgettable day aboard a catamaran. Sail from Cartagena to the Rosario Islands. Snorkel an amazing coral reef and see an underwater kingdom in the crystal clear waters.\\n\\nEnjoy our 3x2 promotion on the excursion to the Rosario Islands this Sunday, November 1 and Monday, November 2.\\nPlease, after purchasing two tickets, contact us and the third passenger can go up for free.\\nHot Sale: Enjoy our 3x2 sale in Rosario Island Excursion this sunday 1st and monday 2nd of november.\\nPlease after buying 2 tickets contact us and we will give you a free ticket for the third passenger.', 'Tierra Bomba Island is a newly develope island crossing Cartagena bay, for years it was a forgotten place with a huge social crissis. For over 5 years The team backing Namasté Club, has been training and working with locals to develope a sustainable solution for the island. When you visit Namasté beach Club, you´ll be host by Locals and you´ll experience a chillout vibe with an international boho style. The palce is stunning and all of it´s cornners are full of lovely boho details, the food is gourmet, healthy and balance. 100% eco friendly, It is part of the experience to walk arround the propperty. Namasté Is one of the two beach clubs of The beach Hotel Cartagena. The view is great, you can feel the permanent contrast between nature and an modern city. PS: You can ask our team to guide on a eco walk. There are some other restaurants in the island,, the proyect is growing an a lot of people discover how beautifull tierrabomba is, still we are the best ;) Yoga class Available.', 'Activity N/A', 'Activity N/A', 'Activity N/A', 'You will be picked up at the hotel for an incredible tour to Santa Marta by bus or air-conditioned van. Upon arriving in Barranquilla, a panoramic tour and a stop for breakfast or snack are made. The route to Santa Marta is followed. Panoramic tour of the old city and visit with entrance to Quinta San Pedro Alejandrino, house where the liberator Simón Bolívar died. Visit to the monument of the best soccer player in the country “El Pibe”.\\n\\nFree time to enjoy the sea in El Rodadero. Typical lunch\\n\\n--- Please provide us with an email ---\\n--- Please provide email ---', 'Activity N/A', 'This tour focus on the culture and history of Palenque. It allows its visitors to feel the village just as a local, interact with them and experience the hospitality of its inhabitants. \\n\\nCome and enjoy the first free village of blacks in the entire Americas! Born in the middle of colonial times from revolution for freedom and hope, this village has become the birthplace of personalities like Box World Champion \"Kid\" Pambelé. \\n\\nCome and meet a local, passionate and knowledgeable guide who will tell you their story and show you what makes this village different from any other. Try local food, sing and dance with locals happy to share its traditions with the world. ', 'Totumo volcano and pink sea natural phenomena in the Colombian Caribbean. The pink sea is found In the department of Bolívar is the village of Galerazamba, which is part of the municipality of Santa Catalina. The place has a great history and its salt flats steal the whole show, since they provide the waters forming the intense pink sea, being a natural phenomenon it has a pink hue depending on the season, the season of the pink sea is of December to April. It is currently closed due to the health emergency, that is why we are going to Galerazamba where we will know:\\n- Catalina India\\n- The Ethno-industrial Museum\\n- Viewpoint where you can observe the phenomenon of the pink sea\\n\\nThe Totumo Volcano you can enjoy a different experience, which is medicinal as well as fun!', 'Enjoy an unforgettable day aboard a catamaran. Sail from Cartagena to the Rosario Islands. Snorkel an amazing coral reef and see an underwater kingdom in the crystal clear waters.\\n\\nEnjoy our 3x2 promotion on the excursion to the Rosario Islands this Sunday, November 1 and Monday, November 2.\\nPlease, after purchasing two tickets, contact us and the third passenger can go up for free.\\nHot Sale: Enjoy our 3x2 sale in Rosario Island Excursion this sunday 1st and monday 2nd of november.\\nPlease after buying 2 tickets contact us and we will give you a free ticket for the third passenger.', 'Activity N/A', 'Sla Baru is one of the most tourist sites. In this Island that belongs to the Department of Bolívar, in Colombia, small towns settle. Isla Baru, is part of the Los Colares del Rosario and San Bernardo National Natural Park, which protects reefs full of marine life, some of which are shallow. The most important thing about this place is its mixture between white sand and turquoise sea water. It has transparent waters, underwater gardens and several conduits that are surrounded by mangroves and corals of multiple colors', 'Enjoy an unforgettable day aboard a catamaran. Sail from Cartagena to the Rosario Islands. Snorkel an amazing coral reef and see an underwater kingdom in the crystal clear waters.\\n\\nEnjoy our 3x2 promotion on the excursion to the Rosario Islands this Sunday, November 1 and Monday, November 2.\\nPlease, after purchasing two tickets, contact us and the third passenger can go up for free.\\nHot Sale: Enjoy our 3x2 sale in Rosario Island Excursion this sunday 1st and monday 2nd of november.\\nPlease after buying 2 tickets contact us and we will give you a free ticket for the third passenger.', \"Exceptional boat Charters and island accommodations to the The Rosario islands, San Bernardo Islands and Colombian Coast.This is a unique personalized boating experience only Emerald Destinations can provide. Every Tour experience is personalized to our clients needs from only a day tour in the Rosario's, to extended stays in the islands and coastal beach accommodations. Our services include optional customized daily meals to preferred water activities. Our focus is the client, and providing unique service to making every moment memorable. As boat owners we provide charters at reasonable pricing and have access to island accommodations not readily accessible to the casual traveler. From ownership to our tour guides and crews, our goal is show you Cartagena and its historical coast, while providing exceptional service. Whether its exploring the Rosario islands or traveling to a private island for rest and relaxation, The Emerald Team is here for our clients.\"]}]\n"
     ]
    }
   ],
   "source": [
    "top_places = get_cities(url_country, url_scraping)\n",
    "bogota = top_places[0]\n",
    "cartagena = top_places[1]\n",
    "cities_list = [bogota, cartagena]\n",
    "r_bogota = requests.get(bogota)\n",
    "s_bogota = BeautifulSoup(r_bogota.text, 'lxml')\n",
    "bogota_activities = get_city_activities_link(bogota, url_scraping)\n",
    "#print(bogota_activities)\n",
    "dir_bogota = {}\n",
    "dir_lists = []\n",
    "title_bogota = s_bogota.find('div', attrs = {'class':'_1l9azAvU'})\n",
    "if title_bogota is not None:\n",
    "    print('Got it')\n",
    "else: \n",
    "    title_bogota = s_bogota.find('div', attrs={'class':'display_center ui_container'})\n",
    "    if title_bogota is not None:\n",
    "        dir_bogota['title'] = title_bogota.h1.text\n",
    "    else:\n",
    "        dir_bogota['title'] = None\n",
    "\n",
    "\n",
    "        \n",
    "#content_overview = get_content_per_activity(bogota_activities)\n",
    "#if content_overview:\n",
    " #   dir_bogota['overviews'] = content_overview\n",
    "#else:\n",
    " #   dir_bogota['overviews'] = None\n",
    "for city in cities_list:  \n",
    "    r_city = requests.get(city)\n",
    "    s_city = BeautifulSoup(r_city.text, 'lxml')\n",
    "    activs = get_city_activities_link(city, url_scraping)\n",
    "    dir_lists.append(content_information(s_city, activs))\n",
    "\n",
    "print(dir_lists)\n",
    "\n",
    "\n"
   ]
  },
  {
   "cell_type": "code",
   "execution_count": null,
   "metadata": {},
   "outputs": [],
   "source": [
    "for i, result in enumerate(dir_lists):\n",
    "    print(i, result)"
   ]
  },
  {
   "cell_type": "code",
   "execution_count": 232,
   "metadata": {},
   "outputs": [],
   "source": [
    "#dir_lists\n",
    "\n",
    "def selec_activities(activ, stg2, stg3, stg4, stg5, stg6, stg_title):\n",
    "    dir_stg = {}\n",
    "    \n",
    "    if activ:\n",
    "        dir_stg['title'] = activ\n",
    "    else:\n",
    "        dir_stg['title'] = None\n",
    "    \n",
    "    if stg4:    \n",
    "        dir_stg['user'] = stg4\n",
    "    else:#/default/get_activities_per_city_location__city__get\n",
    "        dir_stg['user'] = None\n",
    "        \n",
    "    if stg5:    \n",
    "        dir_stg['duration'] = stg5\n",
    "    else:\n",
    "        dir_stg['duration'] = None\n",
    "                \n",
    "    if stg_title:\n",
    "        dir_stg['country'] = stg_title\n",
    "    else:\n",
    "        dir_stg['country'] = None   \n",
    "   \n",
    "                \n",
    "    if stg3:    \n",
    "        dir_stg['description'] = stg3\n",
    "    else:\n",
    "        dir_stg['description'] = None\n",
    "        \n",
    "    if stg6:    \n",
    "        dir_stg['tags'] = stg6\n",
    "    else:\n",
    "        dir_stg['tags'] = None\n",
    "    \n",
    "            \n",
    "    if stg2:    \n",
    "        dir_stg['images'] = stg2\n",
    "    else:\n",
    "        dir_stg['images'] = None\n",
    "    \n",
    "    \n",
    "            \n",
    "    return dir_stg\n",
    "    \n",
    "        \n",
    "def organize_info(result):\n",
    "    stg_title = result['title']\n",
    "    stg1 = result['activities']\n",
    "    stg2 = result['images']\n",
    "    stg3 = result['overviews']\n",
    "    stg4 = result['users']\n",
    "    stg5 = result['duration']\n",
    "    stg6 = result['tags']\n",
    "    \n",
    "    if len(stg5) != len(stg1):\n",
    "        dif_dur = len(stg5)-len(stg1)\n",
    "        for i in range(dif_dur):\n",
    "            stg5.append('N/A')\n",
    "    \n",
    "    if len(stg6) != len(stg1):\n",
    "        dif = len(stg6)-len(stg1)\n",
    "        for i in range(dif):\n",
    "            stg6.append('general')\n",
    "\n",
    "    #f len(stg6) != len(stg1):\n",
    "     #   stg6.append('general')\n",
    "        \n",
    "    lis_activ = []\n",
    "    for j, activ in enumerate(stg1):\n",
    "        print(f'Extracing activity {j}')\n",
    "        print(f'Name: {activ}')\n",
    "        lis_activ.append(selec_activities(activ, stg2[j], stg3[j], stg4[j], stg5[j], stg6[j], stg_title))\n",
    "    \n",
    "    return lis_activ\n",
    "        \n",
    "    \n",
    "    \n",
    "#show_results_per_city = []\n",
    "#for result in dir_lists: #each result belongs to a dictionary of a place: Cartagena, Bogota,etc\n",
    " #   show_results_per_city.append(organize_info(result))\n",
    "        \n",
    "#print(show_results_per_city)\n",
    "                "
   ]
  },
  {
   "cell_type": "code",
   "execution_count": 204,
   "metadata": {
    "collapsed": true
   },
   "outputs": [
    {
     "ename": "SyntaxError",
     "evalue": "invalid syntax (<ipython-input-204-d1500777d876>, line 5)",
     "output_type": "error",
     "traceback": [
      "\u001b[0;36m  File \u001b[0;32m\"<ipython-input-204-d1500777d876>\"\u001b[0;36m, line \u001b[0;32m5\u001b[0m\n\u001b[0;31m    if content.status_code == 200:\u001b[0m\n\u001b[0m                                 ^\u001b[0m\n\u001b[0;31mSyntaxError\u001b[0m\u001b[0;31m:\u001b[0m invalid syntax\n"
     ]
    }
   ],
   "source": [
    "top_places = get_cities(url_country, url_scraping)\n",
    "print(top_places)\n",
    "for link in top_places: #Top places refers to the place: Bucaramanga, Cartagena, etc.\n",
    "    content_places = requests.get(link\n",
    "    if content.status_code == 200:\n",
    "        s_content_places = BeautifulSoup(content_places.text,'lxml')        \n",
    "        activities_per_city_links = get_city_activities_link(link, url_scraping)\n",
    "        "
   ]
  },
  {
   "cell_type": "markdown",
   "metadata": {},
   "source": [
    "### ADDING TAGS"
   ]
  },
  {
   "cell_type": "code",
   "execution_count": null,
   "metadata": {},
   "outputs": [],
   "source": [
    "http://www.tripadvisor.com/Attractions-g150798-Activities-Guadalajara_Guadalajara_Metropolitan_Area.html"
   ]
  },
  {
   "cell_type": "code",
   "execution_count": 201,
   "metadata": {
    "collapsed": true
   },
   "outputs": [
    {
     "name": "stdout",
     "output_type": "stream",
     "text": [
      "['Best ATV Tour, Five Ziplines and Cenote Swim with Lunch and Transport Included ', 'All-Inclusive Chichen Itza, Valladolid with Cenote Swim & Mexican Buffet', 'Jungle Tour Adventure: Speed Boat and Snorkeling in Cancun', 'Museo Maya de Cancun Admission ticket', 'CoCo Bongo Cancun Nightclub with Optional Gold Member Pass', 'Sailing Experience Isla Mujeres Tour', '4-in-1 Cancun Snorkeling Tour: Swim with turtles, reef, statues and shipwreck', 'Cover Mandala Beach (MB)', 'Chichen Itza, Ik Kil Cenote & Valladolid All-Inclusive Tour', '3-in-1 Discovery Combo Tour: Tulum Ruins, Reef Snorkeling Plus Cenote and Caves', 'Isla Mujeres Catamaran Tour', 'Day Trip: Tulum, Coba, Playa Del Carmen and Cenote Swim from Cancun ', 'Tickets to XEL-HÁ park by Xcaret - Basic', 'Go Cancun Explorer Pass', 'Xavage Admission ', 'Private 5x1 Archeological Zone, Cancun City Tour, Puerto Morelos, Cenote & Shop', 'Horseback Riding in Cancun Includes ATV, Cenote, Ziplines, Lunch and Transfer', 'Whale Shark All-Inclusive Tour in Cancun & Riviera Maya', 'ATV Tour with Cenote swim, Ziplines, Transportation and Lunch Included', 'Full-Day Luxurious Catamaran Adventure - Cancún to Isla Mujeres ', 'Cocobongo ', 'Coco Bongo Ticket', 'Entrance to cocobongo cancun', 'CoCo Bongo Cancun Nightclub with Optional Gold Member Pass', 'Visit to Chichen Itza, Ik Kil Cenote and Valladolid with Lunch from Cancun', 'Isla Mujeres All Inclusive Day Trip from Cancun or Riviera Maya', 'All-Inclusive Chichen Itza, Valladolid with Cenote Swim & Mexican Buffet', 'Chichen Itza, Ik Kil Cenote & Valladolid All-Inclusive Tour', 'Isla Mujeres all inclusive Catamaran Sailing From Cancun ', 'Diving in the Mexican Caribbean for Beginners | 2 Tanks 2 Dives | All Inclusive ', 'Go Cancun All-Inclusive Pass']\n",
      "[<span class=\"_21qUqkJx\">Nature &amp; Parks</span>, <span class=\"_21qUqkJx\">Shopping</span>, <span class=\"_21qUqkJx\">Water &amp; Amusement Parks</span>, <span class=\"_21qUqkJx\">Museums</span>, <span class=\"_21qUqkJx\">Sights &amp; Landmarks</span>, <span class=\"_21qUqkJx\">Sights &amp; Landmarks</span>, <span class=\"_21qUqkJx\">Boat Tours &amp; Water Sports</span>, <span class=\"_21qUqkJx\">Water &amp; Amusement Parks</span>, <span class=\"_21qUqkJx\">Sights &amp; Landmarks</span>, <span class=\"_21qUqkJx\">Sights &amp; Landmarks</span>, <span class=\"_21qUqkJx\">Zoos &amp; Aquariums</span>, <span class=\"_21qUqkJx\">Shopping</span>, <span class=\"_21qUqkJx\">Transportation</span>, <span class=\"_21qUqkJx\">Shopping</span>, <span class=\"_21qUqkJx\">Nature &amp; Parks</span>, <span class=\"_21qUqkJx\">Nature &amp; Parks</span>, <span class=\"_21qUqkJx\">Outdoor Activities</span>, <span class=\"_21qUqkJx\">Nature &amp; Parks</span>, <span class=\"_21qUqkJx\">Water &amp; Amusement Parks</span>, <span class=\"_21qUqkJx\">Nature &amp; Parks</span>, <span class=\"_21qUqkJx\">Water &amp; Amusement Parks</span>, <span class=\"_21qUqkJx\">Nature &amp; Parks</span>, <span class=\"_21qUqkJx\">Nature &amp; Parks</span>, <span class=\"_21qUqkJx\">Boat Tours &amp; Water Sports</span>, <span class=\"_21qUqkJx\">Nature &amp; Parks</span>, <span class=\"_21qUqkJx\">Sights &amp; Landmarks</span>, <span class=\"_21qUqkJx\">Nature &amp; Parks</span>, <span class=\"_21qUqkJx\">Shopping</span>, <span class=\"_21qUqkJx\">Sights &amp; Landmarks</span>, <span class=\"_21qUqkJx\">Shopping</span>]\n"
     ]
    }
   ],
   "source": [
    "tags_cancun = s_cancun.find_all('span',attrs={'class':'_21qUqkJx'})\n",
    "activs_cancun = s_cancun.find_all('span', attrs = {'class':'_2e_OvRJN'})\n",
    "activities_list_cancun = [activitie.h3.text for activitie in activs_cancun]\n",
    "print(activities_list_cancun)\n",
    "print(tags_cancun)"
   ]
  },
  {
   "cell_type": "code",
   "execution_count": 243,
   "metadata": {},
   "outputs": [
    {
     "name": "stdout",
     "output_type": "stream",
     "text": [
      "['str1', 'str2', 'N/A', 'N/A']\n"
     ]
    }
   ],
   "source": [
    "len_dur = len(dir_guadalajara_city['duration'])\n",
    "len_activi = len(dir_guadalajara_city['activities'])\n",
    "testing_fnal = ['str1', 'str2']\n",
    "if len_dur != len_activi:\n",
    "    dif = len_activi-len_dur\n",
    "    for i in range(dif):\n",
    "        testing_fnal.append('N/A')\n",
    "\n",
    "print(testing_fnal)\n"
   ]
  },
  {
   "cell_type": "code",
   "execution_count": 245,
   "metadata": {
    "collapsed": true
   },
   "outputs": [
    {
     "data": {
      "text/plain": [
       "{'title': 'Guadalajara',\n",
       " 'activities': ['Full-Day Tequila Tour from Guadalajara',\n",
       "  'Small-Group Premium Crafted Tequila Experience',\n",
       "  'Enjoy the food of Downtown Guadalajara',\n",
       "  'Private Guadalajara City Tour Within Your Budget',\n",
       "  'Guadalajara City Tour',\n",
       "  'Chapala Lake and Ajijic Tour from Guadalajara',\n",
       "  'Best of Tequila and Guachimont Pyramids in One Day!!',\n",
       "  'Guadalajara Street Art Tour ',\n",
       "  'Guadalajara and Tlaquepaque City Sightseeing Tour',\n",
       "  'Jose Cuervo Distillery & Tequila Town Tour from Guadalajara',\n",
       "  'Downtown Guadalajara and Tlaquepaque Tour',\n",
       "  'Guadalajara and Tlaquepaque City Sightseeing Tour',\n",
       "  'Guadalajara and Tlaquepaque City Sightseeing Tour',\n",
       "  'City Tour in Electric Carriage',\n",
       "  'Guadalajara Downtown Private Walking Tour',\n",
       "  'Full-Day Tequila Tour from Guadalajara',\n",
       "  'Downtown Guadalajara and Tlaquepaque Tour',\n",
       "  'Tapalpa Mountains Ecotourism Small-Group Trip from Guadalajara',\n",
       "  'Full-Day Tequila Tour from Guadalajara',\n",
       "  'Small-Group Premium Crafted Tequila Experience',\n",
       "  'Guadalajara PhotoWalk and City Tour',\n",
       "  'Guachimotones Pyramids Day Tour from Guadalajara',\n",
       "  'Colonial Treasures: San Miguel de Allende, Guanajuato, Zacatecas and Guadalajara',\n",
       "  'Full-Day Tequila Tour from Guadalajara',\n",
       "  'Tlaquepaque and Tonala Day Trip from Guadalajara',\n",
       "  'José Cuervo Tequila One Day Experience',\n",
       "  'Full-Day Tequila Tour from Guadalajara',\n",
       "  'Small-Group Premium Crafted Tequila Experience'],\n",
       " 'images': ['http://media-cdn.tripadvisor.com/media/photo-s/1b/28/9d/47/caption.jpg',\n",
       "  'http://media-cdn.tripadvisor.com/media/photo-s/1c/1e/4a/e0/caption.jpg',\n",
       "  'http://media-cdn.tripadvisor.com/media/photo-s/1b/32/80/35/caption.jpg',\n",
       "  'http://media-cdn.tripadvisor.com/media/photo-s/1a/ba/98/14/caption.jpg',\n",
       "  'http://media-cdn.tripadvisor.com/media/photo-s/1a/5d/64/93/caption.jpg',\n",
       "  'http://media-cdn.tripadvisor.com/media/photo-s/1a/64/d3/dd/caption.jpg',\n",
       "  'http://media-cdn.tripadvisor.com/media/photo-s/1a/f9/4e/15/caption.jpg',\n",
       "  'http://media-cdn.tripadvisor.com/media/photo-s/1b/b2/be/b2/caption.jpg',\n",
       "  'http://media-cdn.tripadvisor.com/media/photo-s/1a/64/d3/aa/caption.jpg',\n",
       "  'http://media-cdn.tripadvisor.com/media/photo-s/1a/64/d3/ab/caption.jpg',\n",
       "  'http://media-cdn.tripadvisor.com/media/photo-s/1b/28/9d/50/caption.jpg',\n",
       "  'http://media-cdn.tripadvisor.com/media/photo-s/1a/64/d3/aa/caption.jpg',\n",
       "  'http://media-cdn.tripadvisor.com/media/photo-s/1a/64/d3/aa/caption.jpg',\n",
       "  'http://media-cdn.tripadvisor.com/media/photo-s/1b/42/f6/46/caption.jpg',\n",
       "  'http://media-cdn.tripadvisor.com/media/photo-s/1a/8e/d8/f2/caption.jpg',\n",
       "  'http://media-cdn.tripadvisor.com/media/photo-s/1b/28/9d/47/caption.jpg',\n",
       "  'http://media-cdn.tripadvisor.com/media/photo-s/1b/28/9d/50/caption.jpg',\n",
       "  'http://media-cdn.tripadvisor.com/media/photo-s/1a/b4/ad/62/caption.jpg',\n",
       "  'http://media-cdn.tripadvisor.com/media/photo-s/1b/28/9d/47/caption.jpg',\n",
       "  'http://media-cdn.tripadvisor.com/media/photo-s/1c/1e/4a/e0/caption.jpg',\n",
       "  'http://media-cdn.tripadvisor.com/media/photo-s/1b/d2/d6/31/caption.jpg',\n",
       "  'http://media-cdn.tripadvisor.com/media/photo-s/1a/7f/f2/69/caption.jpg',\n",
       "  'http://media-cdn.tripadvisor.com/media/photo-s/1a/5d/c0/0e/caption.jpg',\n",
       "  'http://media-cdn.tripadvisor.com/media/photo-s/1b/28/9d/47/caption.jpg',\n",
       "  'http://media.tacdn.com/media/attractions-splice-spp-360x240/06/71/b3/07.jpg',\n",
       "  'http://media-cdn.tripadvisor.com/media/photo-s/1a/59/11/29/caption.jpg',\n",
       "  'http://media-cdn.tripadvisor.com/media/photo-s/1b/28/9d/47/caption.jpg',\n",
       "  'http://media-cdn.tripadvisor.com/media/photo-s/1c/1e/4a/e0/caption.jpg'],\n",
       " 'overviews': [\"If you're curious to learn more about tequila, Mexico is truly the best place in the world to experience this distinctive liquor. Enjoy a singular tequila experience with this tasting tour from Guadalajara, where you not only sample this tasty Mexican product, but visit distilleries along the way. Highlights include exploring the village of Tequila, seeing actual agave fields, and satisfying your palate with an included distillery tasting.\",\n",
       "  'Hi! Welcome to the OFFICIAL Tequila Tour from The Agave Experience.\\nMy name is Giancarlo Castañeda a Biologist and almost an Official Maestro Tequilero, from Guadalajara, Jalisco.\\n\\nWhy booking this tour?\\n\\nTequila is my passion, it became my work, my life, and my best friend. I´ve been surrounded by this beautiful drink since I was born, and always wanted to make my own.\\n\\nIf you are looking for a deep understanding of Tequila and Mezcal this experience is for you, my goal is to provide you all the official information in order that you experience and learn the science, the passion, and the art that is behind our national drink in an easy and personalized way. \\n\\nI´m not just a tour guide with four years of experience doing tours, I´m a biologist who has been studying tequila for the last five years and now, making it in a small crafted distillery for the last year.\\n\\nVegetarians and Vegans Welcome\\n\\nCRAFTED TEQUILA\\nVIP ACCESS\\nPREMIUM EXPERIENCE\\nALL INCLUDED\\n',\n",
       "  'Tour with us through the heart of Guadalajara’s historic neighborhoods. As we explore, you will discover amazing facts about the buildings and churches. Enjoy succulent stews and dishes that were created during the colonial period, learn about the local stories and of the secret tunnels that are beneath the city and many more legends.',\n",
       "  \"The walking tour in Guadalajara aims to make you'r experience the most likeable possible in your city, our job is to introduce you to the city with our history, traditions, and local folklore that you can only experience by walking. \\n\\nOur guides will always try the best to put a smile on your face and at the same time teach you about this wonderful city in Mexico! \\n\\nThe best way to get to know the best of Guadalajara with a local and in a budget friendly way and focusing only on you!\\n\\n\",\n",
       "  'Discover the City of Roses, know its attractions accompanied by a professional tourism guide that shows you the traditions, culture, secrets and legends. We will know the Historic Center and other places with neo-Gothic and classical and neoclassical style. Enjoy the beauty of Guadalajara, capital of Jalisco. This experience will convey the history of interesting places, monuments and colonial buildings of great architectural wealth.\\n\\nWe stop at one of the most beautiful churches of the Tapatia Pearl: The Expiatory, where after a review of the history we will know its interior. Have fun in the pariah of the new Magic Town of Tlaquepaque, place of beautiful crafts, galleries and restaurants, buy traditional souvenirs from the region',\n",
       "  'Activity N/A',\n",
       "  \"*Private groups minimum 3 persons. Anyway we only do small groups: bookings from 1 or 2 persons will be set into a 4 persons group.\\n- - -\\nWe are Carlos and Alejandro, brothers and copartners in this tourism project. Carlos is a Certified Guide by the Mexican Secretary of Tourism, an audio engineer and a gifted musician. Alejandro studied Anthropology in the National School of Anthropology and History, in Mexico City, and is about to complete a Master's program in Cultural Philosophy . \\nWe are passionate about Mexican history, art and culture. Therefore we like to share experiences related in the matter. In the last 10 years we have walked different cities around the globe, including rural and indigenous communities in México and Southamerica. \",\n",
       "  'Activity N/A',\n",
       "  'Activity N/A',\n",
       "  'Activity N/A',\n",
       "  'Activity N/A',\n",
       "  'Activity N/A',\n",
       "  'Activity N/A',\n",
       "  'Short of time?\\n\\nMake a general visit to the city in a traditional electric carriage, where you will discover the main and most beautiful sites in downtown Guadalajara!\\n',\n",
       "  'As we walk through the city\\'s historic neighborhoods I\\'ll explain how historic events have shaped the urban and social landscape of the city until today. While interacting with the local community you\\'ll also get to discover the most iconic heritage buildings, public plazas, landmarks and artistic works of the city. By walking it will be possible to appreciate the process of architectonic development of the city in detail, from the Spanish barrios of the 17th century to the modern \"colonias\" established by American and European families in the early 20th century. After our tour you will have first-hand knowledge about the history and culture of Guadalajara and Mexico. As part of the personalized experience, you will receive my recommendations on the best restaurants, attractions and sites to visit during your time in Guadalajara, as well as the most interesting and exciting activities! \\n\\n* This is a private tour, which means, no groups! and we can go at your own pace. ',\n",
       "  \"If you're curious to learn more about tequila, Mexico is truly the best place in the world to experience this distinctive liquor. Enjoy a singular tequila experience with this tasting tour from Guadalajara, where you not only sample this tasty Mexican product, but visit distilleries along the way. Highlights include exploring the village of Tequila, seeing actual agave fields, and satisfying your palate with an included distillery tasting.\",\n",
       "  'Activity N/A',\n",
       "  'Getaway from the hustle and bustle of the city and enjoy a unique full-day, ecotourism, and nature experience hosted by a local expert. Travel from Guadalajara to the highlands of Tapalpa, Jalisco. Immersed in the mountain range of the Sierra Madre Occidental is considered Magic Town for its beautiful architecture, cool weather, local cuisine, and landscapes. It is the ideal place for nature activities like hiking, horseback riding, zip line, paragliding, ATVs, and camping. Great for couples, families, friends, and ecotourism fans. You will be able to appreciate its main attractions and gastronomy (lunch included) like the Tapalpa historic center, the giant stones in \"Las Piedrotas\" and the largest waterfall in the state \"El Salto del Nogal\". This is a small-group personalized, immersive, authentic tour. You shouldn\\'t worry about anything, everything is included. Our local experts will be at your service at all times.',\n",
       "  \"If you're curious to learn more about tequila, Mexico is truly the best place in the world to experience this distinctive liquor. Enjoy a singular tequila experience with this tasting tour from Guadalajara, where you not only sample this tasty Mexican product, but visit distilleries along the way. Highlights include exploring the village of Tequila, seeing actual agave fields, and satisfying your palate with an included distillery tasting.\",\n",
       "  'Hi! Welcome to the OFFICIAL Tequila Tour from The Agave Experience.\\nMy name is Giancarlo Castañeda a Biologist and almost an Official Maestro Tequilero, from Guadalajara, Jalisco.\\n\\nWhy booking this tour?\\n\\nTequila is my passion, it became my work, my life, and my best friend. I´ve been surrounded by this beautiful drink since I was born, and always wanted to make my own.\\n\\nIf you are looking for a deep understanding of Tequila and Mezcal this experience is for you, my goal is to provide you all the official information in order that you experience and learn the science, the passion, and the art that is behind our national drink in an easy and personalized way. \\n\\nI´m not just a tour guide with four years of experience doing tours, I´m a biologist who has been studying tequila for the last five years and now, making it in a small crafted distillery for the last year.\\n\\nVegetarians and Vegans Welcome\\n\\nCRAFTED TEQUILA\\nVIP ACCESS\\nPREMIUM EXPERIENCE\\nALL INCLUDED\\n',\n",
       "  'Activity N/A',\n",
       "  \"*Private groups minimum 3 persons. Anyway we only do small groups: bookings from 1 or 2 persons will be set into a 4 persons group.\\n- - -\\nI am Alejandro, I studied Anthropology at the National School of Anthropology and History, in Mexico City. And I am about to complete a Master's program in Culture Philosophy. I am passionate about Mexican cultures and I have not only studied but also lived and shared with different indigenous communities for differents periods of time, some up to a year (: \\nI enjoy walking around the ancient pyramids while sharing the possible knowledge and technologies they deployed.\",\n",
       "  'Activity N/A',\n",
       "  \"If you're curious to learn more about tequila, Mexico is truly the best place in the world to experience this distinctive liquor. Enjoy a singular tequila experience with this tasting tour from Guadalajara, where you not only sample this tasty Mexican product, but visit distilleries along the way. Highlights include exploring the village of Tequila, seeing actual agave fields, and satisfying your palate with an included distillery tasting.\",\n",
       "  'Activity N/A',\n",
       "  'Visit the most renowned factory in Latin America: \"La Rojeña\" by José Cuervo. Tour the Magical Village of Tequila on a day trip and its majestic agave landscape declared a World Heritage Site by UNESCO.\\n\\nExplore the Magic Town of Tequila, Jalisco. Discover the origin of the national drink par excellence, explore its old distilleries and admire its agave landscape declared a World Heritage Site by UNESCO.\\n\\nExperience the sensation of losing yourself among the blue agave fields, perceive the aroma of cooked agave and taste the taste of tequila in the most representative artisan distilleries of Mexico.',\n",
       "  \"If you're curious to learn more about tequila, Mexico is truly the best place in the world to experience this distinctive liquor. Enjoy a singular tequila experience with this tasting tour from Guadalajara, where you not only sample this tasty Mexican product, but visit distilleries along the way. Highlights include exploring the village of Tequila, seeing actual agave fields, and satisfying your palate with an included distillery tasting.\",\n",
       "  'Hi! Welcome to the OFFICIAL Tequila Tour from The Agave Experience.\\nMy name is Giancarlo Castañeda a Biologist and almost an Official Maestro Tequilero, from Guadalajara, Jalisco.\\n\\nWhy booking this tour?\\n\\nTequila is my passion, it became my work, my life, and my best friend. I´ve been surrounded by this beautiful drink since I was born, and always wanted to make my own.\\n\\nIf you are looking for a deep understanding of Tequila and Mezcal this experience is for you, my goal is to provide you all the official information in order that you experience and learn the science, the passion, and the art that is behind our national drink in an easy and personalized way. \\n\\nI´m not just a tour guide with four years of experience doing tours, I´m a biologist who has been studying tequila for the last five years and now, making it in a small crafted distillery for the last year.\\n\\nVegetarians and Vegans Welcome\\n\\nCRAFTED TEQUILA\\nVIP ACCESS\\nPREMIUM EXPERIENCE\\nALL INCLUDED\\n'],\n",
       " 'users': ['Estacion Turistica Gdl',\n",
       "  'Agave Experience Tequila Tour',\n",
       "  'Pitaya Food Tours',\n",
       "  'Free Tour Guadalajara',\n",
       "  'Panoramex Tours & Travel',\n",
       "  'Amigo Tours Guadalajara',\n",
       "  'AzulCoyote',\n",
       "  'Tour Street Art Gdl',\n",
       "  'Activivity N/A',\n",
       "  'Amigo Tours Guadalajara',\n",
       "  'Estacion Turistica Gdl',\n",
       "  'Amigo Tours Guadalajara',\n",
       "  'Activivity N/A',\n",
       "  'Camina GDL tours',\n",
       "  'Diego Hannon',\n",
       "  'Estacion Turistica Gdl',\n",
       "  'Activivity N/A',\n",
       "  'Jalisco Trip',\n",
       "  'Estacion Turistica Gdl',\n",
       "  'Agave Experience Tequila Tour',\n",
       "  'Activivity N/A',\n",
       "  'AzulCoyote',\n",
       "  'Mexitours Day Tours Mexico City',\n",
       "  'Estacion Turistica Gdl',\n",
       "  'Activivity N/A',\n",
       "  'Panoramex Tours & Travel',\n",
       "  'Estacion Turistica Gdl',\n",
       "  'Agave Experience Tequila Tour'],\n",
       " 'duration': ['Duration: 6–7 hours',\n",
       "  'Duration: 6–9 hours',\n",
       "  'Duration: 3–4 hours',\n",
       "  'Duration: 2h',\n",
       "  'Duration: 6h',\n",
       "  'Duration: 8–10 hours',\n",
       "  'Duration: 1h 30m',\n",
       "  'Activiy N/A',\n",
       "  'Duration: 6h',\n",
       "  'Duration: 5–6 hours',\n",
       "  'Duration: 6h',\n",
       "  'Activiy N/A',\n",
       "  'Duration: 1h',\n",
       "  'Duration: 3–4 hours',\n",
       "  'Duration: 6–7 hours',\n",
       "  'Activiy N/A',\n",
       "  'Duration: 9–10 hours',\n",
       "  'Duration: 6–7 hours',\n",
       "  'Duration: 6–9 hours',\n",
       "  'Activiy N/A',\n",
       "  'Duration: 5–6 hours',\n",
       "  'Duration: 10 days',\n",
       "  'Duration: 6–7 hours',\n",
       "  'Activiy N/A',\n",
       "  'Duration: 6–7 hours',\n",
       "  'Duration: 6–9 hours'],\n",
       " 'tags': ['Wine Tasting & Winery Tours',\n",
       "  '4WD, ATV & Off-Road Tours',\n",
       "  'Food Tours',\n",
       "  'Cultural Tours',\n",
       "  'Bus & Minivan Tours',\n",
       "  'Historical & Heritage Tours',\n",
       "  'Cultural Tours',\n",
       "  'Literary, Art & Music Tours',\n",
       "  'Bus & Minivan Tours',\n",
       "  'Day Trips',\n",
       "  'Cultural Tours',\n",
       "  'Bus & Minivan Tours',\n",
       "  'Bus & Minivan Tours',\n",
       "  'Cultural Tours',\n",
       "  'Cultural Tours',\n",
       "  'Wine Tasting & Winery Tours',\n",
       "  'Cultural Tours',\n",
       "  'Day Trips',\n",
       "  'Wine Tasting & Winery Tours',\n",
       "  '4WD, ATV & Off-Road Tours',\n",
       "  'Cultural Tours',\n",
       "  'Cultural Tours',\n",
       "  'Multi-day Tours',\n",
       "  'Wine Tasting & Winery Tours',\n",
       "  'Day Trips',\n",
       "  'Luxury Tours',\n",
       "  'Wine Tasting & Winery Tours',\n",
       "  '4WD, ATV & Off-Road Tours']}"
      ]
     },
     "execution_count": 245,
     "metadata": {},
     "output_type": "execute_result"
    }
   ],
   "source": [
    "link_guadalajara =\"http://www.tripadvisor.com/Attractions-g150798-Activities-Guadalajara_Guadalajara_Metropolitan_Area.html\"\n",
    "link_mex_city='http://www.tripadvisor.com/Attractions-g150800-Activities-Mexico_City_Central_Mexico_and_Gulf_Coast.html'\n",
    "r_guadalajara = requests.get(link_guadalajara)\n",
    "s_guadalajara = BeautifulSoup(r_guadalajara.text, 'html.parser')\n",
    "r_mex_city = requests.get(link_mex_city)\n",
    "s_mex_city = BeautifulSoup(r_cancun.text, 'html.parser')\n",
    "activs_guadalajara = get_city_activities_link(link_guadalajara, url_scraping)\n",
    "#tags_mex_city = s_mex_city.find_all('span',attrs={'class':'_21qUqkJx'})\n",
    "#activs_mex_city = get_city_activities_link(link_mex_city, url_scraping)\n",
    "#activs_mex_city = s_mex_city.find_all('div', attrs = {'class':'_1lY2qyk3'})\n",
    "#dir_mexico_city = content_information(s_mex_city, activs_mex_city)\n",
    "dir_guadalajara_city = content_information(s_guadalajara, activs_guadalajara)\n",
    "#results_guadalajara = organize_info(dir_guadalajara_city)\n",
    "dir_guadalajara_city\n",
    "#if len(stg5) != len(stg1):\n",
    " #       dif_dur = len(stg5)-len(stg1)\n",
    "#      for i in range(dif_dur):\n",
    "   #         stg5.append('N/A')"
   ]
  },
  {
   "cell_type": "code",
   "execution_count": 230,
   "metadata": {},
   "outputs": [
    {
     "name": "stdout",
     "output_type": "stream",
     "text": [
      "0\n",
      "['general']\n"
     ]
    }
   ],
   "source": [
    "len_act = len(dir_guadalajara_city['activities'])\n",
    "len_dur = len(dir_guadalajara_city['duration'])\n",
    "dif = len_act - len_dur\n",
    "appending = []\n",
    "for i in range(1):\n",
    "    print(i)\n",
    "    appending.append('general')\n",
    "    \n",
    "print(appending)"
   ]
  },
  {
   "cell_type": "code",
   "execution_count": 221,
   "metadata": {},
   "outputs": [
    {
     "data": {
      "text/plain": [
       "31"
      ]
     },
     "execution_count": 221,
     "metadata": {},
     "output_type": "execute_result"
    }
   ],
   "source": [
    "len(dir_mexico_city['duration'])\n"
   ]
  },
  {
   "cell_type": "code",
   "execution_count": 219,
   "metadata": {
    "collapsed": true
   },
   "outputs": [
    {
     "name": "stdout",
     "output_type": "stream",
     "text": [
      "Extracing activity 0\n",
      "Name:  Teotihuacan Morning Tour with an Archeologist and Tequila tasting\n",
      "Extracing activity 1\n",
      "Name: Tickets to Frida Kahlo Museum\n",
      "Extracing activity 2\n",
      "Name: Mexican Food Cooking Class with Food Market Visit\n",
      "Extracing activity 3\n",
      "Name: Historic Downtown Walking Tour\n",
      "Extracing activity 4\n",
      "Name: Hot Air Balloon Tour in Teotihuacan from Mexico City\n",
      "Extracing activity 5\n",
      "Name: Turibus Hop On - Hop Off Mexico City Tour\n",
      "Extracing activity 6\n",
      "Name: Museo del Tequila y el Mezcal Tour and Tasting\n",
      "Extracing activity 7\n",
      "Name: Private Tour: Teotihuacan and Guadalupe Shrine\n",
      "Extracing activity 8\n",
      "Name: Day Trip to Mexico City from Acapulco\n",
      "Extracing activity 9\n",
      "Name: Teotihuacan, Tlatelolco, Guadalupe Shrine and Tequila Tasting Tour \n",
      "Extracing activity 10\n",
      "Name: Teotihuacan + Basilica de Guadalupe + Tlatelolco Tour!\n",
      "Extracing activity 11\n",
      "Name: Teotihuacan, Shrine of Guadalupe & Tlatelolco Day Tour\n",
      "Extracing activity 12\n",
      "Name: City Tour through Mexico City\n",
      "Extracing activity 13\n",
      "Name: Polanco Food Tour in Mexico City\n",
      "Extracing activity 14\n",
      "Name: Small-Group Teotihuacan Pyramids from Mexico City\n",
      "Extracing activity 15\n",
      "Name: Historic Center Food Tour in Mexico City\n",
      "Extracing activity 16\n",
      "Name: Guadalupe Shrine and Teotihuacan Pyramids Tour\n",
      "Extracing activity 17\n",
      "Name:  Teotihuacan Morning Tour with an Archeologist and Tequila tasting\n",
      "Extracing activity 18\n",
      "Name: Teotihuacan, Tlatelolco, Guadalupe Shrine and Tequila Tasting Tour \n",
      "Extracing activity 19\n",
      "Name: Teotihuacan + Basilica de Guadalupe + Tlatelolco Tour!\n",
      "Extracing activity 20\n",
      "Name: Visit to Xochimilco and Coyoacán and CU\n",
      "Extracing activity 21\n",
      "Name: Hot Springs in Tolantongo Full-Day Tour with Typical Lunch\n",
      "Extracing activity 22\n",
      "Name: Tour to San Miguel de Allende from Mexico City with a Concierge Service\n",
      "Extracing activity 23\n",
      "Name: Xochimilco, Coyoacán and Frida Kahlo Museum Tour\n",
      "Extracing activity 24\n",
      "Name: Private experience by Coyoacan with transportation\n",
      "Extracing activity 25\n",
      "Name: Teotihuacan: City of the Gods. The best Private Tour\n",
      "Extracing activity 26\n",
      "Name: XOCHIMILCO & COYOACAN (Private)\n",
      "Extracing activity 27\n",
      "Name: Pyramids of Teotihuacán Private Tour\n",
      "Extracing activity 28\n",
      "Name: Private Mexico City Downtown Walking Tour\n",
      "Extracing activity 29\n",
      "Name: Chapultepec Castle & National Museum of Anthropology with optional Small Group\n",
      "Extracing activity 30\n",
      "Name: Colonia Roma Food Tour\n",
      "Extracing activity 31\n",
      "Name: Lucha Libre Experience and Mezcal Tasting in Mexico City\n"
     ]
    },
    {
     "ename": "IndexError",
     "evalue": "list index out of range",
     "output_type": "error",
     "traceback": [
      "\u001b[0;31m---------------------------------------------------------------------------\u001b[0m",
      "\u001b[0;31mIndexError\u001b[0m                                Traceback (most recent call last)",
      "\u001b[0;32m<ipython-input-219-e7c37b664156>\u001b[0m in \u001b[0;36m<module>\u001b[0;34m\u001b[0m\n\u001b[0;32m----> 1\u001b[0;31m \u001b[0mresults_mexico_city\u001b[0m \u001b[0;34m=\u001b[0m \u001b[0morganize_info\u001b[0m\u001b[0;34m(\u001b[0m\u001b[0mdir_mexico_city\u001b[0m\u001b[0;34m)\u001b[0m\u001b[0;34m\u001b[0m\u001b[0;34m\u001b[0m\u001b[0m\n\u001b[0m\u001b[1;32m      2\u001b[0m \u001b[0mresults_mexico_city\u001b[0m\u001b[0;34m\u001b[0m\u001b[0;34m\u001b[0m\u001b[0m\n",
      "\u001b[0;32m<ipython-input-203-8230ee15cb61>\u001b[0m in \u001b[0;36morganize_info\u001b[0;34m(result)\u001b[0m\n\u001b[1;32m     61\u001b[0m         \u001b[0mprint\u001b[0m\u001b[0;34m(\u001b[0m\u001b[0;34mf'Extracing activity {j}'\u001b[0m\u001b[0;34m)\u001b[0m\u001b[0;34m\u001b[0m\u001b[0;34m\u001b[0m\u001b[0m\n\u001b[1;32m     62\u001b[0m         \u001b[0mprint\u001b[0m\u001b[0;34m(\u001b[0m\u001b[0;34mf'Name: {activ}'\u001b[0m\u001b[0;34m)\u001b[0m\u001b[0;34m\u001b[0m\u001b[0;34m\u001b[0m\u001b[0m\n\u001b[0;32m---> 63\u001b[0;31m         \u001b[0mlis_activ\u001b[0m\u001b[0;34m.\u001b[0m\u001b[0mappend\u001b[0m\u001b[0;34m(\u001b[0m\u001b[0mselec_activities\u001b[0m\u001b[0;34m(\u001b[0m\u001b[0mactiv\u001b[0m\u001b[0;34m,\u001b[0m \u001b[0mstg2\u001b[0m\u001b[0;34m[\u001b[0m\u001b[0mj\u001b[0m\u001b[0;34m]\u001b[0m\u001b[0;34m,\u001b[0m \u001b[0mstg3\u001b[0m\u001b[0;34m[\u001b[0m\u001b[0mj\u001b[0m\u001b[0;34m]\u001b[0m\u001b[0;34m,\u001b[0m \u001b[0mstg4\u001b[0m\u001b[0;34m[\u001b[0m\u001b[0mj\u001b[0m\u001b[0;34m]\u001b[0m\u001b[0;34m,\u001b[0m \u001b[0mstg5\u001b[0m\u001b[0;34m[\u001b[0m\u001b[0mj\u001b[0m\u001b[0;34m]\u001b[0m\u001b[0;34m,\u001b[0m \u001b[0mstg6\u001b[0m\u001b[0;34m[\u001b[0m\u001b[0mj\u001b[0m\u001b[0;34m]\u001b[0m\u001b[0;34m,\u001b[0m \u001b[0mstg_title\u001b[0m\u001b[0;34m)\u001b[0m\u001b[0;34m)\u001b[0m\u001b[0;34m\u001b[0m\u001b[0;34m\u001b[0m\u001b[0m\n\u001b[0m\u001b[1;32m     64\u001b[0m \u001b[0;34m\u001b[0m\u001b[0m\n\u001b[1;32m     65\u001b[0m     \u001b[0;32mreturn\u001b[0m \u001b[0mlis_activ\u001b[0m\u001b[0;34m\u001b[0m\u001b[0;34m\u001b[0m\u001b[0m\n",
      "\u001b[0;31mIndexError\u001b[0m: list index out of range"
     ]
    }
   ],
   "source": [
    "results_mexico_city = organize_info(dir_mexico_city)\n",
    "results_mexico_city"
   ]
  },
  {
   "cell_type": "code",
   "execution_count": 197,
   "metadata": {
    "collapsed": true
   },
   "outputs": [
    {
     "name": "stdout",
     "output_type": "stream",
     "text": [
      "['Best ATV Tour, Five Ziplines and Cenote Swim with Lunch and Transport Included ', 'All-Inclusive Chichen Itza, Valladolid with Cenote Swim & Mexican Buffet', 'Jungle Tour Adventure: Speed Boat and Snorkeling in Cancun', 'Museo Maya de Cancun Admission ticket', 'CoCo Bongo Cancun Nightclub with Optional Gold Member Pass', 'Sailing Experience Isla Mujeres Tour', '4-in-1 Cancun Snorkeling Tour: Swim with turtles, reef, statues and shipwreck', 'Cover Mandala Beach (MB)', 'Chichen Itza, Ik Kil Cenote & Valladolid All-Inclusive Tour', '3-in-1 Discovery Combo Tour: Tulum Ruins, Reef Snorkeling Plus Cenote and Caves', 'Isla Mujeres Catamaran Tour', 'Day Trip: Tulum, Coba, Playa Del Carmen and Cenote Swim from Cancun ', 'Tickets to XEL-HÁ park by Xcaret - Basic', 'Go Cancun Explorer Pass', 'Xavage Admission ', 'Private 5x1 Archeological Zone, Cancun City Tour, Puerto Morelos, Cenote & Shop', 'Horseback Riding in Cancun Includes ATV, Cenote, Ziplines, Lunch and Transfer', 'Whale Shark All-Inclusive Tour in Cancun & Riviera Maya', 'ATV Tour with Cenote swim, Ziplines, Transportation and Lunch Included', 'Full-Day Luxurious Catamaran Adventure - Cancún to Isla Mujeres ', 'Cocobongo ', 'Coco Bongo Ticket', 'Entrance to cocobongo cancun', 'CoCo Bongo Cancun Nightclub with Optional Gold Member Pass', 'Visit to Chichen Itza, Ik Kil Cenote and Valladolid with Lunch from Cancun', 'Isla Mujeres All Inclusive Day Trip from Cancun or Riviera Maya', 'All-Inclusive Chichen Itza, Valladolid with Cenote Swim & Mexican Buffet', 'Chichen Itza, Ik Kil Cenote & Valladolid All-Inclusive Tour', 'Isla Mujeres all inclusive Catamaran Sailing From Cancun ', 'Diving in the Mexican Caribbean for Beginners | 2 Tanks 2 Dives | All Inclusive ', 'Go Cancun All-Inclusive Pass']\n",
      "['Nature & Parks', 'Shopping', 'Water & Amusement Parks', 'Museums', 'Sights & Landmarks', 'Sights & Landmarks', 'Boat Tours & Water Sports', 'Water & Amusement Parks', 'Sights & Landmarks', 'Sights & Landmarks', 'Zoos & Aquariums', 'Shopping', 'Transportation', 'Shopping', 'Nature & Parks', 'Nature & Parks', 'Outdoor Activities', 'Nature & Parks', 'Water & Amusement Parks', 'Nature & Parks', 'Water & Amusement Parks', 'Nature & Parks', 'Nature & Parks', 'Boat Tours & Water Sports', 'Nature & Parks', 'Sights & Landmarks', 'Nature & Parks', 'Shopping', 'Sights & Landmarks', 'Shopping']\n"
     ]
    }
   ],
   "source": [
    "print(dir_cancun['activities'])\n",
    "print(dir_cancun['tags'])"
   ]
  },
  {
   "cell_type": "code",
   "execution_count": 205,
   "metadata": {
    "collapsed": true
   },
   "outputs": [
    {
     "name": "stdout",
     "output_type": "stream",
     "text": [
      "Extracing activity 0\n",
      "Name: Best ATV Tour, Five Ziplines and Cenote Swim with Lunch and Transport Included \n",
      "Extracing activity 1\n",
      "Name: All-Inclusive Chichen Itza, Valladolid with Cenote Swim & Mexican Buffet\n",
      "Extracing activity 2\n",
      "Name: Jungle Tour Adventure: Speed Boat and Snorkeling in Cancun\n",
      "Extracing activity 3\n",
      "Name: Museo Maya de Cancun Admission ticket\n",
      "Extracing activity 4\n",
      "Name: CoCo Bongo Cancun Nightclub with Optional Gold Member Pass\n",
      "Extracing activity 5\n",
      "Name: Sailing Experience Isla Mujeres Tour\n",
      "Extracing activity 6\n",
      "Name: 4-in-1 Cancun Snorkeling Tour: Swim with turtles, reef, statues and shipwreck\n",
      "Extracing activity 7\n",
      "Name: Cover Mandala Beach (MB)\n",
      "Extracing activity 8\n",
      "Name: Chichen Itza, Ik Kil Cenote & Valladolid All-Inclusive Tour\n",
      "Extracing activity 9\n",
      "Name: 3-in-1 Discovery Combo Tour: Tulum Ruins, Reef Snorkeling Plus Cenote and Caves\n",
      "Extracing activity 10\n",
      "Name: Isla Mujeres Catamaran Tour\n",
      "Extracing activity 11\n",
      "Name: Day Trip: Tulum, Coba, Playa Del Carmen and Cenote Swim from Cancun \n",
      "Extracing activity 12\n",
      "Name: Tickets to XEL-HÁ park by Xcaret - Basic\n",
      "Extracing activity 13\n",
      "Name: Go Cancun Explorer Pass\n",
      "Extracing activity 14\n",
      "Name: Xavage Admission \n",
      "Extracing activity 15\n",
      "Name: Private 5x1 Archeological Zone, Cancun City Tour, Puerto Morelos, Cenote & Shop\n",
      "Extracing activity 16\n",
      "Name: Horseback Riding in Cancun Includes ATV, Cenote, Ziplines, Lunch and Transfer\n",
      "Extracing activity 17\n",
      "Name: Whale Shark All-Inclusive Tour in Cancun & Riviera Maya\n",
      "Extracing activity 18\n",
      "Name: ATV Tour with Cenote swim, Ziplines, Transportation and Lunch Included\n",
      "Extracing activity 19\n",
      "Name: Full-Day Luxurious Catamaran Adventure - Cancún to Isla Mujeres \n",
      "Extracing activity 20\n",
      "Name: Cocobongo \n",
      "Extracing activity 21\n",
      "Name: Coco Bongo Ticket\n",
      "Extracing activity 22\n",
      "Name: Entrance to cocobongo cancun\n",
      "Extracing activity 23\n",
      "Name: CoCo Bongo Cancun Nightclub with Optional Gold Member Pass\n",
      "Extracing activity 24\n",
      "Name: Visit to Chichen Itza, Ik Kil Cenote and Valladolid with Lunch from Cancun\n",
      "Extracing activity 25\n",
      "Name: Isla Mujeres All Inclusive Day Trip from Cancun or Riviera Maya\n",
      "Extracing activity 26\n",
      "Name: All-Inclusive Chichen Itza, Valladolid with Cenote Swim & Mexican Buffet\n",
      "Extracing activity 27\n",
      "Name: Chichen Itza, Ik Kil Cenote & Valladolid All-Inclusive Tour\n",
      "Extracing activity 28\n",
      "Name: Isla Mujeres all inclusive Catamaran Sailing From Cancun \n",
      "Extracing activity 29\n",
      "Name: Diving in the Mexican Caribbean for Beginners | 2 Tanks 2 Dives | All Inclusive \n",
      "Extracing activity 30\n",
      "Name: Go Cancun All-Inclusive Pass\n",
      "[{'title': 'Best ATV Tour, Five Ziplines and Cenote Swim with Lunch and Transport Included ', 'user': 'Top Travel Connection Tour Operator', 'duration': 'Duration: 4h', 'country': 'Things to Do in Cancun', 'description': 'Activity N/A', 'tags': 'Nature & Parks', 'images': 'http://media-cdn.tripadvisor.com/media/attractions-splice-spp-360x240/07/6f/4e/f9.jpg'}, {'title': 'All-Inclusive Chichen Itza, Valladolid with Cenote Swim & Mexican Buffet', 'user': 'Amigo Tours', 'duration': 'Duration: 12h', 'country': 'Things to Do in Cancun', 'description': 'Chichen Itza is an ancient Maya city in Mexico that was abandoned in the 15th century.\\xa0Now a UNESCO World Heritage-listed archaeological park,\\xa0its intact temples, and famous stepped pyramids\\xa0may be explored during this\\xa0comprehensive guided tour, which tops off fun-filled history lessons with a visit to the colonial town of Valladolid and a swim in a sacred limestone waterhole.\\xa0A savory buffet lunch is also included.', 'tags': 'Shopping', 'images': 'http://media-cdn.tripadvisor.com/media/attractions-splice-spp-360x240/0b/2f/7d/31.jpg'}, {'title': 'Jungle Tour Adventure: Speed Boat and Snorkeling in Cancun', 'user': 'Jungle Tour Adventure', 'duration': 'Duration: 2h', 'country': 'Things to Do in Cancun', 'description': 'This boat and snorkeling tour from Cancun gives you a 2-for-1 value—take a speedboat ride through Nichupte Lagoon and snorkel in the Punta Nizuc coral reef and underwater museum. Choose to take the driver’s seat or ride shotgun in a 2-seat speedboat as you explore Cancun’s mangrove forest en route to your snorkeling destination, hearing commentary about the ecosystem along the way.', 'tags': 'Water & Amusement Parks', 'images': 'http://media-cdn.tripadvisor.com/media/attractions-splice-spp-360x240/09/dc/fa/05.jpg'}, {'title': 'Museo Maya de Cancun Admission ticket', 'user': 'Cancun Vacation Experts', 'duration': 'Duration: 1–3 hours', 'country': 'Things to Do in Cancun', 'description': 'Activity N/A', 'tags': 'Museums', 'images': 'http://media-cdn.tripadvisor.com/media/attractions-splice-spp-360x240/06/67/ab/74.jpg'}, {'title': 'CoCo Bongo Cancun Nightclub with Optional Gold Member Pass', 'user': 'Amigo Tours', 'duration': 'Duration: 5h', 'country': 'Things to Do in Cancun', 'description': 'Activity N/A', 'tags': 'Sights & Landmarks', 'images': 'http://media-cdn.tripadvisor.com/media/attractions-splice-spp-360x240/06/71/b2/f0.jpg'}, {'title': 'Sailing Experience Isla Mujeres Tour', 'user': 'Cancun Sailing Catamarans', 'duration': 'Duration: 7h', 'country': 'Things to Do in Cancun', 'description': 'Escape the hustle and bustle of Cancun and take to the open seas on a catamaran voyage to Isla Mujeres. Relax as you sail the Caribbean, stopping off at a reef to swim and snorkel, unwinding with lunch at private beach club, and disembarking on Isla Mujeres to explore her streets. Enjoy an open bar and ocean views from the deck. Upgrade to round-trip transport for a hassle-free experience.', 'tags': 'Sights & Landmarks', 'images': 'http://media-cdn.tripadvisor.com/media/attractions-splice-spp-360x240/0a/ec/90/32.jpg'}, {'title': '4-in-1 Cancun Snorkeling Tour: Swim with turtles, reef, statues and shipwreck', 'user': 'Total Snorkel', 'duration': 'Duration: 3h 30m', 'country': 'Things to Do in Cancun', 'description': 'Discover four of the Yucatan’s top underwater sights in just one morning during a snorkeling tour that’s designed with anxious swimmers and first-time snorkelers in mind. A guide is on hand to ensure you feel comfortable at all times, while hassle-free hotel pickup and drop-off mean that you don’t have to worry about finding a meeting point.', 'tags': 'Boat Tours & Water Sports', 'images': 'http://media-cdn.tripadvisor.com/media/attractions-splice-spp-360x240/07/01/36/d1.jpg'}, {'title': 'Cover Mandala Beach (MB)', 'user': 'IGOFLY', 'duration': 'Duration: 4–6 hours', 'country': 'Things to Do in Cancun', 'description': 'The best parties and atmosphere await you at this amazing beach club in Cancun. The best Caribbean snacks and beach cocktails\\nSometimes live music with seasonal DJs.', 'tags': 'Water & Amusement Parks', 'images': 'http://media-cdn.tripadvisor.com/media/attractions-splice-spp-360x240/0a/69/64/e2.jpg'}, {'title': 'Chichen Itza, Ik Kil Cenote & Valladolid All-Inclusive Tour', 'user': 'Sat Mexico Tours Cancun & Riviera Maya', 'duration': 'Duration: 12h', 'country': 'Things to Do in Cancun', 'description': 'Dive into Yucatan’s cultural heritage on this full-day tour from Cancún or the Riviera Maya, calling at Chichén Itzá (admission not included), the Ik Kil cenote, and Valladolid. Benefit from the historical knowledge of your guide as you explore the Maya ruins and colonial city, then cool off with a swim in the cenote’s fresh waters. Avoid hidden costs with transfers and a buffet lunch included in the price.', 'tags': 'Sights & Landmarks', 'images': 'http://media-cdn.tripadvisor.com/media/attractions-splice-spp-360x240/09/11/34/49.jpg'}, {'title': '3-in-1 Discovery Combo Tour: Tulum Ruins, Reef Snorkeling Plus Cenote and Caves', 'user': 'Ocean Tours', 'duration': 'Duration: 7h', 'country': 'Things to Do in Cancun', 'description': 'See the best of Yucatan in just one day on an action-packed tour from Cancun, the perfect choice for travelers with limited time. Experience the different cultural facets of Mexico as you explore the archaeological site of Tulum, snorkel in the Caribbean Sea, and hike jungle trails that lead to limestone caves. Convenient and cost-effective, this tour eliminates the hassle of organizing each activity separately, and includes all entrance fees, a buffet lunch, and hotel pickup and drop-off.', 'tags': 'Sights & Landmarks', 'images': 'http://media-cdn.tripadvisor.com/media/attractions-splice-spp-360x240/07/b0/f1/9c.jpg'}, {'title': 'Isla Mujeres Catamaran Tour', 'user': 'Amigo Tours', 'duration': 'Duration: 7h', 'country': 'Things to Do in Cancun', 'description': 'Explore the Mexican island of Isla Mujeres in the Caribbean Sea on this all-day tour from Cancun. Hop aboard a catamaran and stop at a protected coral reef, where you’re able to snorkel, before relaxing on the white-sand beaches of Isla Mujeres. A lunch buffet with an open bar is included.', 'tags': 'Zoos & Aquariums', 'images': 'http://media-cdn.tripadvisor.com/media/attractions-splice-spp-360x240/06/6c/40/d5.jpg'}, {'title': 'Day Trip: Tulum, Coba, Playa Del Carmen and Cenote Swim from Cancun ', 'user': 'Kbron travel', 'duration': 'Duration: 11h', 'country': 'Things to Do in Cancun', 'description': \"Visit two of the most important Maya archaeological sites on this full-day tour: Coba and Tulum. Admire the backdrop of the Caribbean Sea while exploring the temples and pyramids of Tulum with a certified guide, then head to Coba to climb to the top of Nohoch Muul—the tallest pyramid on the Yucatán Peninsula. In the afternoon, take a swim in a 'cenote' (underground cave), sit down for a traditional Mexican lunch, and explore the city of Playa del Carmen. Round-trip transport is included.\\n\", 'tags': 'Shopping', 'images': 'http://media-cdn.tripadvisor.com/media/attractions-splice-spp-360x240/07/2a/3b/61.jpg'}, {'title': 'Tickets to XEL-HÁ park by Xcaret - Basic', 'user': 'Coyoacan Tours', 'duration': 'Duration: 4–14 hours', 'country': 'Things to Do in Cancun', 'description': 'Avoid purchase and access lines\\nImmediate reservation\\nDigitized access\\n\\nHel-Ha \"place where water is born\", this park is a great integral proposal for adventure, family and nature. Enjoy the beautiful views from its lighthouse and the slide descent, as well as exquisite food and excellent company', 'tags': 'Transportation', 'images': 'http://media-cdn.tripadvisor.com/media/attractions-splice-spp-360x240/0a/dd/13/e5.jpg'}, {'title': 'Go Cancun Explorer Pass', 'user': 'Go Cancun', 'duration': 'Duration: 60 days', 'country': 'Things to Do in Cancun', 'description': 'Activity N/A', 'tags': 'Shopping', 'images': 'http://media-cdn.tripadvisor.com/media/attractions-splice-spp-360x240/0b/18/e9/f3.jpg'}, {'title': 'Xavage Admission ', 'user': 'Xavage Park by Xcaret', 'duration': 'Duration: 6h', 'country': 'Things to Do in Cancun', 'description': 'Activity N/A', 'tags': 'Nature & Parks', 'images': 'http://media-cdn.tripadvisor.com/media/attractions-splice-spp-360x240/09/53/28/bd.jpg'}, {'title': 'Private 5x1 Archeological Zone, Cancun City Tour, Puerto Morelos, Cenote & Shop', 'user': 'Cancun City Tour', 'duration': 'Duration: 6h', 'country': 'Things to Do in Cancun', 'description': 'Activity N/A', 'tags': 'Nature & Parks', 'images': 'http://media-cdn.tripadvisor.com/media/attractions-splice-spp-360x240/0a/af/3e/47.jpg'}, {'title': 'Horseback Riding in Cancun Includes ATV, Cenote, Ziplines, Lunch and Transfer', 'user': 'Holbox and Bacalar Tour', 'duration': 'Duration: 7h', 'country': 'Things to Do in Cancun', 'description': \"This is a mandatory activity for all tourists who arrive in Cancun and Riviera Maya. This activity takes place in the middle of the jungle, there is no such thing as this in all of Mexico. This tour includes 4 activities (horseback riding, driving an ATV in the jungle, flying on zip lines and swimming in a true Mayan cenote), there is no other activity that offers you so much in the destination. Don't wait any longer to experience a unique and exciting activity. We have all the safety and health standards that are needed to offer a safe and fun activity, the activity has a duration of 5.5 hours plus 1.5 hours of transfer for what will be 7 hours, as you will realize, it is an activity that It helps you live a unique experience that does not take away valuable time from your vacation, you can take advantage of the first schedule to return early to your hotel. The tour includes freshwater all the time and a lunch that is chicken fajitas.\", 'tags': 'Outdoor Activities', 'images': 'http://media-cdn.tripadvisor.com/media/attractions-splice-spp-360x240/07/ba/d6/5f.jpg'}, {'title': 'Whale Shark All-Inclusive Tour in Cancun & Riviera Maya', 'user': 'Ocean Tours', 'duration': 'Duration: 5h', 'country': 'Things to Do in Cancun', 'description': 'Enjoy an intimate encounter with whale sharks you can’t experience everywhere in the Caribbean waters off the coast of Cancún, as you swim and snorkel beside these gentle giants in the company of a professional guide and photographer. Ideal for animal lovers who want to see marine creatures in their natural habitat, look out for manta rays, turtles, and dolphins too.', 'tags': 'Nature & Parks', 'images': 'http://media-cdn.tripadvisor.com/media/attractions-splice-spp-360x240/06/6c/40/ec.jpg'}, {'title': 'ATV Tour with Cenote swim, Ziplines, Transportation and Lunch Included', 'user': 'Holbox and Bacalar Tour', 'duration': 'Duration: 6h', 'country': 'Things to Do in Cancun', 'description': 'Activity N/A', 'tags': 'Water & Amusement Parks', 'images': 'http://media-cdn.tripadvisor.com/media/attractions-splice-spp-360x240/07/6e/3d/cb.jpg'}, {'title': 'Full-Day Luxurious Catamaran Adventure - Cancún to Isla Mujeres ', 'user': 'Diamond Bright Catamaran', 'duration': 'Duration: 6–7 hours', 'country': 'Things to Do in Cancun', 'description': 'Activity N/A', 'tags': 'Nature & Parks', 'images': 'http://media-cdn.tripadvisor.com/media/attractions-splice-spp-360x240/0b/24/39/e3.jpg'}, {'title': 'Cocobongo ', 'user': 'ALEMAN TRAVEL AGENCY', 'duration': 'Duration: 8h', 'country': 'Things to Do in Cancun', 'description': 'Activity N/A', 'tags': 'Water & Amusement Parks', 'images': 'http://media-cdn.tripadvisor.com/media/attractions-splice-spp-360x240/09/e4/6c/01.jpg'}, {'title': 'Coco Bongo Ticket', 'user': 'IGOFLY', 'duration': 'Duration: 4–6 hours', 'country': 'Things to Do in Cancun', 'description': 'Our clients will have attention at all times, they will be accommodated as best as possible so that they can enjoy the show.\\n\\nThey will be given the best availability to quickly enter the nightclub.', 'tags': 'Nature & Parks', 'images': 'http://media-cdn.tripadvisor.com/media/attractions-splice-spp-360x240/0b/35/70/a3.jpg'}, {'title': 'Entrance to cocobongo cancun', 'user': 'OPEN BAR MEXICO', 'duration': 'Duration: 5h', 'country': 'Things to Do in Cancun', 'description': 'The best party in the Caribbean. The best music and the best show with the best dancers. A perfect organization.', 'tags': 'Nature & Parks', 'images': 'http://media-cdn.tripadvisor.com/media/attractions-splice-spp-360x240/0a/0b/f6/44.jpg'}, {'title': 'CoCo Bongo Cancun Nightclub with Optional Gold Member Pass', 'user': 'Amigo Tours', 'duration': 'Duration: 5h', 'country': 'Things to Do in Cancun', 'description': 'Activity N/A', 'tags': 'Boat Tours & Water Sports', 'images': 'http://media-cdn.tripadvisor.com/media/attractions-splice-spp-360x240/06/71/b2/f0.jpg'}, {'title': 'Visit to Chichen Itza, Ik Kil Cenote and Valladolid with Lunch from Cancun', 'user': 'OlMar Travel Mexico', 'duration': 'Duration: 12h', 'country': 'Things to Do in Cancun', 'description': 'Visit Chichen Itza and Valladolid on a full-day tour from Cancun that includes a swim stop at Cenote Ik Kil. Visiting these destinations is a great way to explore ancient Maya ruins, nature, and a traditional Yucatan city. Stroll past towering pyramids, check out Maya sculptures, swim in an underground river, walk colonial-era streets, and participate in a Temazcal ritual led by a real shaman. Round-trip transport from Cancun hotels is included.', 'tags': 'Nature & Parks', 'images': 'http://media-cdn.tripadvisor.com/media/attractions-splice-spp-360x240/06/88/c8/03.jpg'}, {'title': 'Isla Mujeres All Inclusive Day Trip from Cancun or Riviera Maya', 'user': 'Cancun Whale Shark Tours', 'duration': 'Duration: 7h', 'country': 'Things to Do in Cancun', 'description': \"Cruise from Cancun to Isla Mujeres for an all-inclusive day of snorkeling, swimming, and beach time that's a great way to relax without worrying about booking meals or bringing cash. Visit a series of great snorkeling spots, head to shore for a Maya-style barbecue lunch with unlimited drinks, and then dance on deck of a modern, double-decker sailboat as you\\xa0journey back to Cancun.\", 'tags': 'Sights & Landmarks', 'images': 'http://media-cdn.tripadvisor.com/media/attractions-splice-spp-360x240/06/74/10/f4.jpg'}, {'title': 'All-Inclusive Chichen Itza, Valladolid with Cenote Swim & Mexican Buffet', 'user': 'Amigo Tours', 'duration': 'Duration: 12h', 'country': 'Things to Do in Cancun', 'description': 'Chichen Itza is an ancient Maya city in Mexico that was abandoned in the 15th century.\\xa0Now a UNESCO World Heritage-listed archaeological park,\\xa0its intact temples, and famous stepped pyramids\\xa0may be explored during this\\xa0comprehensive guided tour, which tops off fun-filled history lessons with a visit to the colonial town of Valladolid and a swim in a sacred limestone waterhole.\\xa0A savory buffet lunch is also included.', 'tags': 'Nature & Parks', 'images': 'http://media-cdn.tripadvisor.com/media/attractions-splice-spp-360x240/0b/2f/7d/31.jpg'}, {'title': 'Chichen Itza, Ik Kil Cenote & Valladolid All-Inclusive Tour', 'user': 'Sat Mexico Tours Cancun & Riviera Maya', 'duration': 'Duration: 12h', 'country': 'Things to Do in Cancun', 'description': 'Dive into Yucatan’s cultural heritage on this full-day tour from Cancún or the Riviera Maya, calling at Chichén Itzá (admission not included), the Ik Kil cenote, and Valladolid. Benefit from the historical knowledge of your guide as you explore the Maya ruins and colonial city, then cool off with a swim in the cenote’s fresh waters. Avoid hidden costs with transfers and a buffet lunch included in the price.', 'tags': 'Shopping', 'images': 'http://media-cdn.tripadvisor.com/media/attractions-splice-spp-360x240/09/11/34/49.jpg'}, {'title': 'Isla Mujeres all inclusive Catamaran Sailing From Cancun ', 'user': 'YAMEVI TRAVEL', 'duration': 'Duration: 8h', 'country': 'Things to Do in Cancun', 'description': 'Don’t stress about the logistics of visiting Isla Mujeres; instead, explore with ease, during this hassle-free sailing cruise excursion which lets you see more in one day than you could independently. Perfect for travelers with limited time, benefit from an open bar, plus time to snorkel at MUSA, a visit to a vast coral reef, and free time on the island.', 'tags': 'Sights & Landmarks', 'images': 'http://media-cdn.tripadvisor.com/media/attractions-splice-spp-360x240/06/e7/7e/b9.jpg'}, {'title': 'Diving in the Mexican Caribbean for Beginners | 2 Tanks 2 Dives | All Inclusive ', 'user': 'Go Diving Cancun', 'duration': 'Duration: 6h', 'country': 'Things to Do in Cancun', 'description': 'We will do 2 dives!!!\\n\\nFirst place will be the marina where the theoretical and practical class will be given in a pool.\\n\\nLater we will go to the two dives in the reef zone called \"Manchones\", it is a unique place, even mentined by Jacques Cousteau.\\n\\nThere we will explore the underwater sculptures of the MUSA or underwater museum and later the coral reefs.\\n\\nI will show you unique marine life that at first sight seems to be hidde.', 'tags': 'Shopping', 'images': 'http://media-cdn.tripadvisor.com/media/attractions-splice-spp-360x240/07/a6/5d/d2.jpg'}, {'title': 'Go Cancun All-Inclusive Pass', 'user': 'Go Cancun', 'duration': 'Duration: 7 days', 'country': 'Things to Do in Cancun', 'description': 'Activity N/A', 'tags': 'general', 'images': 'http://media-cdn.tripadvisor.com/media/attractions-splice-spp-360x240/0b/18/ea/96.jpg'}]\n"
     ]
    }
   ],
   "source": [
    "#cities_list\n",
    "bogota_link = cities_list[0]\n",
    "cancun_link = 'https://www.tripadvisor.com/Attractions-g150807-Activities-Cancun_Yucatan_Peninsula.html'\n",
    "r_cancun = requests.get(cancun_link)\n",
    "s_cancun = BeautifulSoup(r_cancun.text, 'html.parser')\n",
    "cancun_activities = get_city_activities_link(cancun_link, url_scraping)\n",
    "dir_cancun = content_information(s_cancun, cancun_activities)\n",
    "results_cancun = organize_info(dir_cancun)\n",
    "print(results_cancun)\n",
    "#print(bogota_link)\n",
    "#print(bogota)\n",
    "#tags_bogota = s_bogota.find_all('span',attrs={'class':'_21qUqkJx'})\n",
    "#for tags in tags_bogota:\n",
    " #   print(tags.text)\n",
    "\n"
   ]
  },
  {
   "cell_type": "code",
   "execution_count": 55,
   "metadata": {
    "collapsed": true
   },
   "outputs": [
    {
     "data": {
      "text/plain": [
       "['http://www.tripadvisor.com/AttractionProductReview-g294074-d13181486-La_Candelaria_Optional_Monserrate_Optional_Gold_Museum_Bogota_City_Tour_5_7H-Bogot.html',\n",
       " 'http://www.tripadvisor.com/AttractionProductReview-g294074-d12350216-Bogota_Bike_Tour-Bogota.html',\n",
       " 'http://www.tripadvisor.com/AttractionProductReview-g294074-d15633269-Divercity_Bogota_Admission_Ticket-Bogota.html',\n",
       " 'http://www.tripadvisor.com/AttractionProductReview-g294074-d16910969-The_Bogota_food_experience-Bogota.html',\n",
       " 'http://www.tripadvisor.com/AttractionProductReview-g294074-d17445692-Cruise_Bogota_gay_district-Bogota.html',\n",
       " 'http://www.tripadvisor.com/AttractionProductReview-g294074-d17588221-Graffiti_Tour_in_La_Candelaria_Bogota-Bogota.html',\n",
       " 'http://www.tripadvisor.com/AttractionProductReview-g294074-d17826050-Cloud_Forest_and_Waterfall_Hike-Bogota.html',\n",
       " 'http://www.tripadvisor.com/AttractionProductReview-g294074-d21274444-Dancing_vacation_tour-Bogota.html',\n",
       " None,\n",
       " 'http://www.tripadvisor.com/AttractionProductReview-g294074-d13933838-Botero_Museum_Admission_Ticket_and_Private_Guided_Tour-Bogota.html',\n",
       " 'http://www.tripadvisor.com/AttractionProductReview-g294074-d13933839-Skip_the_Line_Gold_Museum_Museo_del_Oro_Ticket_and_Private_Guided_Tour-Bogota.html',\n",
       " 'http://www.tripadvisor.com/AttractionProductReview-g294074-d17403991-Mystic_Wellness_Spa_and_Wellness_Day_at_the_Salt_Cathedral-Bogota.html',\n",
       " None,\n",
       " 'http://www.tripadvisor.com/AttractionProductReview-g294074-d17699620-Tour_to_the_Salt_Mines_in_Nemocon_and_Andres_Carne_De_Res_Private_Tour-Bogota.html',\n",
       " 'http://www.tripadvisor.com/AttractionProductReview-g294074-d17719209-D_Fiesta_For_Bogota_Enjoy_the_night_knowing_the_rumba_in_Bogota-Bogota.html',\n",
       " 'http://www.tripadvisor.com/AttractionProductReview-g294074-d17554556-Party_Bus_to_gringo_tuesday_zona_rosa-Bogota.html',\n",
       " None,\n",
       " 'http://www.tripadvisor.com/AttractionProductReview-g294074-d18271543-Hike_to_the_highest_colombian_fall_la_chorrera_and_chiflon-Bogota.html',\n",
       " 'http://www.tripadvisor.com/AttractionProductReview-g294074-d14042031-Private_half_day_tour_to_Nemocon_Salt_Cathedral_and_village-Bogota.html',\n",
       " 'http://www.tripadvisor.com/AttractionProductReview-g294074-d18973471-Private_Hummingbird_Watching_Tour-Bogota.html',\n",
       " None,\n",
       " 'http://www.tripadvisor.com/AttractionProductReview-g294074-d11468438-Salt_Cathedral_Zipaquira_Group_tour_and_daily_departure-Bogota.html',\n",
       " 'http://www.tripadvisor.com/AttractionProductReview-g294074-d12987172-Shared_Walking_Tour_in_La_Candelaria_Bogota-Bogota.html',\n",
       " 'http://www.tripadvisor.com/AttractionProductReview-g294074-d15526746-Bogota_Private_6_hours_City_Tour_Tickets_Coffee_Break-Bogota.html',\n",
       " None,\n",
       " 'http://www.tripadvisor.com/AttractionProductReview-g294074-d19253252-Bogota_Monserrate_and_Zipaquira_Salt_Cathedral-Bogota.html',\n",
       " 'http://www.tripadvisor.com/AttractionProductReview-g294074-d17306293-Zipaquira_Salt_Cathedral_Group_Tour_with_Departure-Bogota.html',\n",
       " 'http://www.tripadvisor.com/AttractionProductReview-g294074-d20107793-City_Tour_Hidden_Bogota-Bogota.html',\n",
       " None,\n",
       " 'http://www.tripadvisor.com/AttractionProductReview-g294074-d17745020-Private_Bogota_City_Tour_In_Out_Transfer_9_hours-Bogota.html',\n",
       " 'http://www.tripadvisor.com/AttractionProductReview-g294074-d17681613-Guatavita_Lagoon_Private_Tour-Bogota.html',\n",
       " 'http://www.tripadvisor.com/AttractionProductReview-g294074-d17681615-Zipaquira_Salt_Cathedral_Private_Tour-Bogota.html']"
      ]
     },
     "execution_count": 55,
     "metadata": {},
     "output_type": "execute_result"
    }
   ],
   "source": [
    "bogota_activities"
   ]
  },
  {
   "cell_type": "code",
   "execution_count": 58,
   "metadata": {
    "collapsed": true
   },
   "outputs": [
    {
     "name": "stdout",
     "output_type": "stream",
     "text": [
      "['Gran Colombia Tours', 'Bogota Bike Tours', 'Activity N/A', 'The True Colombian Experience', 'Juan Benitez', 'Gran Colombia Tours', 'Andes EcoTours', 'Son Rumbero', 'Activity N/A', 'Museo de Arte del Banco de la Republica', 'Museo de Arte del Banco de la Republica', 'Green Trails', 'Activity N/A', 'Transfers & Tours', 'Odretours', 'The True Colombian Experience', 'Activity N/A', 'The True Colombian Experience', 'Medellin City Services', 'Hansa Tours', 'Activity N/A', 'Bogota Pass', 'Gran Colombia Tours', 'Bogota Henry Tours', 'Activity N/A', 'Cesar Augusto Cruz Perlaza', 'Bogota City Bus', 'Paraíso Travels', 'Activity N/A', 'Bogotown Tours', 'Green Trails', 'Green Trails']\n"
     ]
    }
   ],
   "source": [
    "\n",
    "activities_user = []\n",
    "for activity in bogota_activities:\n",
    "    if activity is not None:\n",
    "        r_activity = requests.get(activity)\n",
    "        if r_activity.status_code == 200:\n",
    "            r_activity_soup = BeautifulSoup(r_activity.text,'html.parser')\n",
    "            activity_user =  r_activity_soup.find('span', attrs={'class':'_3nwb933a'})\n",
    "            if activity_user:\n",
    "                activities_user.append(activity_user.text)\n",
    "            else:\n",
    "                activities_user.append('Activity N/A')\n",
    "    else:\n",
    "        activities_user.append('Activity N/A')\n",
    "                \n",
    "print(activities_user)\n",
    "    \n",
    "#users_content = s_bogota.find('')\n",
    "\n",
    "#content_information(s_bogota, bogota_activities)\n",
    "\n"
   ]
  },
  {
   "cell_type": "code",
   "execution_count": 111,
   "metadata": {},
   "outputs": [
    {
     "data": {
      "text/plain": [
       "'http://www.tripadvisor.com'"
      ]
     },
     "execution_count": 111,
     "metadata": {},
     "output_type": "execute_result"
    }
   ],
   "source": [
    "url_scraping"
   ]
  },
  {
   "cell_type": "code",
   "execution_count": 152,
   "metadata": {
    "collapsed": true
   },
   "outputs": [
    {
     "name": "stdout",
     "output_type": "stream",
     "text": [
      "Duration: 5–6 hours\n",
      "0\n",
      "aca si esta\n"
     ]
    }
   ],
   "source": [
    "import re\n",
    "dur = bogota_activities[0]\n",
    "mede = 'http://www.tripadvisor.com/AttractionProductReview-g297478-d21197688-Museo_Pablo_Escobar-Medellin_Antioquia_Department.html'\n",
    "\n",
    "r_dur = requests.get(mede)\n",
    "s_dur = BeautifulSoup(r_dur.text, 'lxml')\n",
    "durations=  r_activity_soup.find_all('li', attrs={'class':'_2PwpULJT'})\n",
    "#finding = durations.find(\"Duration\")\n",
    "#type(durations)\n",
    "#print(finding)\n",
    "#finding = re.findall('Duration', durations)\n",
    "#print(durations)\n",
    "#print(finding)\n",
    "\n",
    "#duration =  s_dur.find('div', attrs={'class':'_3qTEiGfC'}).text.replace('Duration','')\n",
    "for duration in durations:\n",
    "    duration_analyze = duration.text\n",
    "    print(duration_analyze)\n",
    "    print(duration_analyze.find('Duration'))\n",
    "    if duration_analyze.find('Duration') != -1:\n",
    "        print('aca si esta')\n",
    "        break\n",
    "    else:\n",
    "        print('acá no esta')\n",
    "\n",
    "\n",
    "\n"
   ]
  },
  {
   "cell_type": "code",
   "execution_count": 122,
   "metadata": {
    "collapsed": true
   },
   "outputs": [
    {
     "name": "stdout",
     "output_type": "stream",
     "text": [
      "(['Gain a comprehensive overview of Colombia’s capital on this private tour that combines museum visits, cultural workshops, and city sightseeing all in one convenient package. Benefit from your guide’s personalized insights as you explore top landmarks including Monserrate and Bolivar Square, then get a more intimate glimpse of Colombia’s economy and culture. Tastings, tickets, and round-trip transfers are included in the price.\\nYou’are be able to choose between a 7-hour tour including Monserrate, Gold Museum and Botero Museum, or a 5-hour tour which includes only Monserrate or museums.', 'Energetic Bogotá has grabbed global headlines as a bike-friendly city, but finding the best routes can be a challenge for first-time visitors. Grab a bike to explore the city with a guide to lead the way, pedaling through La Candelaria, Plaza de Toros, and neighborhoods with colorful street art. Break up the mostly-flat route with stops at a fresh fruit market and a coffee factory.', 'Activity N/A', 'we visit 7 places where we try food from 7 diferent Regions of Colombia and also we have the oportunity of to cook our own empanadas.\\n\\nThe perfect way to get in touch with the culture, history and the flavours of Colombia. It’s a very natural way to be together with the native people and interact with them; at the market and the local house for example. We get to know more about Colombian cuisine because bogota is a capital where all the Colombian people do live; so you really get the opportunity of to try traditional Colombian food from all around Colombian just in one city. Perfect for to know colombia in one afternoon. By the true Colombian food.\\n\\nthis experience is friendly with vegetarian people.\\n\\n', \"Colombia is one of the most advanced countries in latin america in reference to legal protection and equal rights for the LGBTQ community. Then is not surprising to find in Bogota hundreds (right, hundreds) of places for gay entertainment (from mild to wild).\\nTogether, I'll help you to locate around 30 places! Telling you tips about them. When we finish and you decide the one that suits you best, I'm taking you back to it so you can have a blast!\\nThis experience is packed with stories about the neighborhood, security tips and descriptions about the places we are going to spot.\\nI know most of them because of my previous work at a gay rights related foundation.\\nWith this information you can choose the place that suits you to have fun with the locals\\nWhere to go? What to do? Where is safe? What NOT to do?\\nI can reply those and a lot more questions on our way.\\nWe’ll start sharing stories about lourdes square. Then a couple of blocks ahead we’ll discover the colombian equivalent of the ABS, after that we’ll see a gay hotel nearby, later we’ll spot a few bars, a BH and we’ll finish at the largest gay disco in the world.\", 'Bogotá has become a world reference in graffiti. It boasts impressive murals and street art that place it above cities like Miami, Amsterdam, Río, and México City. Its rise as one of the key city-canvases in Latin America has made it an attractive destination for the curious tourist and the bold artist. Would you have guessed?\\n\\nAs with graffiti everywhere else, Bogotá’s history with the art has often been tense. But great art can overcome negative labels. Right now, no one would call it vandalism. It has struggled but has earned its place and the city is better for it. The mixture of social and political commentary with a twist of local and foreign styles make Bogotá’s graffiti truly a sight to behold.\\n\\nJoin us in this tour not only of Colombia’s history as told by art but a tour of Bogotá as a curated museum of amazing artists!\\n\\n', 'Journey with us through green and lush mountain trails as we discover a land filled with waterfalls, biodiversity and a rich local farming culture. Make your way up these high mountains while looking out for orchids deep within the Andean forest. Learn about the use of medicinal native plants and try out fresh milk at the end of this interpretative hike. Located about 45 minutes from Bogotá, Aguadulce is a rural village in Choachí that sits at 3100 m.a.s.l. within a lush Andean cloud forest. Note: This tour does not visit overcrowded La Chorrera. ', 'A pleasant experience that teaches you to dance the Latin rhythms you want and then dance hard in the best locations in the cities we visit. Dance lesson, beach, pool, city tour, nigth tour on bar or dicoteque, social dance, and more.', 'Activity N/A', 'Activity N/A', 'Activity N/A', 'Immerse yourself in the depths of the Salt Cathedral of Zipaquirá and live an exclusive experience of well-being and relaxation 180 meters underground in the Esensal Spa, a unique wonder in Colombia', 'Activity N/A', 'Enjoy your afternoon and evening visiting two of the most famous places in Colombia. Discover the architectural profile of the Nemocon Salt Mine, one of the underground wonders where salt is produced at 196 feet (60 m) below the surface of the earth. Later we leave to feel the rhythm of Colombian music in Andrés Carne de Res in Chía, eating and enjoying dishes of the typical Colombian cuisine and shaking your body to the rhythm of the music.', 'Your reservation is final and is guaranteed if it is for at least two (2) people.\\nWe do it for small groups and in vans of maximum 10 passengers.\\nThis allows you to make better use of your time, park everywhere and make the experience more enjoyable.\\nWe take a panoramic tour of the main neighborhoods and places of the rumba of Bogotá such as: Mirador de La Calera, Zona Rosa, Zona T, Parque de la 93.\\nIn each sector, passengers will be able to get off the transport to visit discos, bars and interact with other visitors.', 'This is a special and unique tour as part of the fun is on the bus but the most important thing is to arrive at the gringo event on Tuesday.\\n\\nthis event is every Tuesday and it is in the pink zone.\\n\\nThe disco has 3 floors and about 4 different environments.\\n\\nthe rumba begins with a trip in the bus of about 30 minutes taking the cuba libres and then you will arrive at the disco where you can enjoy one of the best parties in Bogota. its international party; and what make it special is the only big party on a Tuesday.', 'Activity N/A', 'we going to get deep in La Chorrera, Colombia´s highest waterfall, is closer than you have ever imagined. we also pass by a paramo in our way and stop for to take some pictures and enjoy the paramos de cruz verde; the idea is to know more about the native life and nature and also to walk around a high andian forest; A 590m wall of water will be in front of your eyes in a 1.5hs trekking tour where you can enjoy the Andean jungle. Take a refreshing shower with thousands of drops coming from the sky. the energetic land for to clean our souls. Come and see the colorful birds hidden at the top of the trees and breathe pure nature in this spectacular landscape. And if you love cheese, well this is the place for you to try a new one, produced by local farmers.', 'Take a private tour to visit Colombia´s salt capital any day of the week with bilingual private guide. Nemocon and its colonial heritage will captivate your senses as you walk around phenomenal architectural sceneries meeting friendly locals baking tasty treats. But just wait until you get to the salt mine, where you will be able to learn the salt production process employed since pre-hispanic ages as you explore around 1,600 meters of tunnels and chambers with particular light effects that will most probably amaze you.', \"Visit the biggest and most stunning hummingbird sanctuary, learn about them, about colombia's biodiversity and spend up to three hours by the hand of your private tour guide, who will let you know everything you need to know about these incredible animals. \", 'Activity N/A', 'Explore the Zipaquirá Salt Cathedral on this half-day Zipaquirá tour from Bogota. There are no rental car worries as transportation to and from your hotel is provided. Visit the salt mines and learn about their significance to Colombia, plus witness the salt collection process. Then, discover the Zipaquirá Salt Cathedral, carved into the walls of an abandoned mine.', 'Get a more intimate glimpse into the historic neighborhood of La Candelaria on a walking tour that offers a great introduction for travelers visiting Bogota for the first time. As well as offering the inside scoop on Bogota’s rich culture and history, this tour includes tastings of coffee, chicha, and fresh fruits.', 'Bogota will surprise you! It is a cosmopolitan, bustling, modern and colonial city at the same time, which houses 8.5 million cheerful, kind, friendly, sociable and fun inhabitants. From the sector of large avenues and modern shopping centers in the north of the city to the colonial Bogota in La Candelaria, at the south center, it is a box of surprises!\\xa0\\n\\nThere is a lot to see in Bogotá: Make sure you have all the time you need to make a pleasant trip, that allows you to appreciate what the city looks like, what it tastes like, what it smells like, what everyday life is like ... ', 'Activity N/A', \"If you have just one day in Bogota or you want to save time during your trip, my tour is the best option because you are able to know the most important highlights; Mount Monserrate; beautiful church in a mountain and Zipaquira Salt Cathedral; the first natural wonder in Colombia, also every thing is included such as food (breakfast and snacks), entrance ticket to the attractions, pick up and drop off in whatever place, bilingual tour guide (English and Spanish) comfortable car with air conditioning. You just pay once and you will enjoy whole day in my city Bogota and my country Colombia. Besides, at night you may take a dinner in Andres Carne de Res, the most famous restaurant in Colombia with different kind of dishes for every taste (Food is not included inside this restaurant). Book my tour and I'll be for you, I'll help you out in your vacations and whatever thing you need during your journey.\", \"If you want to have an interesting and magical experience, being in this place will be wonderful. It is considered the First Wonder in Colombia because its structure is made all with Salt. Have you been in a building entirely made of salt before? Here you will be in one, and besides to how wonderful it is to feel the power of nature and the legacy of Latin American architecture, you will have the opportunity to feel a spiritual experience. Regardless of your religion, here you can connect with the greater forces of the nature and, if it is your style, you will ask yourself questions about the world's great mysteries. If you really want to enjoy and tell a lifetime experience, this is your place!\\n\", 'Visit the hidden face of Bogotá, transit through its cobbled streets in history, go through mysterious passages and you will know another facet yet to be discovered from this huge capital city.', 'Activity N/A', \"With this private personalized tour you will visit Bogota's historical district. Our specialized guides will teach you about Colombian culture. You will visit Monserrate and the most important museums of Colombia. We will also visit Usaquen a beautiful neighborhood in the wealthy northern part of the city. We will be your best friend in the city. \", 'Relive the fascinating history about how the Spanish conquerors, obsessed with gold and inspired by the histories told by the indigenous people, would bring to America a multitude of mercenaries and adventurous people seeking for infinite wealth. ', 'Explore the man-made wonder created by salt miners as a prove of devotion, in a private daytrip to Zipaquirá, next to a local expert, to understand the relevance of the Salt for the people & cultures who have been inhabiting the city since pre-Columbian times.'], ['Gran Colombia Tours', 'Bogota Bike Tours', 'Activity N/A', 'The True Colombian Experience', 'Juan Benitez', 'Gran Colombia Tours', 'Andes EcoTours', 'Son Rumbero', 'Activivity N/A', 'Museo de Arte del Banco de la Republica', 'Museo de Arte del Banco de la Republica', 'Green Trails', 'Activivity N/A', 'Transfers & Tours', 'Odretours', 'The True Colombian Experience', 'Activivity N/A', 'The True Colombian Experience', 'Medellin City Services', 'Hansa Tours', 'Activivity N/A', 'Bogota Pass', 'Gran Colombia Tours', 'Bogota Henry Tours', 'Activivity N/A', 'Cesar Augusto Cruz Perlaza', 'Bogota City Bus', 'Paraíso Travels', 'Activivity N/A', 'Bogotown Tours', 'Green Trails', 'Green Trails'], ['5–7 hours', 'Departure PointCra. 3 #12-72, Bogotá, Colombia', '4–8 hours', 'Departure PointThe Cranky Croc Hostel, Cl. 12d #346, Bogotá, Colombia', 'Departure PointNuestra Señora de Lourdes, Cra. 13 #63-27, Bogotá, Colombia', '3h', 'Departure PointMovistar Arena, Dg. 61c #26-36, Bogotá, Cundinamarca, Colombia', '4 days', 'Activiy N/A', 'Departure PointMuseo Botero, Cl. 11 #4-41, Bogotá, Colombia', '1h', '8h', 'Activiy N/A', '6h', '4h', 'Departure PointThe Cranky Croc Hostel, Cl. 12d #346, Bogotá, Colombia', 'Activiy N/A', 'Departure PointRecetas de la Abuela, Cl. 12c ### 1-40, Bogotá, Cundinamarca, Colombia\\n\\nThe Cranky Croc Hostel, Cl. 12d #346, Bogotá, Colombia', '5h', '3–5 hours', 'Activiy N/A', 'Departure PointJuan Valdez Café, Cra. 7 ## 139-07, Bogotá, Cundinamarca, Colombia\\n\\nCarrera 11a, Cra. 11a, Bogotá, Colombia', 'Departure PointPlazoleta Chorro de Quevedo, Cl. 12b #22 2-98, Bogotá, Colombia', '6h', 'Activiy N/A', '12h', 'Departure PointCl. 16 #4-3, Bogotá, Colombia\\n\\nCra. 11a #93a-10, Bogotá, Colombia', '9h', 'Activiy N/A', '6–8 hours', '6–7 hours', '5–6 hours'])\n"
     ]
    }
   ],
   "source": [
    "test_duration = get_content_per_activity(bogota_activities)\n",
    "print(test_duration)"
   ]
  },
  {
   "cell_type": "markdown",
   "metadata": {},
   "source": [
    "# FINAL TESTING"
   ]
  },
  {
   "cell_type": "markdown",
   "metadata": {},
   "source": [
    "## TOP ACTIVITIES PER TAG - COLOMBIA"
   ]
  },
  {
   "cell_type": "code",
   "execution_count": 287,
   "metadata": {
    "collapsed": true
   },
   "outputs": [
    {
     "name": "stdout",
     "output_type": "stream",
     "text": [
      "[<img alt=\"Tripadvisor\" class=\"_1AlVlFFs\" src=\"https://static.tacdn.com/img2/brand_refresh/Tripadvisor_lockup_horizontal_secondary_registered.svg\"/>, <img alt=\"Bogota\" data-url=\"https://media-cdn.tripadvisor.com/media/photo-t/01/08/3a/c2/twilight-view-over-bogota.jpg 50w,https://media-cdn.tripadvisor.com/media/photo-l/01/08/3a/c2/twilight-view-over-bogota.jpg 150w,https://media-cdn.tripadvisor.com/media/photo-f/01/08/3a/c2/twilight-view-over-bogota.jpg 250w,https://media-cdn.tripadvisor.com/media/photo-c/320x120/01/08/3a/c2/twilight-view-over-bogota.jpg 320w,https://media-cdn.tripadvisor.com/media/photo-s/01/08/3a/c2/twilight-view-over-bogota.jpg 550w,https://media-cdn.tripadvisor.com/media/photo-c/768x250/01/08/3a/c2/twilight-view-over-bogota.jpg 768w,https://media-cdn.tripadvisor.com/media/photo-c/1024x250/01/08/3a/c2/twilight-view-over-bogota.jpg 1024w,https://media-cdn.tripadvisor.com/media/photo-c/1280x250/01/08/3a/c2/twilight-view-over-bogota.jpg 1280w,https://media-cdn.tripadvisor.com/media/photo-o/01/08/3a/c2/twilight-view-over-bogota.jpg 1600w,https://media-cdn.tripadvisor.com/media/photo-c/2560x500/01/08/3a/c2/twilight-view-over-bogota.jpg 2560w\"/>, <img alt=\"Cartagena\" data-url=\"https://media-cdn.tripadvisor.com/media/photo-t/15/33/fc/e6/cartagena.jpg 50w,https://media-cdn.tripadvisor.com/media/photo-l/15/33/fc/e6/cartagena.jpg 150w,https://media-cdn.tripadvisor.com/media/photo-i/15/33/fc/e6/cartagena.jpg 180w,https://media-cdn.tripadvisor.com/media/photo-f/15/33/fc/e6/cartagena.jpg 250w,https://media-cdn.tripadvisor.com/media/photo-s/15/33/fc/e6/cartagena.jpg 550w,https://media-cdn.tripadvisor.com/media/photo-w/15/33/fc/e6/cartagena.jpg 1024w,https://media-cdn.tripadvisor.com/media/photo-m/1280/15/33/fc/e6/cartagena.jpg 1280w\"/>, <img alt=\"Medellin\" data-url=\"https://media-cdn.tripadvisor.com/media/photo-t/07/64/fa/aa/rio-claro-valley.jpg 50w,https://media-cdn.tripadvisor.com/media/photo-l/07/64/fa/aa/rio-claro-valley.jpg 150w,https://media-cdn.tripadvisor.com/media/photo-f/07/64/fa/aa/rio-claro-valley.jpg 250w,https://media-cdn.tripadvisor.com/media/photo-s/07/64/fa/aa/rio-claro-valley.jpg 550w,https://media-cdn.tripadvisor.com/media/photo-w/07/64/fa/aa/rio-claro-valley.jpg 1024w,https://media-cdn.tripadvisor.com/media/photo-o/07/64/fa/aa/rio-claro-valley.jpg 2000w\"/>, <img alt=\"Santa Marta\" data-url=\"https://media-cdn.tripadvisor.com/media/photo-t/15/4d/45/b0/santa-marta.jpg 50w,https://media-cdn.tripadvisor.com/media/photo-l/15/4d/45/b0/santa-marta.jpg 150w,https://media-cdn.tripadvisor.com/media/photo-i/15/4d/45/b0/santa-marta.jpg 180w,https://media-cdn.tripadvisor.com/media/photo-f/15/4d/45/b0/santa-marta.jpg 250w,https://media-cdn.tripadvisor.com/media/photo-s/15/4d/45/b0/santa-marta.jpg 550w,https://media-cdn.tripadvisor.com/media/photo-w/15/4d/45/b0/santa-marta.jpg 1024w,https://media-cdn.tripadvisor.com/media/photo-m/1280/15/4d/45/b0/santa-marta.jpg 1280w\"/>, <img alt=\"Cali\" data-url=\"https://media-cdn.tripadvisor.com/media/photo-t/15/4d/45/ae/cali.jpg 50w,https://media-cdn.tripadvisor.com/media/photo-l/15/4d/45/ae/cali.jpg 150w,https://media-cdn.tripadvisor.com/media/photo-i/15/4d/45/ae/cali.jpg 180w,https://media-cdn.tripadvisor.com/media/photo-f/15/4d/45/ae/cali.jpg 250w,https://media-cdn.tripadvisor.com/media/photo-s/15/4d/45/ae/cali.jpg 550w,https://media-cdn.tripadvisor.com/media/photo-w/15/4d/45/ae/cali.jpg 1024w,https://media-cdn.tripadvisor.com/media/photo-m/1280/15/4d/45/ae/cali.jpg 1280w\"/>, <img alt=\"Barranquilla\" data-url=\"https://media-cdn.tripadvisor.com/media/photo-t/09/a2/58/15/plaza-san-nicolas.jpg 50w,https://media-cdn.tripadvisor.com/media/photo-l/09/a2/58/15/plaza-san-nicolas.jpg 150w,https://media-cdn.tripadvisor.com/media/photo-f/09/a2/58/15/plaza-san-nicolas.jpg 250w,https://media-cdn.tripadvisor.com/media/photo-c/320x120/09/a2/58/15/plaza-san-nicolas.jpg 320w,https://media-cdn.tripadvisor.com/media/photo-s/09/a2/58/15/plaza-san-nicolas.jpg 550w,https://media-cdn.tripadvisor.com/media/photo-c/768x250/09/a2/58/15/plaza-san-nicolas.jpg 768w,https://media-cdn.tripadvisor.com/media/photo-w/09/a2/58/15/plaza-san-nicolas.jpg 1024w,https://media-cdn.tripadvisor.com/media/photo-c/1024x250/09/a2/58/15/plaza-san-nicolas.jpg 1024w,https://media-cdn.tripadvisor.com/media/photo-o/09/a2/58/15/plaza-san-nicolas.jpg 1145w,https://media-cdn.tripadvisor.com/media/photo-c/1280x250/09/a2/58/15/plaza-san-nicolas.jpg 1280w,https://media-cdn.tripadvisor.com/media/photo-c/2560x500/09/a2/58/15/plaza-san-nicolas.jpg 2560w\"/>, <img alt=\"Villa de Leyva\" data-url=\"https://media-cdn.tripadvisor.com/media/photo-t/11/bd/8c/2c/img-20180110-122921010.jpg 50w,https://media-cdn.tripadvisor.com/media/photo-l/11/bd/8c/2c/img-20180110-122921010.jpg 150w,https://media-cdn.tripadvisor.com/media/photo-i/11/bd/8c/2c/img-20180110-122921010.jpg 180w,https://media-cdn.tripadvisor.com/media/photo-f/11/bd/8c/2c/img-20180110-122921010.jpg 250w,https://media-cdn.tripadvisor.com/media/photo-s/11/bd/8c/2c/img-20180110-122921010.jpg 550w,https://media-cdn.tripadvisor.com/media/photo-w/11/bd/8c/2c/img-20180110-122921010.jpg 1024w,https://media-cdn.tripadvisor.com/media/photo-o/11/bd/8c/2c/img-20180110-122921010.jpg 2328w\"/>, <img alt=\"Bucaramanga\" data-url=\"https://media-cdn.tripadvisor.com/media/photo-t/0d/a1/5b/a3/vista-al-parque-acuatico.jpg 50w,https://media-cdn.tripadvisor.com/media/photo-l/0d/a1/5b/a3/vista-al-parque-acuatico.jpg 150w,https://media-cdn.tripadvisor.com/media/photo-i/0d/a1/5b/a3/vista-al-parque-acuatico.jpg 180w,https://media-cdn.tripadvisor.com/media/photo-f/0d/a1/5b/a3/vista-al-parque-acuatico.jpg 250w,https://media-cdn.tripadvisor.com/media/photo-c/320x120/0d/a1/5b/a3/vista-al-parque-acuatico.jpg 320w,https://media-cdn.tripadvisor.com/media/photo-s/0d/a1/5b/a3/vista-al-parque-acuatico.jpg 550w,https://media-cdn.tripadvisor.com/media/photo-c/768x250/0d/a1/5b/a3/vista-al-parque-acuatico.jpg 768w,https://media-cdn.tripadvisor.com/media/photo-w/0d/a1/5b/a3/vista-al-parque-acuatico.jpg 1024w,https://media-cdn.tripadvisor.com/media/photo-c/1024x250/0d/a1/5b/a3/vista-al-parque-acuatico.jpg 1024w,https://media-cdn.tripadvisor.com/media/photo-c/1280x250/0d/a1/5b/a3/vista-al-parque-acuatico.jpg 1280w,https://media-cdn.tripadvisor.com/media/photo-o/0d/a1/5b/a3/vista-al-parque-acuatico.jpg 2000w,https://media-cdn.tripadvisor.com/media/photo-c/2560x500/0d/a1/5b/a3/vista-al-parque-acuatico.jpg 2560w\"/>, <img alt=\"\" class=\"_3f5P2JG2\" src=\"https://static.tacdn.com/img2/brand_refresh/Tripadvisor_logoset_solid_green.svg\"/>]\n"
     ]
    }
   ],
   "source": [
    "url_colombia = 'http://www.tripadvisor.com/Attractions-g294073-Activities-Colombia.html'\n",
    "r_colom = requests.get(url_colombia)\n",
    "s_colom = BeautifulSoup(r_colom.text, 'lxml')\n",
    "\n",
    "#general content per activity\n",
    "activities_top_content = s_colom.find_all('div', attrs = {'class':'_1fqdhjoD'})\n",
    "\n",
    "\n",
    "#title\n",
    "title_per_activity = activities_top_content[0].find('h3').text\n",
    "#print(first)\n",
    "\n",
    "#tags\n",
    "tags_per_activity = activities_top_content[1].find('span', attrs={'class':'_21qUqkJx'}).text\n",
    "\n",
    "#images\n",
    "imgs_list = s_colom.find_all('img')\n",
    "print(imgs_list)\n",
    "\n",
    "\n",
    "#for activiy in activities_title:\n",
    "    \n",
    "#print(activities_title)\n",
    "                \n",
    "        #if activities is not None:\n",
    "        \n",
    "\n",
    "def content_top_atract(soup, list):\n",
    "    pass\n"
   ]
  },
  {
   "cell_type": "markdown",
   "metadata": {},
   "source": [
    "### GET TOP ACTIVITIES LINK"
   ]
  },
  {
   "cell_type": "code",
   "execution_count": 293,
   "metadata": {},
   "outputs": [
    {
     "name": "stdout",
     "output_type": "stream",
     "text": [
      "['http://www.tripadvisor.com/Attraction_Review-g294074-d532210-Reviews-Gold_Museum_Museo_del_Oro-Bogota.html', 'http://www.tripadvisor.com/Attraction_Review-g297476-d555214-Reviews-Walled_City_of_Cartagena-Cartagena_Cartagena_District_Bolivar_Department.html', 'http://www.tripadvisor.com/Attraction_Review-g297478-d2203325-Reviews-Medellin_Metrocable-Medellin_Antioquia_Department.html', 'http://www.tripadvisor.com/Attraction_Review-g294074-d552767-Reviews-Mount_Monserrate-Bogota.html', 'http://www.tripadvisor.com/Attraction_Review-g297475-d1117013-Reviews-Zoologico_de_Cali-Cali_Valle_del_Cauca_Department.html', 'http://www.tripadvisor.com/Attraction_Review-g297484-d315403-Reviews-Ciudad_Perdida-Santa_Marta_Santa_Marta_Municipality_Magdalena_Department.html', 'http://www.tripadvisor.com/Attraction_Review-g297473-d12785540-Reviews-Gran_Malecon_Puerta_de_Oro-Barranquilla_Atlantico_Department.html', 'http://www.tripadvisor.com/Attraction_Review-g297482-d1024602-Reviews-Johnny_Cay-San_Andres_Island_San_Andres_and_Providencia_Department.html', 'http://www.tripadvisor.com/Attraction_Review-g676524-d3432743-Reviews-Casa_Terracota-Villa_de_Leyva_Boyaca_Department.html', 'http://www.tripadvisor.com/Attraction_Review-g294074-d532215-Reviews-Museo_Botero_del_Banco_de_la_Republica-Bogota.html', 'http://www.tripadvisor.com/Attraction_Review-g297482-d10365864-Reviews-Cayo_El_Acuario-San_Andres_Island_San_Andres_and_Providencia_Department.html', 'http://www.tripadvisor.com/Attraction_Review-g297474-d677228-Reviews-Parque_Nacional_de_Chicamocha-Bucaramanga_Santander_Department.html', 'http://www.tripadvisor.com/Attraction_Review-g297479-d5796484-Reviews-Nevado_Santa_Isabel-Pereira_Risaralda_Department.html', 'http://www.tripadvisor.com/Attraction_Review-g652402-d1929737-Reviews-Nevado_del_Ruiz-Manizales_Caldas_Department.html', 'http://www.tripadvisor.com/Attraction_Review-g297478-d3776131-Reviews-Laguna_de_Guatape-Medellin_Antioquia_Department.html', 'http://www.tripadvisor.com/Attraction_Review-g297484-d4437448-Reviews-Cristal_Beach-Santa_Marta_Santa_Marta_Municipality_Magdalena_Department.html', 'http://www.tripadvisor.com/Attraction_Review-g297477-d4091452-Reviews-Combeima_Canyon-Ibague_Tolima_Department.html', 'http://www.tripadvisor.com/Attraction_Review-g297474-d3952314-Reviews-Panachi-Bucaramanga_Santander_Department.html', 'http://www.tripadvisor.com/Attraction_Review-g3493965-d3228746-Reviews-La_Piscinita-San_Andres_San_Andres_Island_San_Andres_and_Providencia_Department.html', 'http://www.tripadvisor.com/Attraction_Review-g1507145-d9822717-Reviews-Aviario_Nacional_de_Colombia-Isla_Baru_Cartagena_District_Bolivar_Department.html', 'http://www.tripadvisor.com/Attraction_Review-g676523-d10731045-Reviews-Primavera_Urbana-Villavicencio_Meta_Department.html', 'http://www.tripadvisor.com/Attraction_Review-g1580963-d10393528-Reviews-Valle_del_Cocora-Salento_Quindio_Department.html', 'http://www.tripadvisor.com/Attraction_Review-g1580963-d1674150-Reviews-Bosques_de_Cocora-Salento_Quindio_Department.html', 'http://www.tripadvisor.com/Attraction_Review-g1087551-d596218-Reviews-Piedra_Del_Penol-Guatape_Antioquia_Department.html', 'http://www.tripadvisor.com/Attraction_Review-g297478-d12144209-Reviews-Museum_Pablo_Escobar-Medellin_Antioquia_Department.html', 'http://www.tripadvisor.com/Attraction_Review-g671591-d7179298-Reviews-Playa_Juan_de_Dios-Buenaventura_Valle_del_Cauca_Department.html', 'http://www.tripadvisor.com/Attraction_Review-g3493965-d7099731-Reviews-Playa_de_San_Luis-San_Andres_San_Andres_Island_San_Andres_and_Providencia_Depart.html', 'http://www.tripadvisor.com/Attraction_Review-g319823-d7742637-Reviews-Museo_del_Oro_Quimbaya-Armenia_Quindio_Department.html', 'http://www.tripadvisor.com/Attraction_Review-g297475-d2513557-Reviews-Cristo_Rey-Cali_Valle_del_Cauca_Department.html', 'http://www.tripadvisor.com/Attraction_Review-g317037-d8066130-Reviews-Isla_de_Los_Micos-Leticia_Amazonas_Department.html']\n"
     ]
    }
   ],
   "source": [
    "def get_top_activities_link(url_country, url_scraping):\n",
    "    r_url_country = requests.get(url_country)\n",
    "    if r_url_country.status_code == 200:\n",
    "        s_country =  BeautifulSoup(r_url_country.text, 'lxml')\n",
    "        #print(s_city)\n",
    "        final_links_top =[]\n",
    "        activities_top_country = s_country.find_all('a', attrs={'class':'_3s_5RiH-'})\n",
    "        \n",
    "        if len(activities_top_country) != 0:\n",
    "            links_activities_top = [(url_scraping+activity.get('href')) for activity in activities_top_country]\n",
    "            #print(links_activities_top)\n",
    "            final_links_top.extend(links_activities_top)\n",
    "            #print(final_links_top)\n",
    "            #  final_links.extend(links_activities_explore)\n",
    "        #else:\n",
    "            #activities_city_explore = s_city.find_all('div', attrs={'class':'_999WBlyA'})\n",
    "            #if activities_city_explore:\n",
    "             #   for activity in activities_city_explore:\n",
    "                 #      links_activities_explore = activity.find('a').get('href')\n",
    "                #     if links_activities_explore:\n",
    "                #        final_links.append(url_scraping + links_activities_explore)\n",
    "                 #   else:\n",
    "                #       final_links.append(None)\n",
    "            \n",
    "    return final_links_top #return activities links\n",
    "\n",
    "get_top_activities_link(url_colombia, url_scraping)"
   ]
  },
  {
   "cell_type": "code",
   "execution_count": 184,
   "metadata": {
    "collapsed": true
   },
   "outputs": [
    {
     "name": "stdout",
     "output_type": "stream",
     "text": [
      "Extracing activity 0\n",
      "Name: La Candelaria + Optional Monserrate + Optional Gold Museum Bogotá City Tour 5-7H\n",
      "Extracing activity 1\n",
      "Name: Bogotá Bike Tour\n",
      "Extracing activity 2\n",
      "Name: Divercity Bogotá Admission Ticket\n",
      "Extracing activity 3\n",
      "Name: The Bogotá food experience \n",
      "Extracing activity 4\n",
      "Name: Cruise Bogota gay district\n",
      "Extracing activity 5\n",
      "Name: Graffiti Tour in La Candelaria Bogotá\n",
      "Extracing activity 6\n",
      "Name: Cloud Forest and Waterfall Hike\n",
      "Extracing activity 7\n",
      "Name: Dancing vacation tour\n",
      "Extracing activity 8\n",
      "Name: Private Salt Cathedral and Nemocón Salt Mines + In & out Transfer + (8 hours)\n",
      "Extracing activity 9\n",
      "Name: Botero Museum Admission Ticket and Private Guided Tour\n",
      "Extracing activity 10\n",
      "Name: Skip the Line: Gold Museum (Museo del Oro) Ticket and Private Guided Tour\n",
      "Extracing activity 11\n",
      "Name: Mystic Wellness • Spa and Wellness Day at the Salt Cathedral\n",
      "Extracing activity 12\n",
      "Name: Rent a local friend in Bogota\n",
      "Extracing activity 13\n",
      "Name: Tour to the Salt Mines in Nemocon and Andrés Carne De Res (Private Tour)\n",
      "Extracing activity 14\n",
      "Name: D 'Fiesta For Bogotá. Enjoy the night knowing the rumba in Bogotá\n",
      "Extracing activity 15\n",
      "Name: Party Bus to gringo tuesday (zona rosa)\n",
      "Extracing activity 16\n",
      "Name: Private tour to the Salt Mine of Nemocón and Salt Cathedral of Zipaquirá\n",
      "Extracing activity 17\n",
      "Name: Private half day tour to Nemocon Salt Cathedral and village\n",
      "Extracing activity 18\n",
      "Name: Private Hummingbird Watching Tour \n",
      "Extracing activity 19\n",
      "Name: Salt Cathedral Zipaquira - Group tour and daily departure\n",
      "Extracing activity 20\n",
      "Name: Trail Running the Andes mountains. 20km.\n",
      "Extracing activity 21\n",
      "Name: Salt Cathedral Zipaquira - Group tour and daily departure\n",
      "Extracing activity 22\n",
      "Name: Shared Walking Tour in La Candelaria Bogotá\n",
      "Extracing activity 23\n",
      "Name: Bogota Private 6 hours City Tour, Tickets, Coffee Break\n",
      "Extracing activity 24\n",
      "Name: Bogota City Tour • Fruits & Coffee Tasting, Tejo Game, Local Lunch, Monserrate\n",
      "Extracing activity 25\n",
      "Name: Bogota Monserrate and Zipaquira Salt Cathedral\n",
      "Extracing activity 26\n",
      "Name: Zipaquira Salt Cathedral Group Tour with Departure\n",
      "Extracing activity 27\n",
      "Name: City Tour: Hidden Bogotá\n",
      "\n",
      "Extracing activity 28\n",
      "Name: Private Tour to the Nature Waterfall of La Chorrera from Bogotá\n",
      "Extracing activity 29\n",
      "Name: Private Bogotá City Tour + In&Out Transfer + (9 hours) \n",
      "Extracing activity 30\n",
      "Name: Guatavita Lagoon - Private Tour\n",
      "Extracing activity 31\n",
      "Name: Zipaquira Salt Cathedral Private Tour\n"
     ]
    },
    {
     "data": {
      "text/plain": [
       "[{'title': 'La Candelaria + Optional Monserrate + Optional Gold Museum Bogotá City Tour 5-7H',\n",
       "  'user': 'Gran Colombia Tours',\n",
       "  'duration': 'Duration: 5–7 hours',\n",
       "  'country': 'Things to Do in Bogota',\n",
       "  'description': 'Gain a comprehensive overview of Colombia’s capital on this private tour that combines museum visits, cultural workshops, and city sightseeing all in one convenient package. Benefit from your guide’s personalized insights as you explore top landmarks including Monserrate and Bolivar Square, then get a more intimate glimpse of Colombia’s economy and culture. Tastings, tickets, and round-trip transfers are included in the price.\\nYou’are be able to choose between a 7-hour tour including Monserrate, Gold Museum and Botero Museum, or a 5-hour tour which includes only Monserrate or museums.',\n",
       "  'tags': 'Cultural Tours',\n",
       "  'images': 'http://media-cdn.tripadvisor.com/media/photo-s/1b/4f/61/0b/caption.jpg'},\n",
       " {'title': 'Bogotá Bike Tour',\n",
       "  'user': 'Bogota Bike Tours',\n",
       "  'duration': 'Duration: 4h',\n",
       "  'country': 'Things to Do in Bogota',\n",
       "  'description': 'Energetic Bogotá has grabbed global headlines as a bike-friendly city, but finding the best routes can be a challenge for first-time visitors. Grab a bike to explore the city with a guide to lead the way, pedaling through La Candelaria, Plaza de Toros, and neighborhoods with colorful street art. Break up the mostly-flat route with stops at a fresh fruit market and a coffee factory.',\n",
       "  'tags': 'Bike & Mountain Bike Tours',\n",
       "  'images': 'http://media-cdn.tripadvisor.com/media/photo-s/1a/5f/ad/c8/caption.jpg'},\n",
       " {'title': 'Divercity Bogotá Admission Ticket',\n",
       "  'user': 'Activity N/A',\n",
       "  'duration': 'Duration: 4–8 hours',\n",
       "  'country': 'Things to Do in Bogota',\n",
       "  'description': 'Activity N/A',\n",
       "  'tags': 'Attraction Tickets',\n",
       "  'images': 'http://media-cdn.tripadvisor.com/media/photo-s/1b/6b/73/50/caption.jpg'},\n",
       " {'title': 'The Bogotá food experience ',\n",
       "  'user': 'The True Colombian Experience',\n",
       "  'duration': 'Duration: 3–4 hours',\n",
       "  'country': 'Things to Do in Bogota',\n",
       "  'description': 'we visit 7 places where we try food from 7 diferent Regions of Colombia and also we have the oportunity of to cook our own empanadas.\\n\\nThe perfect way to get in touch with the culture, history and the flavours of Colombia. It’s a very natural way to be together with the native people and interact with them; at the market and the local house for example. We get to know more about Colombian cuisine because bogota is a capital where all the Colombian people do live; so you really get the opportunity of to try traditional Colombian food from all around Colombian just in one city. Perfect for to know colombia in one afternoon. By the true Colombian food.\\n\\nthis experience is friendly with vegetarian people.\\n\\n',\n",
       "  'tags': 'Luxury Tours',\n",
       "  'images': 'http://media-cdn.tripadvisor.com/media/photo-s/1a/60/ec/77/caption.jpg'},\n",
       " {'title': 'Cruise Bogota gay district',\n",
       "  'user': 'Juan Benitez',\n",
       "  'duration': 'Duration: 90–120 minutes',\n",
       "  'country': 'Things to Do in Bogota',\n",
       "  'description': \"Colombia is one of the most advanced countries in latin america in reference to legal protection and equal rights for the LGBTQ community. Then is not surprising to find in Bogota hundreds (right, hundreds) of places for gay entertainment (from mild to wild).\\nTogether, I'll help you to locate around 30 places! Telling you tips about them. When we finish and you decide the one that suits you best, I'm taking you back to it so you can have a blast!\\nThis experience is packed with stories about the neighborhood, security tips and descriptions about the places we are going to spot.\\nI know most of them because of my previous work at a gay rights related foundation.\\nWith this information you can choose the place that suits you to have fun with the locals\\nWhere to go? What to do? Where is safe? What NOT to do?\\nI can reply those and a lot more questions on our way.\\nWe’ll start sharing stories about lourdes square. Then a couple of blocks ahead we’ll discover the colombian equivalent of the ABS, after that we’ll see a gay hotel nearby, later we’ll spot a few bars, a BH and we’ll finish at the largest gay disco in the world.\",\n",
       "  'tags': 'Cultural Tours',\n",
       "  'images': 'http://media-cdn.tripadvisor.com/media/photo-s/1a/84/f0/a5/caption.jpg'},\n",
       " {'title': 'Graffiti Tour in La Candelaria Bogotá',\n",
       "  'user': 'Gran Colombia Tours',\n",
       "  'duration': 'Duration: 3h',\n",
       "  'country': 'Things to Do in Bogota',\n",
       "  'description': 'Bogotá has become a world reference in graffiti. It boasts impressive murals and street art that place it above cities like Miami, Amsterdam, Río, and México City. Its rise as one of the key city-canvases in Latin America has made it an attractive destination for the curious tourist and the bold artist. Would you have guessed?\\n\\nAs with graffiti everywhere else, Bogotá’s history with the art has often been tense. But great art can overcome negative labels. Right now, no one would call it vandalism. It has struggled but has earned its place and the city is better for it. The mixture of social and political commentary with a twist of local and foreign styles make Bogotá’s graffiti truly a sight to behold.\\n\\nJoin us in this tour not only of Colombia’s history as told by art but a tour of Bogotá as a curated museum of amazing artists!\\n\\n',\n",
       "  'tags': 'Cultural Tours',\n",
       "  'images': 'http://media-cdn.tripadvisor.com/media/photo-s/1b/31/52/45/caption.jpg'},\n",
       " {'title': 'Cloud Forest and Waterfall Hike',\n",
       "  'user': 'Andes EcoTours',\n",
       "  'duration': 'Duration: 5h',\n",
       "  'country': 'Things to Do in Bogota',\n",
       "  'description': 'Journey with us through green and lush mountain trails as we discover a land filled with waterfalls, biodiversity and a rich local farming culture. Make your way up these high mountains while looking out for orchids deep within the Andean forest. Learn about the use of medicinal native plants and try out fresh milk at the end of this interpretative hike. Located about 45 minutes from Bogotá, Aguadulce is a rural village in Choachí that sits at 3100 m.a.s.l. within a lush Andean cloud forest. Note: This tour does not visit overcrowded La Chorrera. ',\n",
       "  'tags': 'Day Trips',\n",
       "  'images': 'http://media-cdn.tripadvisor.com/media/photo-s/1a/64/80/d6/caption.jpg'},\n",
       " {'title': 'Dancing vacation tour',\n",
       "  'user': 'Son Rumbero',\n",
       "  'duration': 'Duration: 4 days',\n",
       "  'country': 'Things to Do in Bogota',\n",
       "  'description': 'A pleasant experience that teaches you to dance the Latin rhythms you want and then dance hard in the best locations in the cities we visit. Dance lesson, beach, pool, city tour, nigth tour on bar or dicoteque, social dance, and more.',\n",
       "  'tags': 'Ports of Call Tours',\n",
       "  'images': 'http://media-cdn.tripadvisor.com/media/photo-s/1b/f6/25/8f/caption.jpg'},\n",
       " {'title': 'Private Salt Cathedral and Nemocón Salt Mines + In & out Transfer + (8 hours)',\n",
       "  'user': 'Activivity N/A',\n",
       "  'duration': 'Activiy N/A',\n",
       "  'country': 'Things to Do in Bogota',\n",
       "  'description': 'Activity N/A',\n",
       "  'tags': 'Cultural Tours',\n",
       "  'images': 'http://media-cdn.tripadvisor.com/media/photo-s/1a/83/ea/d2/caption.jpg'},\n",
       " {'title': 'Botero Museum Admission Ticket and Private Guided Tour',\n",
       "  'user': 'Museo de Arte del Banco de la Republica',\n",
       "  'duration': 'Duration: 1h',\n",
       "  'country': 'Things to Do in Bogota',\n",
       "  'description': 'Activity N/A',\n",
       "  'tags': 'Attraction Tickets',\n",
       "  'images': 'http://media-cdn.tripadvisor.com/media/photo-s/1a/d3/37/f1/caption.jpg'},\n",
       " {'title': 'Skip the Line: Gold Museum (Museo del Oro) Ticket and Private Guided Tour',\n",
       "  'user': 'Museo de Arte del Banco de la Republica',\n",
       "  'duration': 'Duration: 1h',\n",
       "  'country': 'Things to Do in Bogota',\n",
       "  'description': 'Activity N/A',\n",
       "  'tags': 'Attraction Tickets',\n",
       "  'images': 'http://media-cdn.tripadvisor.com/media/photo-s/1a/8e/65/b9/caption.jpg'},\n",
       " {'title': 'Mystic Wellness • Spa and Wellness Day at the Salt Cathedral',\n",
       "  'user': 'Green Trails',\n",
       "  'duration': 'Duration: 8h',\n",
       "  'country': 'Things to Do in Bogota',\n",
       "  'description': 'Immerse yourself in the depths of the Salt Cathedral of Zipaquirá and live an exclusive experience of well-being and relaxation 180 meters underground in the Esensal Spa, a unique wonder in Colombia',\n",
       "  'tags': 'Historical & Heritage Tours',\n",
       "  'images': 'http://media-cdn.tripadvisor.com/media/photo-s/1b/43/b3/3b/caption.jpg'},\n",
       " {'title': 'Rent a local friend in Bogota',\n",
       "  'user': 'Activivity N/A',\n",
       "  'duration': 'Activiy N/A',\n",
       "  'country': 'Things to Do in Bogota',\n",
       "  'description': 'Activity N/A',\n",
       "  'tags': 'Day Trips',\n",
       "  'images': 'http://media-cdn.tripadvisor.com/media/photo-s/1b/46/15/60/caption.jpg'},\n",
       " {'title': 'Tour to the Salt Mines in Nemocon and Andrés Carne De Res (Private Tour)',\n",
       "  'user': 'Transfers & Tours',\n",
       "  'duration': 'Duration: 6h',\n",
       "  'country': 'Things to Do in Bogota',\n",
       "  'description': 'Enjoy your afternoon and evening visiting two of the most famous places in Colombia. Discover the architectural profile of the Nemocon Salt Mine, one of the underground wonders where salt is produced at 196 feet (60 m) below the surface of the earth. Later we leave to feel the rhythm of Colombian music in Andrés Carne de Res in Chía, eating and enjoying dishes of the typical Colombian cuisine and shaking your body to the rhythm of the music.',\n",
       "  'tags': 'Cultural Tours',\n",
       "  'images': 'http://media-cdn.tripadvisor.com/media/photo-s/1a/56/a0/08/caption.jpg'},\n",
       " {'title': \"D 'Fiesta For Bogotá. Enjoy the night knowing the rumba in Bogotá\",\n",
       "  'user': 'Odretours',\n",
       "  'duration': 'Duration: 4h',\n",
       "  'country': 'Things to Do in Bogota',\n",
       "  'description': 'Your reservation is final and is guaranteed if it is for at least two (2) people.\\nWe do it for small groups and in vans of maximum 10 passengers.\\nThis allows you to make better use of your time, park everywhere and make the experience more enjoyable.\\nWe take a panoramic tour of the main neighborhoods and places of the rumba of Bogotá such as: Mirador de La Calera, Zona Rosa, Zona T, Parque de la 93.\\nIn each sector, passengers will be able to get off the transport to visit discos, bars and interact with other visitors.',\n",
       "  'tags': 'Cultural Tours',\n",
       "  'images': 'http://media-cdn.tripadvisor.com/media/photo-s/1a/8e/45/4e/caption.jpg'},\n",
       " {'title': 'Party Bus to gringo tuesday (zona rosa)',\n",
       "  'user': 'The True Colombian Experience',\n",
       "  'duration': 'Duration: 5h',\n",
       "  'country': 'Things to Do in Bogota',\n",
       "  'description': 'This is a special and unique tour as part of the fun is on the bus but the most important thing is to arrive at the gringo event on Tuesday.\\n\\nthis event is every Tuesday and it is in the pink zone.\\n\\nThe disco has 3 floors and about 4 different environments.\\n\\nthe rumba begins with a trip in the bus of about 30 minutes taking the cuba libres and then you will arrive at the disco where you can enjoy one of the best parties in Bogota. its international party; and what make it special is the only big party on a Tuesday.',\n",
       "  'tags': 'Nightlife',\n",
       "  'images': 'http://media-cdn.tripadvisor.com/media/photo-s/1a/82/94/59/caption.jpg'},\n",
       " {'title': 'Private tour to the Salt Mine of Nemocón and Salt Cathedral of Zipaquirá',\n",
       "  'user': 'Activivity N/A',\n",
       "  'duration': 'Activiy N/A',\n",
       "  'country': 'Things to Do in Bogota',\n",
       "  'description': 'Activity N/A',\n",
       "  'tags': 'Cultural Tours',\n",
       "  'images': 'http://media-cdn.tripadvisor.com/media/photo-s/1a/63/33/82/caption.jpg'},\n",
       " {'title': 'Private half day tour to Nemocon Salt Cathedral and village',\n",
       "  'user': 'The True Colombian Experience',\n",
       "  'duration': 'Duration: 5–6 hours',\n",
       "  'country': 'Things to Do in Bogota',\n",
       "  'description': 'we going to get deep in La Chorrera, Colombia´s highest waterfall, is closer than you have ever imagined. we also pass by a paramo in our way and stop for to take some pictures and enjoy the paramos de cruz verde; the idea is to know more about the native life and nature and also to walk around a high andian forest; A 590m wall of water will be in front of your eyes in a 1.5hs trekking tour where you can enjoy the Andean jungle. Take a refreshing shower with thousands of drops coming from the sky. the energetic land for to clean our souls. Come and see the colorful birds hidden at the top of the trees and breathe pure nature in this spectacular landscape. And if you love cheese, well this is the place for you to try a new one, produced by local farmers.',\n",
       "  'tags': 'Private Sightseeing Tours',\n",
       "  'images': 'http://media-cdn.tripadvisor.com/media/photo-s/1a/64/e4/f5/caption.jpg'},\n",
       " {'title': 'Private Hummingbird Watching Tour ',\n",
       "  'user': 'Medellin City Services',\n",
       "  'duration': 'Duration: 5h',\n",
       "  'country': 'Things to Do in Bogota',\n",
       "  'description': 'Take a private tour to visit Colombia´s salt capital any day of the week with bilingual private guide. Nemocon and its colonial heritage will captivate your senses as you walk around phenomenal architectural sceneries meeting friendly locals baking tasty treats. But just wait until you get to the salt mine, where you will be able to learn the salt production process employed since pre-hispanic ages as you explore around 1,600 meters of tunnels and chambers with particular light effects that will most probably amaze you.',\n",
       "  'tags': 'Bus & Minivan Tours',\n",
       "  'images': 'http://media-cdn.tripadvisor.com/media/photo-s/1a/59/73/6e/caption.jpg'},\n",
       " {'title': 'Salt Cathedral Zipaquira - Group tour and daily departure',\n",
       "  'user': 'Hansa Tours',\n",
       "  'duration': 'Duration: 3–5 hours',\n",
       "  'country': 'Things to Do in Bogota',\n",
       "  'description': \"Visit the biggest and most stunning hummingbird sanctuary, learn about them, about colombia's biodiversity and spend up to three hours by the hand of your private tour guide, who will let you know everything you need to know about these incredible animals. \",\n",
       "  'tags': 'Day Trips',\n",
       "  'images': 'http://media-cdn.tripadvisor.com/media/photo-s/1a/5b/39/37/caption.jpg'},\n",
       " {'title': 'Trail Running the Andes mountains. 20km.',\n",
       "  'user': 'Activivity N/A',\n",
       "  'duration': 'Activiy N/A',\n",
       "  'country': 'Things to Do in Bogota',\n",
       "  'description': 'Activity N/A',\n",
       "  'tags': '4WD, ATV & Off-Road Tours',\n",
       "  'images': 'http://media-cdn.tripadvisor.com/media/photo-s/1a/f1/75/6b/caption.jpg'},\n",
       " {'title': 'Salt Cathedral Zipaquira - Group tour and daily departure',\n",
       "  'user': 'Bogota Pass',\n",
       "  'duration': 'Duration: 6h',\n",
       "  'country': 'Things to Do in Bogota',\n",
       "  'description': 'Explore the Zipaquirá Salt Cathedral on this half-day Zipaquirá tour from Bogota. There are no rental car worries as transportation to and from your hotel is provided. Visit the salt mines and learn about their significance to Colombia, plus witness the salt collection process. Then, discover the Zipaquirá Salt Cathedral, carved into the walls of an abandoned mine.',\n",
       "  'tags': 'Day Trips',\n",
       "  'images': 'http://media-cdn.tripadvisor.com/media/photo-s/1a/5b/39/37/caption.jpg'},\n",
       " {'title': 'Shared Walking Tour in La Candelaria Bogotá',\n",
       "  'user': 'Gran Colombia Tours',\n",
       "  'duration': 'Duration: 3h',\n",
       "  'country': 'Things to Do in Bogota',\n",
       "  'description': 'Get a more intimate glimpse into the historic neighborhood of La Candelaria on a walking tour that offers a great introduction for travelers visiting Bogota for the first time. As well as offering the inside scoop on Bogota’s rich culture and history, this tour includes tastings of coffee, chicha, and fresh fruits.',\n",
       "  'tags': 'Cultural Tours',\n",
       "  'images': 'http://media-cdn.tripadvisor.com/media/photo-s/1a/ad/d9/77/caption.jpg'},\n",
       " {'title': 'Bogota Private 6 hours City Tour, Tickets, Coffee Break',\n",
       "  'user': 'Bogota Henry Tours',\n",
       "  'duration': 'Duration: 6h',\n",
       "  'country': 'Things to Do in Bogota',\n",
       "  'description': 'Bogota will surprise you! It is a cosmopolitan, bustling, modern and colonial city at the same time, which houses 8.5 million cheerful, kind, friendly, sociable and fun inhabitants. From the sector of large avenues and modern shopping centers in the north of the city to the colonial Bogota in La Candelaria, at the south center, it is a box of surprises!\\xa0\\n\\nThere is a lot to see in Bogotá: Make sure you have all the time you need to make a pleasant trip, that allows you to appreciate what the city looks like, what it tastes like, what it smells like, what everyday life is like ... ',\n",
       "  'tags': 'Cultural Tours',\n",
       "  'images': 'http://media-cdn.tripadvisor.com/media/photo-s/1a/60/ed/53/caption.jpg'},\n",
       " {'title': 'Bogota City Tour • Fruits & Coffee Tasting, Tejo Game, Local Lunch, Monserrate',\n",
       "  'user': 'Activivity N/A',\n",
       "  'duration': 'Activiy N/A',\n",
       "  'country': 'Things to Do in Bogota',\n",
       "  'description': 'Activity N/A',\n",
       "  'tags': 'Bus & Minivan Tours',\n",
       "  'images': 'http://media-cdn.tripadvisor.com/media/photo-s/1a/8b/dc/fa/caption.jpg'},\n",
       " {'title': 'Bogota Monserrate and Zipaquira Salt Cathedral',\n",
       "  'user': 'Cesar Augusto Cruz Perlaza',\n",
       "  'duration': 'Duration: 12h',\n",
       "  'country': 'Things to Do in Bogota',\n",
       "  'description': \"If you have just one day in Bogota or you want to save time during your trip, my tour is the best option because you are able to know the most important highlights; Mount Monserrate; beautiful church in a mountain and Zipaquira Salt Cathedral; the first natural wonder in Colombia, also every thing is included such as food (breakfast and snacks), entrance ticket to the attractions, pick up and drop off in whatever place, bilingual tour guide (English and Spanish) comfortable car with air conditioning. You just pay once and you will enjoy whole day in my city Bogota and my country Colombia. Besides, at night you may take a dinner in Andres Carne de Res, the most famous restaurant in Colombia with different kind of dishes for every taste (Food is not included inside this restaurant). Book my tour and I'll be for you, I'll help you out in your vacations and whatever thing you need during your journey.\",\n",
       "  'tags': 'Cultural Tours',\n",
       "  'images': 'http://media-cdn.tripadvisor.com/media/photo-s/1a/64/5d/36/caption.jpg'},\n",
       " {'title': 'Zipaquira Salt Cathedral Group Tour with Departure',\n",
       "  'user': 'Bogota City Bus',\n",
       "  'duration': 'Duration: 8h',\n",
       "  'country': 'Things to Do in Bogota',\n",
       "  'description': \"If you want to have an interesting and magical experience, being in this place will be wonderful. It is considered the First Wonder in Colombia because its structure is made all with Salt. Have you been in a building entirely made of salt before? Here you will be in one, and besides to how wonderful it is to feel the power of nature and the legacy of Latin American architecture, you will have the opportunity to feel a spiritual experience. Regardless of your religion, here you can connect with the greater forces of the nature and, if it is your style, you will ask yourself questions about the world's great mysteries. If you really want to enjoy and tell a lifetime experience, this is your place!\\n\",\n",
       "  'tags': 'Cultural Tours',\n",
       "  'images': 'http://media-cdn.tripadvisor.com/media/photo-s/1b/3d/a9/82/caption.jpg'},\n",
       " {'title': 'City Tour: Hidden Bogotá\\n',\n",
       "  'user': 'Paraíso Travels',\n",
       "  'duration': 'Duration: 9h',\n",
       "  'country': 'Things to Do in Bogota',\n",
       "  'description': 'Visit the hidden face of Bogotá, transit through its cobbled streets in history, go through mysterious passages and you will know another facet yet to be discovered from this huge capital city.',\n",
       "  'tags': 'Cultural Tours',\n",
       "  'images': 'http://media-cdn.tripadvisor.com/media/photo-s/1a/e1/0f/2a/caption.jpg'},\n",
       " {'title': 'Private Tour to the Nature Waterfall of La Chorrera from Bogotá',\n",
       "  'user': 'Activivity N/A',\n",
       "  'duration': 'Activiy N/A',\n",
       "  'country': 'Things to Do in Bogota',\n",
       "  'description': 'Activity N/A',\n",
       "  'tags': 'Attraction Tickets',\n",
       "  'images': 'http://media-cdn.tripadvisor.com/media/photo-s/1a/f1/48/9f/caption.jpg'},\n",
       " {'title': 'Private Bogotá City Tour + In&Out Transfer + (9 hours) ',\n",
       "  'user': 'Bogotown Tours',\n",
       "  'duration': 'Duration: 6–8 hours',\n",
       "  'country': 'Things to Do in Bogota',\n",
       "  'description': \"With this private personalized tour you will visit Bogota's historical district. Our specialized guides will teach you about Colombian culture. You will visit Monserrate and the most important museums of Colombia. We will also visit Usaquen a beautiful neighborhood in the wealthy northern part of the city. We will be your best friend in the city. \",\n",
       "  'tags': 'Cultural Tours',\n",
       "  'images': 'http://media-cdn.tripadvisor.com/media/photo-s/1a/83/d4/83/caption.jpg'},\n",
       " {'title': 'Guatavita Lagoon - Private Tour',\n",
       "  'user': 'Green Trails',\n",
       "  'duration': 'Duration: 6–7 hours',\n",
       "  'country': 'Things to Do in Bogota',\n",
       "  'description': 'Relive the fascinating history about how the Spanish conquerors, obsessed with gold and inspired by the histories told by the indigenous people, would bring to America a multitude of mercenaries and adventurous people seeking for infinite wealth. ',\n",
       "  'tags': 'Cultural Tours',\n",
       "  'images': 'http://media-cdn.tripadvisor.com/media/photo-s/1b/3d/a9/8d/caption.jpg'},\n",
       " {'title': 'Zipaquira Salt Cathedral Private Tour',\n",
       "  'user': 'Green Trails',\n",
       "  'duration': 'Duration: 5–6 hours',\n",
       "  'country': 'Things to Do in Bogota',\n",
       "  'description': 'Explore the man-made wonder created by salt miners as a prove of devotion, in a private daytrip to Zipaquirá, next to a local expert, to understand the relevance of the Salt for the people & cultures who have been inhabiting the city since pre-Columbian times.',\n",
       "  'tags': 'Historical & Heritage Tours',\n",
       "  'images': 'http://media-cdn.tripadvisor.com/media/photo-s/1b/3d/a9/8a/caption.jpg'}]"
      ]
     },
     "execution_count": 184,
     "metadata": {},
     "output_type": "execute_result"
    }
   ],
   "source": [
    "new_content = content_information(s_bogota, bogota_activities)\n",
    "#print(new_content)\n",
    "results_per_activity = organize_info(new_content)\n",
    "results_per_activity\n"
   ]
  },
  {
   "cell_type": "code",
   "execution_count": 97,
   "metadata": {
    "collapsed": true
   },
   "outputs": [
    {
     "data": {
      "text/plain": [
       "(['Gain a comprehensive overview of Colombia’s capital on this private tour that combines museum visits, cultural workshops, and city sightseeing all in one convenient package. Benefit from your guide’s personalized insights as you explore top landmarks including Monserrate and Bolivar Square, then get a more intimate glimpse of Colombia’s economy and culture. Tastings, tickets, and round-trip transfers are included in the price.\\nYou’are be able to choose between a 7-hour tour including Monserrate, Gold Museum and Botero Museum, or a 5-hour tour which includes only Monserrate or museums.',\n",
       "  'Energetic Bogotá has grabbed global headlines as a bike-friendly city, but finding the best routes can be a challenge for first-time visitors. Grab a bike to explore the city with a guide to lead the way, pedaling through La Candelaria, Plaza de Toros, and neighborhoods with colorful street art. Break up the mostly-flat route with stops at a fresh fruit market and a coffee factory.',\n",
       "  'Activity N/A',\n",
       "  'we visit 7 places where we try food from 7 diferent Regions of Colombia and also we have the oportunity of to cook our own empanadas.\\n\\nThe perfect way to get in touch with the culture, history and the flavours of Colombia. It’s a very natural way to be together with the native people and interact with them; at the market and the local house for example. We get to know more about Colombian cuisine because bogota is a capital where all the Colombian people do live; so you really get the opportunity of to try traditional Colombian food from all around Colombian just in one city. Perfect for to know colombia in one afternoon. By the true Colombian food.\\n\\nthis experience is friendly with vegetarian people.\\n\\n',\n",
       "  \"Colombia is one of the most advanced countries in latin america in reference to legal protection and equal rights for the LGBTQ community. Then is not surprising to find in Bogota hundreds (right, hundreds) of places for gay entertainment (from mild to wild).\\nTogether, I'll help you to locate around 30 places! Telling you tips about them. When we finish and you decide the one that suits you best, I'm taking you back to it so you can have a blast!\\nThis experience is packed with stories about the neighborhood, security tips and descriptions about the places we are going to spot.\\nI know most of them because of my previous work at a gay rights related foundation.\\nWith this information you can choose the place that suits you to have fun with the locals\\nWhere to go? What to do? Where is safe? What NOT to do?\\nI can reply those and a lot more questions on our way.\\nWe’ll start sharing stories about lourdes square. Then a couple of blocks ahead we’ll discover the colombian equivalent of the ABS, after that we’ll see a gay hotel nearby, later we’ll spot a few bars, a BH and we’ll finish at the largest gay disco in the world.\",\n",
       "  'Bogotá has become a world reference in graffiti. It boasts impressive murals and street art that place it above cities like Miami, Amsterdam, Río, and México City. Its rise as one of the key city-canvases in Latin America has made it an attractive destination for the curious tourist and the bold artist. Would you have guessed?\\n\\nAs with graffiti everywhere else, Bogotá’s history with the art has often been tense. But great art can overcome negative labels. Right now, no one would call it vandalism. It has struggled but has earned its place and the city is better for it. The mixture of social and political commentary with a twist of local and foreign styles make Bogotá’s graffiti truly a sight to behold.\\n\\nJoin us in this tour not only of Colombia’s history as told by art but a tour of Bogotá as a curated museum of amazing artists!\\n\\n',\n",
       "  'Journey with us through green and lush mountain trails as we discover a land filled with waterfalls, biodiversity and a rich local farming culture. Make your way up these high mountains while looking out for orchids deep within the Andean forest. Learn about the use of medicinal native plants and try out fresh milk at the end of this interpretative hike. Located about 45 minutes from Bogotá, Aguadulce is a rural village in Choachí that sits at 3100 m.a.s.l. within a lush Andean cloud forest. Note: This tour does not visit overcrowded La Chorrera. ',\n",
       "  'A pleasant experience that teaches you to dance the Latin rhythms you want and then dance hard in the best locations in the cities we visit. Dance lesson, beach, pool, city tour, nigth tour on bar or dicoteque, social dance, and more.',\n",
       "  'Activity N/A',\n",
       "  'Activity N/A',\n",
       "  'Activity N/A',\n",
       "  'Immerse yourself in the depths of the Salt Cathedral of Zipaquirá and live an exclusive experience of well-being and relaxation 180 meters underground in the Esensal Spa, a unique wonder in Colombia',\n",
       "  'Activity N/A',\n",
       "  'Enjoy your afternoon and evening visiting two of the most famous places in Colombia. Discover the architectural profile of the Nemocon Salt Mine, one of the underground wonders where salt is produced at 196 feet (60 m) below the surface of the earth. Later we leave to feel the rhythm of Colombian music in Andrés Carne de Res in Chía, eating and enjoying dishes of the typical Colombian cuisine and shaking your body to the rhythm of the music.',\n",
       "  'Your reservation is final and is guaranteed if it is for at least two (2) people.\\nWe do it for small groups and in vans of maximum 10 passengers.\\nThis allows you to make better use of your time, park everywhere and make the experience more enjoyable.\\nWe take a panoramic tour of the main neighborhoods and places of the rumba of Bogotá such as: Mirador de La Calera, Zona Rosa, Zona T, Parque de la 93.\\nIn each sector, passengers will be able to get off the transport to visit discos, bars and interact with other visitors.',\n",
       "  'This is a special and unique tour as part of the fun is on the bus but the most important thing is to arrive at the gringo event on Tuesday.\\n\\nthis event is every Tuesday and it is in the pink zone.\\n\\nThe disco has 3 floors and about 4 different environments.\\n\\nthe rumba begins with a trip in the bus of about 30 minutes taking the cuba libres and then you will arrive at the disco where you can enjoy one of the best parties in Bogota. its international party; and what make it special is the only big party on a Tuesday.',\n",
       "  'Activity N/A',\n",
       "  'we going to get deep in La Chorrera, Colombia´s highest waterfall, is closer than you have ever imagined. we also pass by a paramo in our way and stop for to take some pictures and enjoy the paramos de cruz verde; the idea is to know more about the native life and nature and also to walk around a high andian forest; A 590m wall of water will be in front of your eyes in a 1.5hs trekking tour where you can enjoy the Andean jungle. Take a refreshing shower with thousands of drops coming from the sky. the energetic land for to clean our souls. Come and see the colorful birds hidden at the top of the trees and breathe pure nature in this spectacular landscape. And if you love cheese, well this is the place for you to try a new one, produced by local farmers.',\n",
       "  'Take a private tour to visit Colombia´s salt capital any day of the week with bilingual private guide. Nemocon and its colonial heritage will captivate your senses as you walk around phenomenal architectural sceneries meeting friendly locals baking tasty treats. But just wait until you get to the salt mine, where you will be able to learn the salt production process employed since pre-hispanic ages as you explore around 1,600 meters of tunnels and chambers with particular light effects that will most probably amaze you.',\n",
       "  \"Visit the biggest and most stunning hummingbird sanctuary, learn about them, about colombia's biodiversity and spend up to three hours by the hand of your private tour guide, who will let you know everything you need to know about these incredible animals. \",\n",
       "  'Activity N/A',\n",
       "  'Explore the Zipaquirá Salt Cathedral on this half-day Zipaquirá tour from Bogota. There are no rental car worries as transportation to and from your hotel is provided. Visit the salt mines and learn about their significance to Colombia, plus witness the salt collection process. Then, discover the Zipaquirá Salt Cathedral, carved into the walls of an abandoned mine.',\n",
       "  'Get a more intimate glimpse into the historic neighborhood of La Candelaria on a walking tour that offers a great introduction for travelers visiting Bogota for the first time. As well as offering the inside scoop on Bogota’s rich culture and history, this tour includes tastings of coffee, chicha, and fresh fruits.',\n",
       "  'Bogota will surprise you! It is a cosmopolitan, bustling, modern and colonial city at the same time, which houses 8.5 million cheerful, kind, friendly, sociable and fun inhabitants. From the sector of large avenues and modern shopping centers in the north of the city to the colonial Bogota in La Candelaria, at the south center, it is a box of surprises!\\xa0\\n\\nThere is a lot to see in Bogotá: Make sure you have all the time you need to make a pleasant trip, that allows you to appreciate what the city looks like, what it tastes like, what it smells like, what everyday life is like ... ',\n",
       "  'Activity N/A',\n",
       "  \"If you have just one day in Bogota or you want to save time during your trip, my tour is the best option because you are able to know the most important highlights; Mount Monserrate; beautiful church in a mountain and Zipaquira Salt Cathedral; the first natural wonder in Colombia, also every thing is included such as food (breakfast and snacks), entrance ticket to the attractions, pick up and drop off in whatever place, bilingual tour guide (English and Spanish) comfortable car with air conditioning. You just pay once and you will enjoy whole day in my city Bogota and my country Colombia. Besides, at night you may take a dinner in Andres Carne de Res, the most famous restaurant in Colombia with different kind of dishes for every taste (Food is not included inside this restaurant). Book my tour and I'll be for you, I'll help you out in your vacations and whatever thing you need during your journey.\",\n",
       "  \"If you want to have an interesting and magical experience, being in this place will be wonderful. It is considered the First Wonder in Colombia because its structure is made all with Salt. Have you been in a building entirely made of salt before? Here you will be in one, and besides to how wonderful it is to feel the power of nature and the legacy of Latin American architecture, you will have the opportunity to feel a spiritual experience. Regardless of your religion, here you can connect with the greater forces of the nature and, if it is your style, you will ask yourself questions about the world's great mysteries. If you really want to enjoy and tell a lifetime experience, this is your place!\\n\",\n",
       "  'Visit the hidden face of Bogotá, transit through its cobbled streets in history, go through mysterious passages and you will know another facet yet to be discovered from this huge capital city.',\n",
       "  'Activity N/A',\n",
       "  \"With this private personalized tour you will visit Bogota's historical district. Our specialized guides will teach you about Colombian culture. You will visit Monserrate and the most important museums of Colombia. We will also visit Usaquen a beautiful neighborhood in the wealthy northern part of the city. We will be your best friend in the city. \",\n",
       "  'Relive the fascinating history about how the Spanish conquerors, obsessed with gold and inspired by the histories told by the indigenous people, would bring to America a multitude of mercenaries and adventurous people seeking for infinite wealth. ',\n",
       "  'Explore the man-made wonder created by salt miners as a prove of devotion, in a private daytrip to Zipaquirá, next to a local expert, to understand the relevance of the Salt for the people & cultures who have been inhabiting the city since pre-Columbian times.'],\n",
       " ['Gran Colombia Tours',\n",
       "  'Bogota Bike Tours',\n",
       "  'Activity N/A',\n",
       "  'The True Colombian Experience',\n",
       "  'Juan Benitez',\n",
       "  'Gran Colombia Tours',\n",
       "  'Andes EcoTours',\n",
       "  'Son Rumbero',\n",
       "  'Activivity N/A',\n",
       "  'Museo de Arte del Banco de la Republica',\n",
       "  'Museo de Arte del Banco de la Republica',\n",
       "  'Green Trails',\n",
       "  'Activivity N/A',\n",
       "  'Transfers & Tours',\n",
       "  'Odretours',\n",
       "  'The True Colombian Experience',\n",
       "  'Activivity N/A',\n",
       "  'The True Colombian Experience',\n",
       "  'Medellin City Services',\n",
       "  'Hansa Tours',\n",
       "  'Activivity N/A',\n",
       "  'Bogota Pass',\n",
       "  'Gran Colombia Tours',\n",
       "  'Bogota Henry Tours',\n",
       "  'Activivity N/A',\n",
       "  'Cesar Augusto Cruz Perlaza',\n",
       "  'Bogota City Bus',\n",
       "  'Paraíso Travels',\n",
       "  'Activivity N/A',\n",
       "  'Bogotown Tours',\n",
       "  'Green Trails',\n",
       "  'Green Trails'])"
      ]
     },
     "execution_count": 97,
     "metadata": {},
     "output_type": "execute_result"
    }
   ],
   "source": [
    "test_users"
   ]
  },
  {
   "cell_type": "code",
   "execution_count": null,
   "metadata": {},
   "outputs": [],
   "source": []
  },
  {
   "cell_type": "markdown",
   "metadata": {},
   "source": [
    "### END TESTS"
   ]
  },
  {
   "cell_type": "code",
   "execution_count": null,
   "metadata": {},
   "outputs": [],
   "source": [
    "#print(links_top_attractions)\n",
    "activities_per_city_links = []\n",
    "results_per_city = []\n",
    "top_places = get_cities(url_country, url_scraping)\n",
    "for link in top_places: #Top places refers to the place: Bucaramanga, Cartagena, etc.\n",
    "    content_places = requests.get(link)\n",
    "    if content.status_code == 200:\n",
    "        s_content_places = BeautifulSoup(content_places.text,'lxml')\n",
    "        \n",
    "        activities_per_city_links = get_city_activities_link(link, url_scraping)\n",
    "        #  activities_per_city_ links = get_links_activities_final(link)\n",
    "        #print(activities_per_city_links)\n",
    "        results_per_city.append(content_information(s_content_places, activities_per_city_links))\n",
    "        #results_per_activity = get_activity_info(activities_content_links)\n",
    "        print(extract_information(results_per_city))"
   ]
  },
  {
   "cell_type": "markdown",
   "metadata": {},
   "source": [
    "# API"
   ]
  },
  {
   "cell_type": "markdown",
   "metadata": {},
   "source": [
    "### Class Definitions"
   ]
  },
  {
   "cell_type": "code",
   "execution_count": null,
   "metadata": {},
   "outputs": [],
   "source": [
    "pip install pydantic"
   ]
  },
  {
   "cell_type": "code",
   "execution_count": null,
   "metadata": {},
   "outputs": [],
   "source": [
    "from pydantic import BaseModel\n",
    "from enum import Enum\n",
    "\n",
    "class Country(str, Enum):\n",
    "    COLOMBIA = 'COLOMBIA'\n",
    "    MEXICO = 'MEXICO'\n",
    "\n",
    "class Configuration(BaseModel):\n",
    "    country: str = None\n",
    "    country_map = {\n",
    "        Country.COLOMBIA:'https://www.tripadvisor.com/Attractions-g294073-Activities-Colombia.html',\n",
    "        Country.MEXICO:'https://www.tripadvisor.com/Attractions-g150768-Activities-Mexico.html'\n",
    "    }\n",
    "    \n",
    "    city\n",
    "\n",
    "    def get_url(self):\n",
    "        return self.country_map[self.country]"
   ]
  },
  {
   "cell_type": "markdown",
   "metadata": {},
   "source": [
    "### MAIN"
   ]
  },
  {
   "cell_type": "code",
   "execution_count": null,
   "metadata": {},
   "outputs": [],
   "source": [
    "config = Configuration(\n",
    "        country= 'COLOMBIA' #I'm passing this argument from the path that the user use\n",
    "    )\n",
    "print(config.get_url())\n",
    "config.country"
   ]
  },
  {
   "cell_type": "markdown",
   "metadata": {},
   "source": [
    "## Output format\n",
    "{\n",
    "  \"title\": \"heroku post in heroku 22\",\n",
    "  \"user\": \"5f9a30fcb0163b0017ee7ac1\",\n",
    "  \"date\": \"10/28/2020\",\n",
    "  \"duration\": \"1 hora\",\n",
    "  \"country\": \"mexico\",\n",
    "  \"location\": \"guadalajara\",\n",
    "  \"description\": \"lorem lalalalalalalalala\",\n",
    "  \"rating\": \"5\",\n",
    "  \"tags\": \"ciudad\",\n",
    "  \"image\": \"https://i.blogs.es/594843/chrome/450_1000.jpg\"\n",
    "}"
   ]
  },
  {
   "cell_type": "code",
   "execution_count": 9,
   "metadata": {},
   "outputs": [
    {
     "ename": "NameError",
     "evalue": "name 'get_cities' is not defined",
     "output_type": "error",
     "traceback": [
      "\u001b[0;31m---------------------------------------------------------------------------\u001b[0m",
      "\u001b[0;31mNameError\u001b[0m                                 Traceback (most recent call last)",
      "\u001b[0;32m<ipython-input-9-73365ee59d6f>\u001b[0m in \u001b[0;36m<module>\u001b[0;34m\u001b[0m\n\u001b[0;32m----> 1\u001b[0;31m \u001b[0mtop_places\u001b[0m \u001b[0;34m=\u001b[0m \u001b[0mget_cities\u001b[0m\u001b[0;34m(\u001b[0m\u001b[0murl_country\u001b[0m\u001b[0;34m,\u001b[0m \u001b[0murl_scraping\u001b[0m\u001b[0;34m)\u001b[0m\u001b[0;34m\u001b[0m\u001b[0;34m\u001b[0m\u001b[0m\n\u001b[0m",
      "\u001b[0;31mNameError\u001b[0m: name 'get_cities' is not defined"
     ]
    }
   ],
   "source": [
    "top_places = get_cities(url_country, url_scraping)"
   ]
  },
  {
   "cell_type": "markdown",
   "metadata": {},
   "source": [
    "# SCRAPY"
   ]
  },
  {
   "cell_type": "code",
   "execution_count": null,
   "metadata": {},
   "outputs": [],
   "source": [
    "try:\n",
    "    import scrapy\n",
    "except:\n",
    "    !pip3 install scrapy\n",
    "    import scrapy"
   ]
  },
  {
   "cell_type": "code",
   "execution_count": null,
   "metadata": {},
   "outputs": [],
   "source": [
    "class Spidertrip(scrapy.Spider):\n",
    "    name = 'spidertrip'\n",
    "    allowed_domains = ['tripadvisor.com']\n",
    "    custom_settings = {'FEED_FORMAT': 'json', \n",
    "                      'FEED_URI':'results.json'}\n",
    "    #start_urls = "
   ]
  },
  {
   "cell_type": "code",
   "execution_count": null,
   "metadata": {},
   "outputs": [],
   "source": []
  }
 ],
 "metadata": {
  "kernelspec": {
   "display_name": "Python 3",
   "language": "python",
   "name": "python3"
  },
  "language_info": {
   "codemirror_mode": {
    "name": "ipython",
    "version": 3
   },
   "file_extension": ".py",
   "mimetype": "text/x-python",
   "name": "python",
   "nbconvert_exporter": "python",
   "pygments_lexer": "ipython3",
   "version": "3.6.9"
  }
 },
 "nbformat": 4,
 "nbformat_minor": 2
}
