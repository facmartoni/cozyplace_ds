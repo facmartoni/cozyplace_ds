{
 "cells": [
  {
   "cell_type": "code",
   "execution_count": 65,
   "metadata": {
    "scrolled": false
   },
   "outputs": [
    {
     "data": {
      "text/plain": [
       "['http://www.tripadvisor.com/Hotels',\n",
       " 'http://www.tripadvisor.com/Rentals',\n",
       " 'http://www.tripadvisor.com/Attractions',\n",
       " 'http://www.tripadvisor.com/Restaurants',\n",
       " 'http://www.tripadvisor.com/UserReview',\n",
       " 'http://www.tripadvisor.com/ForumHome']"
      ]
     },
     "execution_count": 65,
     "metadata": {},
     "output_type": "execute_result"
    }
   ],
   "source": [
    "import requests\n",
    "from bs4 import BeautifulSoup\n",
    "\n",
    "url_basic = 'https://www.tripadvisor.com/'\n",
    "tripadv = requests.get(url_basic)\n",
    "s_trip = BeautifulSoup(tripadv.text, 'lxml')\n",
    "sections = s_trip.find_all('div', attrs={'class':'_2R--RBNa _39kFrNls _2PEEtTWK _3_rLKjCx _3wprI9Ge _1_nbwDp3'})\n",
    "\n",
    "links_sections = []\n",
    "for section in sections:\n",
    "    if section.find('a'):\n",
    "        links_sections.append('http://www.tripadvisor.com'+section.find('a').get('href'))\n",
    "\n",
    "#sections[0].find('a').get('href')\n",
    "#links_sections = [section.find('a').get('href') for section in sections]\n",
    "links_sections\n",
    "\n",
    "#¿more is a button what should i do?"
   ]
  },
  {
   "cell_type": "code",
   "execution_count": 74,
   "metadata": {},
   "outputs": [
    {
     "name": "stdout",
     "output_type": "stream",
     "text": [
      "None\n"
     ]
    }
   ],
   "source": [
    "sections_adv = s_trip.find('div', attrs={'class':'_27pk-lCQ'})\n",
    "print(sections_adv)"
   ]
  },
  {
   "cell_type": "markdown",
   "metadata": {},
   "source": [
    "## SCRAPING TOP DESTINATIONS"
   ]
  },
  {
   "cell_type": "code",
   "execution_count": 97,
   "metadata": {
    "scrolled": false
   },
   "outputs": [
    {
     "data": {
      "text/plain": [
       "['http://www.tripadvisor.com/Attractions-g31350-Activities-Scottsdale_Arizona.html',\n",
       " 'http://www.tripadvisor.com/Attractions-g32655-Activities-Los_Angeles_California.html',\n",
       " 'http://www.tripadvisor.com/Attractions-g45963-Activities-Las_Vegas_Nevada.html',\n",
       " 'http://www.tripadvisor.com/Attractions-g60745-Activities-Boston_Massachusetts.html']"
      ]
     },
     "execution_count": 97,
     "metadata": {},
     "output_type": "execute_result"
    }
   ],
   "source": [
    "url_attractions = 'https://www.tripadvisor.com/Attractions'\n",
    "attractions = requests.get(url_attractions)\n",
    "s_attract = BeautifulSoup(attractions.text, 'lxml')\n",
    "top_destinations = s_attract.find('div', attrs={'data-track-label':'popular_destinations'}).find_all('div', attrs={'class':'poi ui_shelf_item_container ui_geo_shelf_item'})\n",
    "links_top_attractions = []\n",
    "for destination in top_destinations:\n",
    "    if destination.find('a'):\n",
    "        links_top_attractions.append('http://www.tripadvisor.com'+destination.find('a').get('href'))\n",
    "        \n",
    "#links_top_attractions\n",
    "\n",
    "links_top_attractions\n",
    "\n"
   ]
  },
  {
   "cell_type": "code",
   "execution_count": 176,
   "metadata": {},
   "outputs": [],
   "source": [
    "def content_info(soup):\n",
    "    #for link in links_top_attractions:\n",
    "    dir_results = {}\n",
    "    try:\n",
    "        \n",
    "        #Extracting title\n",
    "        title = soup.find('div', attrs = {'class':'_1l9azAvU'})\n",
    "        if title is not None:\n",
    "            dir_results['title'] = title.h1.text\n",
    "            \n",
    "        else:\n",
    "            title = soup.find('div', attrs={'class':'display_center ui_container'})\n",
    "            if title is not None:\n",
    "                dir_results['title'] = title.h1.text\n",
    "            else:\n",
    "                dir_results['title'] = None\n",
    "        \n",
    "        #Extracting Activities\n",
    "        #fix it for Boston\n",
    "        activities = soup.find_all('span', attrs = {'class':'_2e_OvRJN'})\n",
    "                \n",
    "        if activities is not None:\n",
    "            activities_list = [activitie.h3.text for activitie in activities]\n",
    "            dir_results['activities'] = activities_list\n",
    "        else:  \n",
    "            print('paila')\n",
    "            activities = soup.find_all('div', attrs = {'class':'_1lY2qyk3'})\n",
    "            \n",
    "            if activities is not None:\n",
    "                activities_list = [activitie.h3.text for activitie in activities]\n",
    "                dir_results['activities'] = activities_list\n",
    "            else:\n",
    "                dir_results['activities'] = None\n",
    "                \n",
    "        #Extracting Images\n",
    "        media_content = soup.find_all('a', attrs={'class':'_1zqXepI-'})\n",
    "        if media_content:\n",
    "            src_lists = [media.find('img').get('src') for media in media_content]\n",
    "            print(src_lists)\n",
    "        \n",
    "        \n",
    "        print(dir_results)\n",
    "                                         \n",
    "          \n",
    "    except Exception as e:\n",
    "        print('Error')\n",
    "        print(e)\n",
    "        print('\\n')\n",
    "        \n",
    "\n",
    " "
   ]
  },
  {
   "cell_type": "markdown",
   "metadata": {},
   "source": []
  },
  {
   "cell_type": "code",
   "execution_count": 173,
   "metadata": {
    "collapsed": true
   },
   "outputs": [
    {
     "name": "stdout",
     "output_type": "stream",
     "text": [
      "['Boston Old Town Hop On Hop Off Trolley Tour', 'Boston Tea Party Ships & Museum Admission', 'Boston Classic: Duck Boat Sightseeing Tour', 'Boston Ghosts & Gravestones Night-Time Trolley Tour', \"Martha's Vineyard Day Trip from Boston with Optional Island Tour (Small Group)\", 'Walking Tour of Freedom Trail History (Small Group)', 'New England Aquarium Admission in Boston', 'Go Boston All-Inclusive Pass', 'Boston Odyssey Dinner Cruise', 'Sightseeing Day Sail around Boston Harbor', 'Sunset Cruise', 'Boston Odyssey Dinner Cruise', 'Secret Boston Vip Tour', \"Boston's North End Small-Group Walking Food Tour\", \"Fresh Pasta Making Lesson in Boston's North End (Homemade Pasta in Little Italy)\", 'Classic Bites of Boston Food Tour', 'Day Trip to Boston & Woodbury Common Premium Outlets.', 'Boston Instagram Tour: Most Famous Spots (Private & All-Inclusive)', 'Boston Walk Through History Private Tour All-Inclusive', 'Boston to Plymouth Small Group Day-Trip with Plimoth Plantation & Mayflower II', 'Historic Discovery Guided Boston Mini-Bus Tour', \"Boston's Freedom Trail GPS Self-Guided Audio Walk on Your Phone.\", \"Boston's Freedom Trail, 3 tours in 1, Smart Phone Guided Tour (GPS) - go anytime\", \"Boston's Freedom Trail - Smart Phone guided (GPS) walking tour - go anytime\", 'Private Historical Day Tour from Boston with Private Driver', \"The Ghosts of Boston's Past Haunted Self-guided Tour\", 'Historic Boston Crime Tours - North End Tour', 'Boston Freedom Trail Self-Guided Walking Tour', 'Day Trip to Boston & Woodbury Common Premium Outlets.', 'Day Trip to Boston & Woodbury Common Premium Outlets.', 'The Art of Paul Pedulla', 'Hire Photographer, Professional Photo shoot - Boston']\n"
     ]
    }
   ],
   "source": [
    "content_test = requests.get('https://www.tripadvisor.com/Attractions-g60745-Activities-Boston_Massachusetts.html')\n",
    "if content.status_code == 200:\n",
    "    s_content_test = BeautifulSoup(content_test.text,'lxml')\n",
    "    activities_test = s_content_test.find_all('div', attrs = {'class':'_1lY2qyk3'})\n",
    "    activities_list = [activitie.h3.text for activitie in activities_test]\n",
    "    print(activities_list)"
   ]
  },
  {
   "cell_type": "markdown",
   "metadata": {},
   "source": [
    "### CALL CONTENT_INFO"
   ]
  },
  {
   "cell_type": "code",
   "execution_count": 177,
   "metadata": {},
   "outputs": [
    {
     "name": "stdout",
     "output_type": "stream",
     "text": [
      "[None, None, None, None, None, None, None, None, None, None, None, None, None, None, None, None, None, None, None, None]\n",
      "{'title': 'Things to Do in Scottsdale', 'activities': ['Sonoran Desert Jeep Tour at Sunset', 'Medieval Times Dinner & Tournament Admission Ticket in Scottsdale', '2-Hour Scottsdale Segway Tours - 10am Departure', 'Half Day Sonoran Desert Mountain Biking Tour', 'Phoenix Indoor Skydiving Experience with 2 Flights & Personalized Certificate', '1-Hour Private Chemical Lab Escape Room Experience', 'Grand Canyon and Sedona Day Adventure from Scottsdale or Phoenix', '1.5 Hour Scottsdale Segway Tour', '2-Hour Arizona Desert Guided E-Bike Tour', '2-Person Guided U-Drive ATV Sand Buggy Tour', 'Sonoran Desert 2 Hour Guided ATV Adventure', 'Sonoran Desert Jeep Tour - Morning or Afternoon', 'Party Bike Pub Crawl of Old Town Scottsdale', 'Horse Country Estate and Vineyard Wine Tasting Tour', 'Arizona Food Tours- A Taste of Old Town Scottsdale ', 'H2 Hummer VIP Sunset Wine and Cheese Tour for Couples ', 'Small-Group or Private Deluxe Phoenix and Scottsdale Day Trip', '2-Hour Scottsdale Segway Tours - 4pm Departure', 'Scottsdale Segway Tour - Evening', 'Grand Canyon and Sedona Day Tour from Phoenix']}\n",
      "[None, None, None, None, None, None, None, None, None, None, None, None, None, None, None, None, None, None, None, None, None, None, None, None, None, None]\n",
      "{'title': 'Things to Do in Los Angeles', 'activities': ['Hollywood Sightseeing and Celebrity Homes Tour by Open-Top Bus', 'Private Helicopter Tour over Long Beach and Los Angeles', 'Griffith Park Experience: Hollywood Hills Hike', 'Swan Boat Rental in Echo Park', 'Museum of Illusions OR Upside Down House Ticket', 'DTLA Murder Mystery Ghost Tour', '1 Hour 30 Minutes Venice Beach Surf Lesson', 'West Hollywood Food Tour', 'Perfect 5 ½ Hour LA & Hollywood Tour from Santa Monica', 'Full-Day Iconic Sights of LA, Hollywood, Beverly Hills, the Beaches and More', 'Horseback Riding near the Hollywood Sign with Transportation from Anaheim', 'Deluxe Los Angeles 5-Hour Limo Tour with Drinks Included', '3 Hours Los Angeles VIP Tour', \"Hollywood Tours & Celebrity Homes - 'The Original Hollywood Tour' - Open Air Bus\", 'Los Angeles Hop-On Hop-Off Double-Decker Bus Tour', 'Small Group Electric Bicycle Tour of Santa Monica and Venice Beach', 'Self-Guided Outdoor Tour Experience', 'Madame Tussauds Hollywood Admission Ticket', 'Hollywood Wax Museum & Guinness World Records Museum Combo Admission', 'Best Ferrari California Tour to Hollywood Sign', 'Skip the Line: Express Ticket at Universal Studios Hollywood', 'The VIP Experience at Universal Studios Hollywood', 'Universal Studios Hollywood General Admission Ticket', \"Hollywood Tours & Celebrity Homes - 'The Original Hollywood Tour' - Open Air Bus\", 'Hollywood and Beverly Hills Celebrity Homes Tours', '30 Mins FERRARI CALIFORNIA DRIVING TOUR TO HOLLYWOOD SIGN ']}\n",
      "[None, None, None, None, None, None, None, None, None, None, None, None, None, None, None, None, None, None, None, None, None, None, None, None]\n",
      "{'title': 'Things to Do in Las Vegas', 'activities': ['The High Roller at The LINQ Ticket', 'Las Vegas Helicopter Night Flight with Optional VIP Transportation', 'Las Vegas Super Saver: Madame Tussauds with Gondola Boat Ride', 'Fly LINQ Zipline at The LINQ', 'Grand Canyon West Rim with Optional Skywalk Ticket and Hoover Dam Photo Stop', 'Emerald Cave Kayak Tour on The Colorado River from Las Vegas', 'Big Bus Las Vegas Hop-On Hop-Off Tour', 'Masters of Magic Show Tickets at Las Vegas Magic Theater', 'Extreme RZR Tour of Hidden Valley and Primm from Las Vegas', 'Grand Canyon West Rim Bus Tour from Las Vegas with Optional Upgrades', 'Las Vegas Hot Air Balloon Ride', 'Grand Canyon South Rim Bus Tour', 'Madame Tussauds Las Vegas Admission Ticket', 'Eiffel Tower Viewing Deck at Paris Las Vegas', 'Las Vegas Mob Museum Admission Ticket', 'Stratosphere Tower Observation Deck Ticket', 'Historic Downtown Walking Tour in Las Vegas', 'Private Tour: 7-Day Highlight Tour of Southwest Mighty Five', \"Skip the Line: Dimmare's Martinis and Magic® Ticket\", 'Red Rock Canyon Small Group Guided Tour', 'Mystère by Cirque du Soleil at Treasure Island Hotel & Casino', 'KÀ™ by Cirque du Soleil® at the MGM Grand Hotel and Casino', 'The Beatles™ LOVE™ by Cirque du Soleil® at the Mirage Hotel and Casino', '\"O™\" by Cirque du Soleil® at the Bellagio Hotel and Casino']}\n",
      "Error\n",
      "local variable 'src_lists' referenced before assignment\n",
      "\n",
      "\n"
     ]
    }
   ],
   "source": [
    "for link in links_top_attractions:\n",
    "    content = requests.get(link)\n",
    "    if content.status_code == 200:\n",
    "        s_content = BeautifulSoup(content.text,'lxml')\n",
    "        content_info(s_content)"
   ]
  },
  {
   "cell_type": "markdown",
   "metadata": {},
   "source": [
    "# SCRAPY"
   ]
  },
  {
   "cell_type": "code",
   "execution_count": 7,
   "metadata": {},
   "outputs": [],
   "source": [
    "try:\n",
    "    import scrapy\n",
    "except:\n",
    "    !pip3 install scrapy\n",
    "    import scrapy"
   ]
  },
  {
   "cell_type": "code",
   "execution_count": 12,
   "metadata": {},
   "outputs": [],
   "source": [
    "class Spidertrip(scrapy.Spider):\n",
    "    name = 'spidertrip'\n",
    "    allowed_domains = ['tripadvisor.com']\n",
    "    custom_settings = {'FEED_FORMAT': 'json', \n",
    "                      'FEED_URI':'results.json'}\n",
    "    #start_urls = "
   ]
  },
  {
   "cell_type": "code",
   "execution_count": null,
   "metadata": {},
   "outputs": [],
   "source": []
  }
 ],
 "metadata": {
  "kernelspec": {
   "display_name": "Python 3",
   "language": "python",
   "name": "python3"
  },
  "language_info": {
   "codemirror_mode": {
    "name": "ipython",
    "version": 3
   },
   "file_extension": ".py",
   "mimetype": "text/x-python",
   "name": "python",
   "nbconvert_exporter": "python",
   "pygments_lexer": "ipython3",
   "version": "3.6.9"
  }
 },
 "nbformat": 4,
 "nbformat_minor": 2
}
